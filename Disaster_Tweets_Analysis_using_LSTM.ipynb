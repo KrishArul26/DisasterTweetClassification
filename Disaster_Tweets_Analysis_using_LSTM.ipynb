{
  "nbformat": 4,
  "nbformat_minor": 0,
  "metadata": {
    "colab": {
      "name": "Disaster_Tweets_Analysis_using_LSTM.ipynb",
      "provenance": []
    },
    "kernelspec": {
      "name": "python3",
      "display_name": "Python 3"
    },
    "language_info": {
      "name": "python"
    },
    "accelerator": "GPU"
  },
  "cells": [
    {
      "cell_type": "markdown",
      "metadata": {
        "id": "D1wRNGt49vOH"
      },
      "source": [
        "### **Disaster Tweets Analysis using LSTM**"
      ]
    },
    {
      "cell_type": "code",
      "metadata": {
        "id": "HwI7fE7s9qVO"
      },
      "source": [
        "import numpy as np\n",
        "import pandas as pd\n",
        "import matplotlib.pyplot as plt\n",
        "import seaborn as sns\n"
      ],
      "execution_count": 1,
      "outputs": []
    },
    {
      "cell_type": "code",
      "metadata": {
        "id": "t3s8S_puA2Zd"
      },
      "source": [
        "#Read the dataset from GitHub\n",
        "data_url=\"https://raw.githubusercontent.com/KrishArul26/Data_set/main/Disaster_Tweet_train.csv\"\n",
        "data=pd.read_csv(data_url,sep=\",\")"
      ],
      "execution_count": 2,
      "outputs": []
    },
    {
      "cell_type": "code",
      "metadata": {
        "colab": {
          "base_uri": "https://localhost:8080/",
          "height": 195
        },
        "id": "a7wyv8XcA2cQ",
        "outputId": "6cfd29cc-9a79-44ea-e855-d42e9f9aee00"
      },
      "source": [
        "data.head()"
      ],
      "execution_count": 3,
      "outputs": [
        {
          "output_type": "execute_result",
          "data": {
            "text/html": [
              "<div>\n",
              "<style scoped>\n",
              "    .dataframe tbody tr th:only-of-type {\n",
              "        vertical-align: middle;\n",
              "    }\n",
              "\n",
              "    .dataframe tbody tr th {\n",
              "        vertical-align: top;\n",
              "    }\n",
              "\n",
              "    .dataframe thead th {\n",
              "        text-align: right;\n",
              "    }\n",
              "</style>\n",
              "<table border=\"1\" class=\"dataframe\">\n",
              "  <thead>\n",
              "    <tr style=\"text-align: right;\">\n",
              "      <th></th>\n",
              "      <th>id</th>\n",
              "      <th>keyword</th>\n",
              "      <th>location</th>\n",
              "      <th>text</th>\n",
              "      <th>target</th>\n",
              "    </tr>\n",
              "  </thead>\n",
              "  <tbody>\n",
              "    <tr>\n",
              "      <th>0</th>\n",
              "      <td>1</td>\n",
              "      <td>NaN</td>\n",
              "      <td>NaN</td>\n",
              "      <td>Our Deeds are the Reason of this #earthquake M...</td>\n",
              "      <td>1</td>\n",
              "    </tr>\n",
              "    <tr>\n",
              "      <th>1</th>\n",
              "      <td>4</td>\n",
              "      <td>NaN</td>\n",
              "      <td>NaN</td>\n",
              "      <td>Forest fire near La Ronge Sask. Canada</td>\n",
              "      <td>1</td>\n",
              "    </tr>\n",
              "    <tr>\n",
              "      <th>2</th>\n",
              "      <td>5</td>\n",
              "      <td>NaN</td>\n",
              "      <td>NaN</td>\n",
              "      <td>All residents asked to 'shelter in place' are ...</td>\n",
              "      <td>1</td>\n",
              "    </tr>\n",
              "    <tr>\n",
              "      <th>3</th>\n",
              "      <td>6</td>\n",
              "      <td>NaN</td>\n",
              "      <td>NaN</td>\n",
              "      <td>13,000 people receive #wildfires evacuation or...</td>\n",
              "      <td>1</td>\n",
              "    </tr>\n",
              "    <tr>\n",
              "      <th>4</th>\n",
              "      <td>7</td>\n",
              "      <td>NaN</td>\n",
              "      <td>NaN</td>\n",
              "      <td>Just got sent this photo from Ruby #Alaska as ...</td>\n",
              "      <td>1</td>\n",
              "    </tr>\n",
              "  </tbody>\n",
              "</table>\n",
              "</div>"
            ],
            "text/plain": [
              "   id keyword  ...                                               text target\n",
              "0   1     NaN  ...  Our Deeds are the Reason of this #earthquake M...      1\n",
              "1   4     NaN  ...             Forest fire near La Ronge Sask. Canada      1\n",
              "2   5     NaN  ...  All residents asked to 'shelter in place' are ...      1\n",
              "3   6     NaN  ...  13,000 people receive #wildfires evacuation or...      1\n",
              "4   7     NaN  ...  Just got sent this photo from Ruby #Alaska as ...      1\n",
              "\n",
              "[5 rows x 5 columns]"
            ]
          },
          "metadata": {
            "tags": []
          },
          "execution_count": 3
        }
      ]
    },
    {
      "cell_type": "code",
      "metadata": {
        "id": "RcPoBME4RXOe",
        "outputId": "11eb0882-6e28-4c00-eed1-ba20eff707e2",
        "colab": {
          "base_uri": "https://localhost:8080/"
        }
      },
      "source": [
        "data.target.value_counts()"
      ],
      "execution_count": 4,
      "outputs": [
        {
          "output_type": "execute_result",
          "data": {
            "text/plain": [
              "0    4342\n",
              "1    3271\n",
              "Name: target, dtype: int64"
            ]
          },
          "metadata": {
            "tags": []
          },
          "execution_count": 4
        }
      ]
    },
    {
      "cell_type": "code",
      "metadata": {
        "colab": {
          "base_uri": "https://localhost:8080/",
          "height": 382
        },
        "id": "cc9ncPRQA2fA",
        "outputId": "5fef5bb3-f800-48a4-a656-e72509c30a44"
      },
      "source": [
        "\n",
        "# True vs Non True News Distribution\n",
        "sns.countplot(data['target'])\n",
        "plt.legend()\n",
        "plt.title(\"Reliable vs Unreliable Distribution\")"
      ],
      "execution_count": 5,
      "outputs": [
        {
          "output_type": "stream",
          "text": [
            "/usr/local/lib/python3.7/dist-packages/seaborn/_decorators.py:43: FutureWarning: Pass the following variable as a keyword arg: x. From version 0.12, the only valid positional argument will be `data`, and passing other arguments without an explicit keyword will result in an error or misinterpretation.\n",
            "  FutureWarning\n",
            "No handles with labels found to put in legend.\n"
          ],
          "name": "stderr"
        },
        {
          "output_type": "execute_result",
          "data": {
            "text/plain": [
              "Text(0.5, 1.0, 'Reliable vs Unreliable Distribution')"
            ]
          },
          "metadata": {
            "tags": []
          },
          "execution_count": 5
        },
        {
          "output_type": "display_data",
          "data": {
            "image/png": "[encoded data removed]",
            "text/plain": [
              "<Figure size 432x288 with 1 Axes>"
            ]
          },
          "metadata": {
            "tags": [],
            "needs_background": "light"
          }
        }
      ]
    },
    {
      "cell_type": "code",
      "metadata": {
        "colab": {
          "base_uri": "https://localhost:8080/",
          "height": 284
        },
        "id": "nVvxu34oA2hZ",
        "outputId": "cc6ac1cc-0b8a-40e9-c6fd-f59b1efa6401"
      },
      "source": [
        "#Describe about ham and Spam Mail Behavior in all data set\n",
        "data[data['target']==0].describe()"
      ],
      "execution_count": 6,
      "outputs": [
        {
          "output_type": "execute_result",
          "data": {
            "text/html": [
              "<div>\n",
              "<style scoped>\n",
              "    .dataframe tbody tr th:only-of-type {\n",
              "        vertical-align: middle;\n",
              "    }\n",
              "\n",
              "    .dataframe tbody tr th {\n",
              "        vertical-align: top;\n",
              "    }\n",
              "\n",
              "    .dataframe thead th {\n",
              "        text-align: right;\n",
              "    }\n",
              "</style>\n",
              "<table border=\"1\" class=\"dataframe\">\n",
              "  <thead>\n",
              "    <tr style=\"text-align: right;\">\n",
              "      <th></th>\n",
              "      <th>id</th>\n",
              "      <th>target</th>\n",
              "    </tr>\n",
              "  </thead>\n",
              "  <tbody>\n",
              "    <tr>\n",
              "      <th>count</th>\n",
              "      <td>4342.000000</td>\n",
              "      <td>4342.0</td>\n",
              "    </tr>\n",
              "    <tr>\n",
              "      <th>mean</th>\n",
              "      <td>5276.446338</td>\n",
              "      <td>0.0</td>\n",
              "    </tr>\n",
              "    <tr>\n",
              "      <th>std</th>\n",
              "      <td>3157.206802</td>\n",
              "      <td>0.0</td>\n",
              "    </tr>\n",
              "    <tr>\n",
              "      <th>min</th>\n",
              "      <td>23.000000</td>\n",
              "      <td>0.0</td>\n",
              "    </tr>\n",
              "    <tr>\n",
              "      <th>25%</th>\n",
              "      <td>2513.250000</td>\n",
              "      <td>0.0</td>\n",
              "    </tr>\n",
              "    <tr>\n",
              "      <th>50%</th>\n",
              "      <td>5243.500000</td>\n",
              "      <td>0.0</td>\n",
              "    </tr>\n",
              "    <tr>\n",
              "      <th>75%</th>\n",
              "      <td>8038.500000</td>\n",
              "      <td>0.0</td>\n",
              "    </tr>\n",
              "    <tr>\n",
              "      <th>max</th>\n",
              "      <td>10848.000000</td>\n",
              "      <td>0.0</td>\n",
              "    </tr>\n",
              "  </tbody>\n",
              "</table>\n",
              "</div>"
            ],
            "text/plain": [
              "                 id  target\n",
              "count   4342.000000  4342.0\n",
              "mean    5276.446338     0.0\n",
              "std     3157.206802     0.0\n",
              "min       23.000000     0.0\n",
              "25%     2513.250000     0.0\n",
              "50%     5243.500000     0.0\n",
              "75%     8038.500000     0.0\n",
              "max    10848.000000     0.0"
            ]
          },
          "metadata": {
            "tags": []
          },
          "execution_count": 6
        }
      ]
    },
    {
      "cell_type": "code",
      "metadata": {
        "colab": {
          "base_uri": "https://localhost:8080/",
          "height": 284
        },
        "id": "FdKR0DIxA2kQ",
        "outputId": "97f43d00-1db6-469a-fcb9-75e2c27d7122"
      },
      "source": [
        "#Describe about ham and Spam Mail Behavior in all data set\n",
        "data[data['target']==1].describe()"
      ],
      "execution_count": 7,
      "outputs": [
        {
          "output_type": "execute_result",
          "data": {
            "text/html": [
              "<div>\n",
              "<style scoped>\n",
              "    .dataframe tbody tr th:only-of-type {\n",
              "        vertical-align: middle;\n",
              "    }\n",
              "\n",
              "    .dataframe tbody tr th {\n",
              "        vertical-align: top;\n",
              "    }\n",
              "\n",
              "    .dataframe thead th {\n",
              "        text-align: right;\n",
              "    }\n",
              "</style>\n",
              "<table border=\"1\" class=\"dataframe\">\n",
              "  <thead>\n",
              "    <tr style=\"text-align: right;\">\n",
              "      <th></th>\n",
              "      <th>id</th>\n",
              "      <th>target</th>\n",
              "    </tr>\n",
              "  </thead>\n",
              "  <tbody>\n",
              "    <tr>\n",
              "      <th>count</th>\n",
              "      <td>3271.000000</td>\n",
              "      <td>3271.0</td>\n",
              "    </tr>\n",
              "    <tr>\n",
              "      <th>mean</th>\n",
              "      <td>5661.608071</td>\n",
              "      <td>1.0</td>\n",
              "    </tr>\n",
              "    <tr>\n",
              "      <th>std</th>\n",
              "      <td>3097.094809</td>\n",
              "      <td>0.0</td>\n",
              "    </tr>\n",
              "    <tr>\n",
              "      <th>min</th>\n",
              "      <td>1.000000</td>\n",
              "      <td>1.0</td>\n",
              "    </tr>\n",
              "    <tr>\n",
              "      <th>25%</th>\n",
              "      <td>3104.500000</td>\n",
              "      <td>1.0</td>\n",
              "    </tr>\n",
              "    <tr>\n",
              "      <th>50%</th>\n",
              "      <td>5676.000000</td>\n",
              "      <td>1.0</td>\n",
              "    </tr>\n",
              "    <tr>\n",
              "      <th>75%</th>\n",
              "      <td>8252.000000</td>\n",
              "      <td>1.0</td>\n",
              "    </tr>\n",
              "    <tr>\n",
              "      <th>max</th>\n",
              "      <td>10873.000000</td>\n",
              "      <td>1.0</td>\n",
              "    </tr>\n",
              "  </tbody>\n",
              "</table>\n",
              "</div>"
            ],
            "text/plain": [
              "                 id  target\n",
              "count   3271.000000  3271.0\n",
              "mean    5661.608071     1.0\n",
              "std     3097.094809     0.0\n",
              "min        1.000000     1.0\n",
              "25%     3104.500000     1.0\n",
              "50%     5676.000000     1.0\n",
              "75%     8252.000000     1.0\n",
              "max    10873.000000     1.0"
            ]
          },
          "metadata": {
            "tags": []
          },
          "execution_count": 7
        }
      ]
    },
    {
      "cell_type": "markdown",
      "metadata": {
        "id": "3DcFKij7D3bk"
      },
      "source": [
        "### **Pre-processing steps for tweet**\n",
        "\n",
        "This is one of the essential steps in any natural language processing (NLP) task. Data scientists never get filtered, ready-to-use data. To make it workable, there is a lot of processing that needs to happen.So the basic steps involved in cleaning the data are\n",
        "\n",
        "Converting the text from upper case to lower case Correcting the spelling mistakes Punctuation removal removes unwanted characters e.g. hashtag, hyperlinks, stock tickers and number from tweet Stop words removal Normalization via lemmatization or stemming Tokenization Now let’s discuss all of these in detail. There are no standard sequences or standard steps that are involved. They vary from example to example. Let us now import the dataset, and analyze it to get a basic understanding of it."
      ]
    },
    {
      "cell_type": "code",
      "metadata": {
        "colab": {
          "base_uri": "https://localhost:8080/"
        },
        "id": "rZQNkFBEEI-k",
        "outputId": "1797c4f0-dc81-499c-ecb4-ec5932b861a6"
      },
      "source": [
        "import nltk\n",
        "from nltk.corpus import stopwords\n",
        "from nltk.stem.porter import PorterStemmer\n",
        "import string \n",
        "import re\n",
        "import warnings\n",
        "\n",
        "warnings.filterwarnings(\"ignore\")\n",
        "nltk.download('punkt')\n",
        "nltk.download('stopwords')\n",
        "nltk.download('wordnet')"
      ],
      "execution_count": 8,
      "outputs": [
        {
          "output_type": "stream",
          "text": [
            "[nltk_data] Downloading package punkt to /root/nltk_data...\n",
            "[nltk_data]   Package punkt is already up-to-date!\n",
            "[nltk_data] Downloading package stopwords to /root/nltk_data...\n",
            "[nltk_data]   Package stopwords is already up-to-date!\n",
            "[nltk_data] Downloading package wordnet to /root/nltk_data...\n",
            "[nltk_data]   Package wordnet is already up-to-date!\n"
          ],
          "name": "stdout"
        },
        {
          "output_type": "execute_result",
          "data": {
            "text/plain": [
              "True"
            ]
          },
          "metadata": {
            "tags": []
          },
          "execution_count": 8
        }
      ]
    },
    {
      "cell_type": "code",
      "metadata": {
        "id": "9JvlG9OdD_D3"
      },
      "source": [
        "#Remove puncuation, newlines and multiple whitespace, lower case everything etc..\n",
        "ps=PorterStemmer()\n",
        "def cleaned_text(text):\n",
        "  corpus=[]\n",
        "  for i in text.index:\n",
        "    \n",
        "    \n",
        "    review= re.sub(r'([a-z0-9+._-]+@[a-z0-9+._-]+\\.[a-z0-9+_-]+)',' ', text[i])\n",
        "    # Remove Html\n",
        "    review=re.sub(r'(http|https|ftp|ssh)://([\\w_-]+(?:(?:\\.[\\w_-]+)+))([\\w.,@?^=%&:/~+#-]*[\\w@?^=%&/~+#-])?', '' ,review)\n",
        "    #1.remove except a to z and A to Z \n",
        "    review=re.sub('[^a-zA-Z]',' ',review)\n",
        "    #2.Remove all puncuation\n",
        "    review = re.sub('[\\(].*?[\\)]', '', review)\n",
        "    # 2. remove newlines and multiple whitespace, lower case everything\n",
        "    review = re.sub('\\s+', ' ', review)\n",
        "  # 4. remove special characters\n",
        "    # Regex to keep . , and ' is [^A-Za-z0-9.,\\' ]\n",
        "    review = re.sub('[^A-Za-z0-9 ]', '', review)\n",
        "    review=review.lower()\n",
        "    review=review.split()\n",
        "    ##Stemming for the each words\n",
        "    review=[ps.stem(word) for word in review if not word in stopwords.words('english')]\n",
        "    review=' '.join(review)\n",
        "    corpus.append(review)\n",
        "  return corpus"
      ],
      "execution_count": 9,
      "outputs": []
    },
    {
      "cell_type": "code",
      "metadata": {
        "id": "TgIV51pVNt-E"
      },
      "source": [
        "corpus=cleaned_text(data['text'])"
      ],
      "execution_count": 10,
      "outputs": []
    },
    {
      "cell_type": "code",
      "metadata": {
        "colab": {
          "base_uri": "https://localhost:8080/"
        },
        "id": "pJdxnQsO2N_R",
        "outputId": "271d4282-4490-42b3-d26d-5da02dc99e42"
      },
      "source": [
        "corpus[1:10]"
      ],
      "execution_count": 11,
      "outputs": [
        {
          "output_type": "execute_result",
          "data": {
            "text/plain": [
              "['forest fire near la rong sask canada',\n",
              " 'resid ask shelter place notifi offic evacu shelter place order expect',\n",
              " 'peopl receiv wildfir evacu order california',\n",
              " 'got sent photo rubi alaska smoke wildfir pour school',\n",
              " 'rockyfir updat california hwi close direct due lake counti fire cafir wildfir',\n",
              " 'flood disast heavi rain caus flash flood street manit colorado spring area',\n",
              " 'top hill see fire wood',\n",
              " 'emerg evacu happen build across street',\n",
              " 'afraid tornado come area']"
            ]
          },
          "metadata": {
            "tags": []
          },
          "execution_count": 11
        }
      ]
    },
    {
      "cell_type": "code",
      "metadata": {
        "id": "tz2G5zN63MyJ"
      },
      "source": [
        "data['cleaned_text']=np.array(corpus)"
      ],
      "execution_count": 12,
      "outputs": []
    },
    {
      "cell_type": "code",
      "metadata": {
        "colab": {
          "base_uri": "https://localhost:8080/",
          "height": 195
        },
        "id": "jrlatOkY3n3G",
        "outputId": "4e1d9d8c-ead6-446b-e51a-d003a2741198"
      },
      "source": [
        "data.head()"
      ],
      "execution_count": 13,
      "outputs": [
        {
          "output_type": "execute_result",
          "data": {
            "text/html": [
              "<div>\n",
              "<style scoped>\n",
              "    .dataframe tbody tr th:only-of-type {\n",
              "        vertical-align: middle;\n",
              "    }\n",
              "\n",
              "    .dataframe tbody tr th {\n",
              "        vertical-align: top;\n",
              "    }\n",
              "\n",
              "    .dataframe thead th {\n",
              "        text-align: right;\n",
              "    }\n",
              "</style>\n",
              "<table border=\"1\" class=\"dataframe\">\n",
              "  <thead>\n",
              "    <tr style=\"text-align: right;\">\n",
              "      <th></th>\n",
              "      <th>id</th>\n",
              "      <th>keyword</th>\n",
              "      <th>location</th>\n",
              "      <th>text</th>\n",
              "      <th>target</th>\n",
              "      <th>cleaned_text</th>\n",
              "    </tr>\n",
              "  </thead>\n",
              "  <tbody>\n",
              "    <tr>\n",
              "      <th>0</th>\n",
              "      <td>1</td>\n",
              "      <td>NaN</td>\n",
              "      <td>NaN</td>\n",
              "      <td>Our Deeds are the Reason of this #earthquake M...</td>\n",
              "      <td>1</td>\n",
              "      <td>deed reason earthquak may allah forgiv us</td>\n",
              "    </tr>\n",
              "    <tr>\n",
              "      <th>1</th>\n",
              "      <td>4</td>\n",
              "      <td>NaN</td>\n",
              "      <td>NaN</td>\n",
              "      <td>Forest fire near La Ronge Sask. Canada</td>\n",
              "      <td>1</td>\n",
              "      <td>forest fire near la rong sask canada</td>\n",
              "    </tr>\n",
              "    <tr>\n",
              "      <th>2</th>\n",
              "      <td>5</td>\n",
              "      <td>NaN</td>\n",
              "      <td>NaN</td>\n",
              "      <td>All residents asked to 'shelter in place' are ...</td>\n",
              "      <td>1</td>\n",
              "      <td>resid ask shelter place notifi offic evacu she...</td>\n",
              "    </tr>\n",
              "    <tr>\n",
              "      <th>3</th>\n",
              "      <td>6</td>\n",
              "      <td>NaN</td>\n",
              "      <td>NaN</td>\n",
              "      <td>13,000 people receive #wildfires evacuation or...</td>\n",
              "      <td>1</td>\n",
              "      <td>peopl receiv wildfir evacu order california</td>\n",
              "    </tr>\n",
              "    <tr>\n",
              "      <th>4</th>\n",
              "      <td>7</td>\n",
              "      <td>NaN</td>\n",
              "      <td>NaN</td>\n",
              "      <td>Just got sent this photo from Ruby #Alaska as ...</td>\n",
              "      <td>1</td>\n",
              "      <td>got sent photo rubi alaska smoke wildfir pour ...</td>\n",
              "    </tr>\n",
              "  </tbody>\n",
              "</table>\n",
              "</div>"
            ],
            "text/plain": [
              "   id keyword  ... target                                       cleaned_text\n",
              "0   1     NaN  ...      1          deed reason earthquak may allah forgiv us\n",
              "1   4     NaN  ...      1               forest fire near la rong sask canada\n",
              "2   5     NaN  ...      1  resid ask shelter place notifi offic evacu she...\n",
              "3   6     NaN  ...      1        peopl receiv wildfir evacu order california\n",
              "4   7     NaN  ...      1  got sent photo rubi alaska smoke wildfir pour ...\n",
              "\n",
              "[5 rows x 6 columns]"
            ]
          },
          "metadata": {
            "tags": []
          },
          "execution_count": 13
        }
      ]
    },
    {
      "cell_type": "code",
      "metadata": {
        "id": "XLT9E3mokzWv"
      },
      "source": [
        "data=data.iloc[:,3:6]"
      ],
      "execution_count": 14,
      "outputs": []
    },
    {
      "cell_type": "code",
      "metadata": {
        "colab": {
          "base_uri": "https://localhost:8080/",
          "height": 195
        },
        "id": "dAEoby80q9Nw",
        "outputId": "9b2563d0-a066-4f92-f159-199221bf44ff"
      },
      "source": [
        "data.head()"
      ],
      "execution_count": 15,
      "outputs": [
        {
          "output_type": "execute_result",
          "data": {
            "text/html": [
              "<div>\n",
              "<style scoped>\n",
              "    .dataframe tbody tr th:only-of-type {\n",
              "        vertical-align: middle;\n",
              "    }\n",
              "\n",
              "    .dataframe tbody tr th {\n",
              "        vertical-align: top;\n",
              "    }\n",
              "\n",
              "    .dataframe thead th {\n",
              "        text-align: right;\n",
              "    }\n",
              "</style>\n",
              "<table border=\"1\" class=\"dataframe\">\n",
              "  <thead>\n",
              "    <tr style=\"text-align: right;\">\n",
              "      <th></th>\n",
              "      <th>text</th>\n",
              "      <th>target</th>\n",
              "      <th>cleaned_text</th>\n",
              "    </tr>\n",
              "  </thead>\n",
              "  <tbody>\n",
              "    <tr>\n",
              "      <th>0</th>\n",
              "      <td>Our Deeds are the Reason of this #earthquake M...</td>\n",
              "      <td>1</td>\n",
              "      <td>deed reason earthquak may allah forgiv us</td>\n",
              "    </tr>\n",
              "    <tr>\n",
              "      <th>1</th>\n",
              "      <td>Forest fire near La Ronge Sask. Canada</td>\n",
              "      <td>1</td>\n",
              "      <td>forest fire near la rong sask canada</td>\n",
              "    </tr>\n",
              "    <tr>\n",
              "      <th>2</th>\n",
              "      <td>All residents asked to 'shelter in place' are ...</td>\n",
              "      <td>1</td>\n",
              "      <td>resid ask shelter place notifi offic evacu she...</td>\n",
              "    </tr>\n",
              "    <tr>\n",
              "      <th>3</th>\n",
              "      <td>13,000 people receive #wildfires evacuation or...</td>\n",
              "      <td>1</td>\n",
              "      <td>peopl receiv wildfir evacu order california</td>\n",
              "    </tr>\n",
              "    <tr>\n",
              "      <th>4</th>\n",
              "      <td>Just got sent this photo from Ruby #Alaska as ...</td>\n",
              "      <td>1</td>\n",
              "      <td>got sent photo rubi alaska smoke wildfir pour ...</td>\n",
              "    </tr>\n",
              "  </tbody>\n",
              "</table>\n",
              "</div>"
            ],
            "text/plain": [
              "                                                text  ...                                       cleaned_text\n",
              "0  Our Deeds are the Reason of this #earthquake M...  ...          deed reason earthquak may allah forgiv us\n",
              "1             Forest fire near La Ronge Sask. Canada  ...               forest fire near la rong sask canada\n",
              "2  All residents asked to 'shelter in place' are ...  ...  resid ask shelter place notifi offic evacu she...\n",
              "3  13,000 people receive #wildfires evacuation or...  ...        peopl receiv wildfir evacu order california\n",
              "4  Just got sent this photo from Ruby #Alaska as ...  ...  got sent photo rubi alaska smoke wildfir pour ...\n",
              "\n",
              "[5 rows x 3 columns]"
            ]
          },
          "metadata": {
            "tags": []
          },
          "execution_count": 15
        }
      ]
    },
    {
      "cell_type": "markdown",
      "metadata": {
        "id": "07Dtauk1DUPK"
      },
      "source": [
        "### **Find word length of every tweet**"
      ]
    },
    {
      "cell_type": "code",
      "metadata": {
        "id": "ZMs7yI8pA2mu"
      },
      "source": [
        "data['Word_length']=data.cleaned_text.apply(lambda x:len(x.split()))"
      ],
      "execution_count": 16,
      "outputs": []
    },
    {
      "cell_type": "code",
      "metadata": {
        "colab": {
          "base_uri": "https://localhost:8080/",
          "height": 195
        },
        "id": "x6WvudPlDnQq",
        "outputId": "ead5e792-daa3-4741-c986-65aab67a318a"
      },
      "source": [
        "data.head()"
      ],
      "execution_count": 17,
      "outputs": [
        {
          "output_type": "execute_result",
          "data": {
            "text/html": [
              "<div>\n",
              "<style scoped>\n",
              "    .dataframe tbody tr th:only-of-type {\n",
              "        vertical-align: middle;\n",
              "    }\n",
              "\n",
              "    .dataframe tbody tr th {\n",
              "        vertical-align: top;\n",
              "    }\n",
              "\n",
              "    .dataframe thead th {\n",
              "        text-align: right;\n",
              "    }\n",
              "</style>\n",
              "<table border=\"1\" class=\"dataframe\">\n",
              "  <thead>\n",
              "    <tr style=\"text-align: right;\">\n",
              "      <th></th>\n",
              "      <th>text</th>\n",
              "      <th>target</th>\n",
              "      <th>cleaned_text</th>\n",
              "      <th>Word_length</th>\n",
              "    </tr>\n",
              "  </thead>\n",
              "  <tbody>\n",
              "    <tr>\n",
              "      <th>0</th>\n",
              "      <td>Our Deeds are the Reason of this #earthquake M...</td>\n",
              "      <td>1</td>\n",
              "      <td>deed reason earthquak may allah forgiv us</td>\n",
              "      <td>7</td>\n",
              "    </tr>\n",
              "    <tr>\n",
              "      <th>1</th>\n",
              "      <td>Forest fire near La Ronge Sask. Canada</td>\n",
              "      <td>1</td>\n",
              "      <td>forest fire near la rong sask canada</td>\n",
              "      <td>7</td>\n",
              "    </tr>\n",
              "    <tr>\n",
              "      <th>2</th>\n",
              "      <td>All residents asked to 'shelter in place' are ...</td>\n",
              "      <td>1</td>\n",
              "      <td>resid ask shelter place notifi offic evacu she...</td>\n",
              "      <td>11</td>\n",
              "    </tr>\n",
              "    <tr>\n",
              "      <th>3</th>\n",
              "      <td>13,000 people receive #wildfires evacuation or...</td>\n",
              "      <td>1</td>\n",
              "      <td>peopl receiv wildfir evacu order california</td>\n",
              "      <td>6</td>\n",
              "    </tr>\n",
              "    <tr>\n",
              "      <th>4</th>\n",
              "      <td>Just got sent this photo from Ruby #Alaska as ...</td>\n",
              "      <td>1</td>\n",
              "      <td>got sent photo rubi alaska smoke wildfir pour ...</td>\n",
              "      <td>9</td>\n",
              "    </tr>\n",
              "  </tbody>\n",
              "</table>\n",
              "</div>"
            ],
            "text/plain": [
              "                                                text  ...  Word_length\n",
              "0  Our Deeds are the Reason of this #earthquake M...  ...            7\n",
              "1             Forest fire near La Ronge Sask. Canada  ...            7\n",
              "2  All residents asked to 'shelter in place' are ...  ...           11\n",
              "3  13,000 people receive #wildfires evacuation or...  ...            6\n",
              "4  Just got sent this photo from Ruby #Alaska as ...  ...            9\n",
              "\n",
              "[5 rows x 4 columns]"
            ]
          },
          "metadata": {
            "tags": []
          },
          "execution_count": 17
        }
      ]
    },
    {
      "cell_type": "markdown",
      "metadata": {
        "id": "3rt00c65FSLn"
      },
      "source": [
        "### **Tokenization**"
      ]
    },
    {
      "cell_type": "code",
      "metadata": {
        "id": "lDNcgVKqDwJ0"
      },
      "source": [
        "#Spam mail words\n",
        "from nltk.tokenize import word_tokenize\n",
        "all_words=[]\n",
        "for sentence in data['cleaned_text']:\n",
        "  words=word_tokenize(sentence)\n",
        "  for word in words:\n",
        "    all_words.append(word)\n",
        "        "
      ],
      "execution_count": 18,
      "outputs": []
    },
    {
      "cell_type": "code",
      "metadata": {
        "colab": {
          "base_uri": "https://localhost:8080/",
          "height": 438
        },
        "id": "GJElG454ylt5",
        "outputId": "fea6d013-63cb-42c4-d8c1-d20a80fd96f5"
      },
      "source": [
        "from collections import Counter\n",
        "counter_reliable=Counter(all_words)\n",
        "print(counter_reliable.most_common(1000))\n",
        "coun_reliable=pd.DataFrame(counter_reliable.most_common(200))\n",
        "coun_reliable.columns=['Common_Words','count']\n",
        "coun_reliable.style.background_gradient(cmap='Blues')\n",
        "coun_reliable"
      ],
      "execution_count": 19,
      "outputs": [
        {
          "output_type": "stream",
          "text": [
            "[('like', 411), ('fire', 363), ('amp', 344), ('get', 311), ('bomb', 239), ('new', 228), ('via', 220), ('news', 213), ('one', 209), ('go', 204), ('peopl', 201), ('time', 183), ('kill', 181), ('burn', 180), ('year', 178), ('video', 175), ('flood', 169), ('crash', 166), ('emerg', 164), ('disast', 162), ('bodi', 156), ('attack', 155), ('build', 153), ('day', 151), ('look', 145), ('fatal', 145), ('say', 145), ('home', 144), ('love', 143), ('polic', 143), ('would', 137), ('u', 137), ('make', 133), ('famili', 132), ('evacu', 131), ('still', 130), ('train', 129), ('storm', 129), ('us', 128), ('see', 128), ('got', 126), ('come', 125), ('back', 124), ('know', 123), ('california', 121), ('live', 121), ('suicid', 120), ('watch', 119), ('bag', 119), ('want', 118), ('man', 117), ('death', 117), ('world', 117), ('collaps', 117), ('car', 116), ('scream', 116), ('derail', 116), ('rt', 113), ('first', 109), ('take', 108), ('caus', 106), ('let', 106), ('think', 105), ('two', 104), ('nuclear', 104), ('pm', 103), ('today', 102), ('war', 102), ('drown', 102), ('need', 101), ('work', 100), ('dead', 99), ('accid', 99), ('wreck', 99), ('youtub', 98), ('deton', 98), ('w', 97), ('destroy', 97), ('hiroshima', 95), ('hijack', 95), ('gt', 94), ('plan', 94), ('full', 94), ('life', 93), ('feel', 93), ('old', 92), ('fuck', 91), ('good', 91), ('obliter', 91), ('help', 90), ('murder', 90), ('fear', 90), ('weapon', 90), ('may', 89), ('way', 89), ('surviv', 88), ('last', 87), ('injuri', 87), ('even', 86), ('wound', 86), ('mani', 84), ('use', 83), ('could', 83), ('servic', 83), ('rescu', 83), ('devast', 83), ('wildfir', 82), ('die', 82), ('report', 82), ('na', 80), ('run', 79), ('riot', 79), ('explod', 79), ('hazard', 79), ('call', 78), ('read', 77), ('save', 77), ('wave', 76), ('mass', 76), ('best', 75), ('collid', 75), ('damag', 74), ('right', 74), ('thing', 74), ('hostag', 74), ('mh', 74), ('pleas', 73), ('quarantin', 73), ('anoth', 72), ('armi', 72), ('catastroph', 72), ('school', 71), ('realli', 71), ('hous', 71), ('lol', 71), ('warn', 71), ('crush', 71), ('citi', 70), ('black', 69), ('miss', 69), ('fall', 69), ('water', 69), ('photo', 68), ('thank', 68), ('stop', 68), ('forest', 67), ('hot', 67), ('casualti', 67), ('state', 66), ('god', 65), ('hit', 65), ('hope', 65), ('obama', 65), ('delug', 65), ('tri', 64), ('set', 64), ('much', 64), ('northern', 64), ('confirm', 64), ('demolish', 64), ('electrocut', 64), ('reddit', 64), ('cross', 63), ('never', 63), ('end', 62), ('head', 62), ('great', 62), ('chang', 62), ('play', 62), ('flame', 62), ('legionnair', 62), ('bomber', 62), ('rain', 61), ('break', 61), ('siren', 61), ('start', 61), ('bioterror', 61), ('investig', 61), ('latest', 60), ('japan', 60), ('releas', 60), ('desol', 60), ('area', 59), ('everi', 59), ('issu', 59), ('show', 59), ('injur', 59), ('atom', 59), ('typhoon', 59), ('near', 58), ('top', 58), ('everyon', 58), ('im', 58), ('updat', 57), ('offici', 57), ('said', 57), ('women', 57), ('terror', 57), ('content', 57), ('thunderstorm', 57), ('happen', 56), ('shit', 56), ('th', 56), ('ever', 56), ('face', 56), ('annihil', 56), ('blaze', 56), ('wind', 56), ('land', 56), ('sever', 56), ('truck', 55), ('sign', 55), ('girl', 55), ('post', 55), ('oil', 55), ('smoke', 54), ('game', 54), ('natur', 54), ('sinc', 54), ('movi', 54), ('b', 54), ('earthquak', 53), ('offic', 53), ('night', 53), ('check', 53), ('found', 53), ('boy', 53), ('x', 53), ('charg', 53), ('follow', 52), ('weather', 52), ('pick', 52), ('militari', 52), ('ass', 52), ('st', 51), ('next', 51), ('p', 51), ('respond', 51), ('well', 51), ('without', 51), ('stori', 51), ('explos', 50), ('debri', 50), ('suspect', 50), ('littl', 50), ('wild', 50), ('keep', 50), ('malaysia', 50), ('declar', 50), ('heat', 49), ('guy', 49), ('terrorist', 49), ('sound', 49), ('sink', 49), ('structur', 49), ('move', 48), ('food', 48), ('refuge', 48), ('lightn', 48), ('danger', 48), ('migrant', 48), ('gon', 47), ('road', 47), ('trap', 47), ('job', 47), ('fight', 47), ('high', 47), ('fan', 47), ('hurrican', 47), ('week', 46), ('alway', 46), ('r', 46), ('blood', 46), ('bad', 46), ('hail', 46), ('light', 46), ('made', 46), ('battl', 46), ('spill', 46), ('thunder', 46), ('market', 45), ('free', 45), ('bloodi', 45), ('hour', 45), ('nation', 45), ('red', 45), ('ruin', 45), ('summer', 44), ('care', 44), ('leav', 44), ('kid', 44), ('someon', 44), ('also', 44), ('air', 44), ('loud', 44), ('inund', 44), ('shot', 43), ('tonight', 43), ('minut', 43), ('lot', 43), ('long', 43), ('yr', 43), ('busi', 43), ('power', 43), ('put', 43), ('failur', 43), ('china', 43), ('tornado', 42), ('turn', 42), ('eye', 42), ('ambul', 42), ('survivor', 42), ('destruct', 42), ('big', 42), ('saudi', 42), ('outbreak', 42), ('c', 42), ('panic', 42), ('babi', 42), ('bridg', 42), ('displac', 42), ('harm', 42), ('collis', 42), ('sinkhol', 42), ('order', 41), ('bu', 41), ('n', 41), ('island', 41), ('phone', 41), ('whole', 41), ('person', 41), ('affect', 41), ('wreckag', 41), ('close', 40), ('around', 40), ('heart', 40), ('drive', 40), ('rememb', 40), ('ok', 40), ('total', 40), ('part', 40), ('friend', 40), ('real', 40), ('islam', 40), ('drought', 40), ('landslid', 40), ('windstorm', 40), ('wait', 39), ('trauma', 39), ('word', 39), ('send', 39), ('rescuer', 39), ('hundr', 39), ('twister', 39), ('counti', 38), ('airplan', 38), ('ship', 38), ('self', 38), ('away', 38), ('white', 38), ('group', 38), ('open', 38), ('effect', 38), ('boat', 38), ('chemic', 38), ('dust', 38), ('sunk', 38), ('possibl', 37), ('plane', 37), ('thought', 37), ('august', 37), ('armageddon', 37), ('violent', 37), ('twitter', 37), ('woman', 37), ('pic', 37), ('bleed', 37), ('half', 37), ('cliff', 37), ('curfew', 37), ('stock', 37), ('engulf', 37), ('famin', 37), ('massacr', 37), ('bang', 37), ('mudslid', 37), ('sandstorm', 37), ('whirlwind', 37), ('second', 36), ('better', 36), ('least', 36), ('came', 36), ('iran', 36), ('apocalyps', 36), ('saw', 36), ('unit', 36), ('link', 36), ('mosqu', 36), ('blast', 36), ('deal', 36), ('song', 36), ('intern', 36), ('wan', 36), ('search', 36), ('tragedi', 36), ('rise', 36), ('memori', 36), ('traumatis', 36), ('troubl', 36), ('raze', 36), ('place', 35), ('horribl', 35), ('past', 35), ('tell', 35), ('left', 35), ('heard', 35), ('sure', 35), ('zone', 35), ('tomorrow', 35), ('stay', 35), ('fedex', 35), ('hear', 35), ('secur', 35), ('e', 35), ('oh', 35), ('blown', 35), ('anniversari', 35), ('insur', 35), ('volcano', 35), ('tsunami', 35), ('cool', 34), ('talk', 34), ('rd', 34), ('meltdown', 34), ('book', 34), ('stand', 34), ('govern', 34), ('must', 34), ('went', 34), ('river', 34), ('peac', 34), ('beauti', 34), ('blew', 34), ('ban', 34), ('flatten', 34), ('lava', 34), ('panick', 34), ('pandemonium', 34), ('expect', 33), ('someth', 33), ('final', 33), ('support', 33), ('shoot', 33), ('actual', 33), ('reunion', 33), ('men', 33), ('ebay', 33), ('project', 33), ('soon', 33), ('give', 33), ('shoulder', 33), ('calgari', 33), ('star', 33), ('ladi', 33), ('isi', 33), ('demolit', 33), ('hellfir', 33), ('swallow', 33), ('street', 32), ('south', 32), ('mean', 32), ('believ', 32), ('dog', 32), ('human', 32), ('case', 32), ('india', 32), ('abc', 32), ('ur', 32), ('find', 32), ('cyclon', 32), ('eyewit', 32), ('rainstorm', 32), ('reason', 31), ('due', 31), ('three', 31), ('traffic', 31), ('america', 31), ('goe', 31), ('airport', 31), ('walk', 31), ('arson', 31), ('american', 31), ('music', 31), ('longer', 31), ('pkk', 31), ('side', 30), ('site', 30), ('wake', 30), ('lt', 30), ('countri', 30), ('share', 30), ('name', 30), ('control', 30), ('gun', 30), ('yet', 30), ('offens', 30), ('media', 30), ('listen', 30), ('lab', 30), ('noth', 30), ('line', 30), ('level', 30), ('bush', 30), ('prebreak', 30), ('wonder', 29), ('ablaz', 29), ('bring', 29), ('insid', 29), ('block', 29), ('win', 29), ('alreadi', 29), ('done', 29), ('hate', 29), ('nigga', 29), ('horror', 29), ('fun', 29), ('learn', 29), ('forc', 29), ('team', 29), ('avalanch', 29), ('health', 29), ('polici', 29), ('co', 29), ('mp', 29), ('km', 29), ('stretcher', 29), ('upheav', 29), ('ask', 28), ('far', 28), ('lead', 28), ('bar', 28), ('action', 28), ('isra', 28), ('gener', 28), ('transport', 28), ('hold', 28), ('ye', 28), ('blight', 28), ('crew', 28), ('turkey', 28), ('becom', 28), ('imag', 28), ('seismic', 28), ('sue', 28), ('reactor', 28), ('snowstorm', 28), ('la', 27), ('north', 27), ('happi', 27), ('month', 27), ('nowplay', 27), ('vehicl', 27), ('brown', 27), ('victim', 27), ('ago', 27), ('helicopt', 27), ('bc', 27), ('point', 27), ('rule', 27), ('lie', 27), ('yeah', 27), ('tweet', 27), ('comput', 27), ('mark', 27), ('nearbi', 27), ('aug', 27), ('west', 26), ('center', 26), ('g', 26), ('histori', 26), ('major', 26), ('hand', 26), ('children', 26), ('tv', 26), ('anyth', 26), ('cover', 26), ('special', 26), ('firefight', 26), ('low', 26), ('villag', 26), ('soudelor', 26), ('tree', 26), ('conclus', 26), ('rubbl', 26), ('lost', 25), ('flag', 25), ('outsid', 25), ('begin', 25), ('almost', 25), ('aircraft', 25), ('pakistan', 25), ('hey', 25), ('hell', 25), ('mayb', 25), ('data', 25), ('ad', 25), ('rock', 25), ('morn', 25), ('handbag', 25), ('spot', 25), ('bigger', 25), ('alarm', 25), ('knock', 25), ('saipan', 25), ('hat', 25), ('fast', 24), ('secret', 24), ('mom', 24), ('moment', 24), ('anyon', 24), ('reuter', 24), ('number', 24), ('allow', 24), ('prepar', 24), ('christian', 24), ('sit', 24), ('million', 24), ('claim', 24), ('muslim', 24), ('act', 24), ('liter', 24), ('v', 24), ('onlin', 24), ('cake', 24), ('blizzard', 24), ('pay', 24), ('money', 24), ('probabl', 24), ('strike', 24), ('coach', 24), ('camp', 24), ('cours', 24), ('continu', 24), ('utc', 24), ('miner', 24), ('bestnaijamad', 24), ('thousand', 23), ('arsonist', 23), ('public', 23), ('k', 23), ('properti', 23), ('aftershock', 23), ('might', 23), ('coupl', 23), ('park', 23), ('pass', 23), ('everyth', 23), ('ball', 23), ('film', 23), ('mountain', 23), ('track', 23), ('amid', 23), ('ca', 23), ('town', 23), ('drink', 23), ('damn', 23), ('space', 23), ('interest', 23), ('hollywood', 23), ('pretti', 23), ('activ', 23), ('though', 23), ('manslaught', 23), ('trench', 23), ('hailstorm', 23), ('wrong', 22), ('expert', 22), ('worri', 22), ('sorri', 22), ('seen', 22), ('complet', 22), ('usa', 22), ('child', 22), ('class', 22), ('crisi', 22), ('blue', 22), ('date', 22), ('leather', 22), ('caught', 22), ('okay', 22), ('respons', 22), ('youth', 22), ('favorit', 22), ('australia', 22), ('problem', 22), ('nearli', 22), ('seek', 22), ('giant', 22), ('chanc', 22), ('emot', 22), ('ignit', 22), ('sensor', 22), ('refugio', 22), ('costlier', 22), ('heavi', 21), ('flash', 21), ('cri', 21), ('sky', 21), ('lord', 21), ('other', 21), ('huge', 21), ('comment', 21), ('pain', 21), ('daili', 21), ('avoid', 21), ('omg', 21), ('cop', 21), ('crazi', 21), ('trust', 21), ('meet', 21), ('entir', 21), ('scare', 21), ('escap', 21), ('l', 21), ('east', 21), ('texa', 21), ('mount', 21), ('worst', 21), ('fukushima', 21), ('result', 21), ('idea', 21), ('wow', 21), ('russian', 21), ('gbbo', 21), ('bbc', 21), ('angri', 21), ('uk', 21), ('passeng', 21), ('mayhem', 21), ('across', 20), ('haha', 20), ('arriv', 20), ('chicago', 20), ('grow', 20), ('hard', 20), ('pilot', 20), ('polit', 20), ('poor', 20), ('radio', 20), ('mine', 20), ('toddler', 20), ('extrem', 20), ('truth', 20), ('captur', 20), ('beach', 20), ('milit', 20), ('view', 20), ('creat', 20), ('anthrax', 20), ('mishap', 20), ('carri', 20), ('test', 20), ('dont', 20), ('agre', 20), ('wed', 20), ('gem', 20), ('art', 20), ('drake', 20), ('meek', 20), ('record', 20), ('appear', 20), ('mph', 20), ('rate', 20), ('compani', 20), ('cnn', 20), ('nw', 20), ('myanmar', 19), ('alon', 19), ('climat', 19), ('els', 19), ('travel', 19), ('member', 19), ('target', 19), ('em', 19), ('driver', 19), ('readi', 19), ('hors', 19), ('soul', 19), ('russia', 19), ('hero', 19), ('arrest', 19), ('green', 19), ('templ', 19), ('king', 19), ('commun', 19), ('ga', 19), ('taken', 19), ('anim', 19), ('cut', 19), ('mad', 19), ('parti', 19), ('buy', 19), ('larg', 19), ('fashion', 19), ('thursday', 19), ('centr', 19), ('exchang', 19), ('sea', 19), ('emmerdal', 19), ('flight', 19), ('disea', 19), ('direct', 18), ('spring', 18), ('front', 18), ('student', 18), ('involv', 18), ('risk', 18), ('scene', 18), ('ice', 18), ('global', 18), ('lose', 18), ('franc', 18), ('earli', 18), ('pull', 18), ('israel', 18), ('pile', 18), ('vs', 18), ('mention', 18), ('join', 18), ('diseas', 18), ('question', 18), ('beat', 18), ('till', 18), ('vote', 18), ('pray', 18), ('hire', 18), ('civilian', 18), ('answer', 18), ('piec', 18), ('occur', 18), ('young', 18), ('germ', 18), ('deliv', 18), ('f', 18), ('ash', 18), ('dude', 18), ('info', 18), ('room', 18), ('middl', 18), ('drop', 18), ('nagasaki', 18), ('downtown', 18), ('differ', 18), ('return', 18), ('british', 18), ('instead', 18), ('cost', 18), ('download', 18), ('quiz', 18), ('virgin', 18), ('chile', 18), ('london', 17), ('season', 17), ('sleep', 17), ('dr', 17), ('danc', 17), ('behind', 17), ('four', 17), ('wednesday', 17), ('career', 17), ('review', 17), ('match', 17), ('enjoy', 17), ('bed', 17), ('base', 17), ('earth', 17), ('sport', 17), ('remov', 17), ('true', 17), ('theater', 17), ('gave', 17), ('shift', 17), ('gop', 17), ('nd', 17), ('threat', 17), ('event', 17), ('bless', 17), ('wall', 17), ('sad', 17), ('mind', 17), ('tote', 17), ('libya', 17), ('guid', 17), ('outrag', 17), ('brother', 17), ('ppl', 17), ('sex', 17), ('cat', 17), ('york', 17), ('patienc', 17), ('former', 17), ('madhya', 17), ('pradesh', 17), ('nigerian', 17), ('led', 17), ('lamp', 17), ('bayelsa', 17), ('funtenna', 17), ('ancient', 17), ('subreddit', 17), ('galact', 17), ('lake', 16), ('colorado', 16), ('awesom', 16), ('ave', 16), ('upon', 16), ('angel', 16), ('michael', 16), ('teen', 16), ('owner', 16), ('guess', 16), ('kick', 16), ('mode', 16), ('pakistani', 16), ('fact', 16), ('potu', 16), ('dad', 16), ('queen', 16), ('seri', 16), ('depart', 16), ('palestinian', 16), ('local', 16), ('lmao', 16), ('pamela', 16), ('research', 16), ('concern', 16), ('list', 16), ('ebola', 16), ('coast', 16), ('silver', 16), ('enough', 16), ('bitch', 16), ('ground', 16), ('told', 16), ('biggest', 16), ('standard', 16), ('threaten', 16), ('shape', 16), ('desir', 16), ('parent', 16), ('press', 16), ('seem', 16), ('govt', 16), ('account', 16), ('manag', 16), ('absolut', 16), ('disney', 16), ('sick', 16), ('parol', 16), ('unconfirm', 16), ('neighbour', 16), ('rli', 16), ('singl', 15), ('usual', 15), ('mile', 15), ('dream', 15), ('includ', 15), ('bit', 15), ('hospit', 15), ('petit', 15), ('safeti', 15), ('box', 15), ('door', 15), ('indian', 15), ('japanes', 15), ('struggl', 15), ('court', 15), ('user', 15), ('geller', 15), ('album', 15), ('playlist', 15), ('ahead', 15), ('write', 15), ('deep', 15), ('articl', 15), ('super', 15), ('pack', 15), ('washington', 15), ('wors', 15), ('blow', 15), ('social', 15), ('understand', 15), ('freak', 15), ('oper', 15), ('cabl', 15), ('de', 15), ('union', 15), ('apollo', 15), ('richmond', 15), ('inform', 15)]\n"
          ],
          "name": "stdout"
        },
        {
          "output_type": "execute_result",
          "data": {
            "text/html": [
              "<div>\n",
              "<style scoped>\n",
              "    .dataframe tbody tr th:only-of-type {\n",
              "        vertical-align: middle;\n",
              "    }\n",
              "\n",
              "    .dataframe tbody tr th {\n",
              "        vertical-align: top;\n",
              "    }\n",
              "\n",
              "    .dataframe thead th {\n",
              "        text-align: right;\n",
              "    }\n",
              "</style>\n",
              "<table border=\"1\" class=\"dataframe\">\n",
              "  <thead>\n",
              "    <tr style=\"text-align: right;\">\n",
              "      <th></th>\n",
              "      <th>Common_Words</th>\n",
              "      <th>count</th>\n",
              "    </tr>\n",
              "  </thead>\n",
              "  <tbody>\n",
              "    <tr>\n",
              "      <th>0</th>\n",
              "      <td>like</td>\n",
              "      <td>411</td>\n",
              "    </tr>\n",
              "    <tr>\n",
              "      <th>1</th>\n",
              "      <td>fire</td>\n",
              "      <td>363</td>\n",
              "    </tr>\n",
              "    <tr>\n",
              "      <th>2</th>\n",
              "      <td>amp</td>\n",
              "      <td>344</td>\n",
              "    </tr>\n",
              "    <tr>\n",
              "      <th>3</th>\n",
              "      <td>get</td>\n",
              "      <td>311</td>\n",
              "    </tr>\n",
              "    <tr>\n",
              "      <th>4</th>\n",
              "      <td>bomb</td>\n",
              "      <td>239</td>\n",
              "    </tr>\n",
              "    <tr>\n",
              "      <th>...</th>\n",
              "      <td>...</td>\n",
              "      <td>...</td>\n",
              "    </tr>\n",
              "    <tr>\n",
              "      <th>195</th>\n",
              "      <td>said</td>\n",
              "      <td>57</td>\n",
              "    </tr>\n",
              "    <tr>\n",
              "      <th>196</th>\n",
              "      <td>women</td>\n",
              "      <td>57</td>\n",
              "    </tr>\n",
              "    <tr>\n",
              "      <th>197</th>\n",
              "      <td>terror</td>\n",
              "      <td>57</td>\n",
              "    </tr>\n",
              "    <tr>\n",
              "      <th>198</th>\n",
              "      <td>content</td>\n",
              "      <td>57</td>\n",
              "    </tr>\n",
              "    <tr>\n",
              "      <th>199</th>\n",
              "      <td>thunderstorm</td>\n",
              "      <td>57</td>\n",
              "    </tr>\n",
              "  </tbody>\n",
              "</table>\n",
              "<p>200 rows × 2 columns</p>\n",
              "</div>"
            ],
            "text/plain": [
              "     Common_Words  count\n",
              "0            like    411\n",
              "1            fire    363\n",
              "2             amp    344\n",
              "3             get    311\n",
              "4            bomb    239\n",
              "..            ...    ...\n",
              "195          said     57\n",
              "196         women     57\n",
              "197        terror     57\n",
              "198       content     57\n",
              "199  thunderstorm     57\n",
              "\n",
              "[200 rows x 2 columns]"
            ]
          },
          "metadata": {
            "tags": []
          },
          "execution_count": 19
        }
      ]
    },
    {
      "cell_type": "code",
      "metadata": {
        "id": "cWFTU9Zk79hk"
      },
      "source": [
        "data['token_text']=data.cleaned_text.apply(lambda x:x.split())"
      ],
      "execution_count": 20,
      "outputs": []
    },
    {
      "cell_type": "code",
      "metadata": {
        "colab": {
          "base_uri": "https://localhost:8080/",
          "height": 195
        },
        "id": "Y4Ul5-OH8F7X",
        "outputId": "bc2dce77-555f-40b3-91f5-1e742cf5a3e0"
      },
      "source": [
        "data.head()"
      ],
      "execution_count": 21,
      "outputs": [
        {
          "output_type": "execute_result",
          "data": {
            "text/html": [
              "<div>\n",
              "<style scoped>\n",
              "    .dataframe tbody tr th:only-of-type {\n",
              "        vertical-align: middle;\n",
              "    }\n",
              "\n",
              "    .dataframe tbody tr th {\n",
              "        vertical-align: top;\n",
              "    }\n",
              "\n",
              "    .dataframe thead th {\n",
              "        text-align: right;\n",
              "    }\n",
              "</style>\n",
              "<table border=\"1\" class=\"dataframe\">\n",
              "  <thead>\n",
              "    <tr style=\"text-align: right;\">\n",
              "      <th></th>\n",
              "      <th>text</th>\n",
              "      <th>target</th>\n",
              "      <th>cleaned_text</th>\n",
              "      <th>Word_length</th>\n",
              "      <th>token_text</th>\n",
              "    </tr>\n",
              "  </thead>\n",
              "  <tbody>\n",
              "    <tr>\n",
              "      <th>0</th>\n",
              "      <td>Our Deeds are the Reason of this #earthquake M...</td>\n",
              "      <td>1</td>\n",
              "      <td>deed reason earthquak may allah forgiv us</td>\n",
              "      <td>7</td>\n",
              "      <td>[deed, reason, earthquak, may, allah, forgiv, us]</td>\n",
              "    </tr>\n",
              "    <tr>\n",
              "      <th>1</th>\n",
              "      <td>Forest fire near La Ronge Sask. Canada</td>\n",
              "      <td>1</td>\n",
              "      <td>forest fire near la rong sask canada</td>\n",
              "      <td>7</td>\n",
              "      <td>[forest, fire, near, la, rong, sask, canada]</td>\n",
              "    </tr>\n",
              "    <tr>\n",
              "      <th>2</th>\n",
              "      <td>All residents asked to 'shelter in place' are ...</td>\n",
              "      <td>1</td>\n",
              "      <td>resid ask shelter place notifi offic evacu she...</td>\n",
              "      <td>11</td>\n",
              "      <td>[resid, ask, shelter, place, notifi, offic, ev...</td>\n",
              "    </tr>\n",
              "    <tr>\n",
              "      <th>3</th>\n",
              "      <td>13,000 people receive #wildfires evacuation or...</td>\n",
              "      <td>1</td>\n",
              "      <td>peopl receiv wildfir evacu order california</td>\n",
              "      <td>6</td>\n",
              "      <td>[peopl, receiv, wildfir, evacu, order, califor...</td>\n",
              "    </tr>\n",
              "    <tr>\n",
              "      <th>4</th>\n",
              "      <td>Just got sent this photo from Ruby #Alaska as ...</td>\n",
              "      <td>1</td>\n",
              "      <td>got sent photo rubi alaska smoke wildfir pour ...</td>\n",
              "      <td>9</td>\n",
              "      <td>[got, sent, photo, rubi, alaska, smoke, wildfi...</td>\n",
              "    </tr>\n",
              "  </tbody>\n",
              "</table>\n",
              "</div>"
            ],
            "text/plain": [
              "                                                text  ...                                         token_text\n",
              "0  Our Deeds are the Reason of this #earthquake M...  ...  [deed, reason, earthquak, may, allah, forgiv, us]\n",
              "1             Forest fire near La Ronge Sask. Canada  ...       [forest, fire, near, la, rong, sask, canada]\n",
              "2  All residents asked to 'shelter in place' are ...  ...  [resid, ask, shelter, place, notifi, offic, ev...\n",
              "3  13,000 people receive #wildfires evacuation or...  ...  [peopl, receiv, wildfir, evacu, order, califor...\n",
              "4  Just got sent this photo from Ruby #Alaska as ...  ...  [got, sent, photo, rubi, alaska, smoke, wildfi...\n",
              "\n",
              "[5 rows x 5 columns]"
            ]
          },
          "metadata": {
            "tags": []
          },
          "execution_count": 21
        }
      ]
    },
    {
      "cell_type": "code",
      "metadata": {
        "colab": {
          "base_uri": "https://localhost:8080/"
        },
        "id": "AEDn3ndBDwLh",
        "outputId": "37fec2ba-2248-45bd-8d2b-df8e32ee4dad"
      },
      "source": [
        "print(\"TWEET RAW No.1           :\"+\" \"+str(data.text[0]))\n",
        "print(\"CLEANED TWEET RAW No.1   :\"+\" \"+str(data.cleaned_text[0]))\n",
        "print(\"TOKENIZE WORD RAW No.1   :\"+\" \"+str(data.token_text[0]))"
      ],
      "execution_count": 22,
      "outputs": [
        {
          "output_type": "stream",
          "text": [
            "TWEET RAW No.1           : Our Deeds are the Reason of this #earthquake May ALLAH Forgive us all\n",
            "CLEANED TWEET RAW No.1   : deed reason earthquak may allah forgiv us\n",
            "TOKENIZE WORD RAW No.1   : ['deed', 'reason', 'earthquak', 'may', 'allah', 'forgiv', 'us']\n"
          ],
          "name": "stdout"
        }
      ]
    },
    {
      "cell_type": "code",
      "metadata": {
        "colab": {
          "base_uri": "https://localhost:8080/",
          "height": 386
        },
        "id": "ag5fLYQhDwTq",
        "outputId": "e58069bc-119e-43f7-81e2-ce0a5db442b3"
      },
      "source": [
        "sns.displot(data =data, kind = 'hist', x = 'Word_length', hue = 'target',\n",
        "            multiple = 'stack',bins=50,height = 5, aspect = 1.9)\n",
        "\n",
        "# The distibution of tweet text length vs target - there is a correlation between tweet length and target "
      ],
      "execution_count": 23,
      "outputs": [
        {
          "output_type": "execute_result",
          "data": {
            "text/plain": [
              "<seaborn.axisgrid.FacetGrid at 0x7f3a1be89090>"
            ]
          },
          "metadata": {
            "tags": []
          },
          "execution_count": 23
        },
        {
          "output_type": "display_data",
          "data": {
            "image/png": "[encoded data removed]",
            "text/plain": [
              "<Figure size 726.375x360 with 1 Axes>"
            ]
          },
          "metadata": {
            "tags": [],
            "needs_background": "light"
          }
        }
      ]
    },
    {
      "cell_type": "code",
      "metadata": {
        "colab": {
          "base_uri": "https://localhost:8080/"
        },
        "id": "XfjuAeEvDwVL",
        "outputId": "612eacbb-4615-4a41-edd4-915f325bfa8c"
      },
      "source": [
        "max_len=data['Word_length'].max()+5\n",
        "print(max_len)"
      ],
      "execution_count": 24,
      "outputs": [
        {
          "output_type": "stream",
          "text": [
            "30\n"
          ],
          "name": "stdout"
        }
      ]
    },
    {
      "cell_type": "code",
      "metadata": {
        "id": "WAHDqzOY9d9O",
        "outputId": "a64fc0f6-8b20-4130-edca-9fd0d6a7319e",
        "colab": {
          "base_uri": "https://localhost:8080/"
        }
      },
      "source": [
        "from sklearn import model_selection\n",
        "X=data['cleaned_text']\n",
        "y=data['target']\n",
        "x_train,x_test,y_train,y_test=model_selection.train_test_split(X,y.astype(int),test_size=0.2,stratify=data['target'],random_state=100)\n",
        "#train,test=model_selection.train_test_split(data,test_size=0.2,random_state=100)\n",
        "print(\"Training data set contains \" + \" \" + str(len(x_train))+ \" \"+ \"Observation\")\n",
        "print(\"Test data set contains  \" + \" \" + str(len(x_test))+ \" \"+ \"Observation\")"
      ],
      "execution_count": 25,
      "outputs": [
        {
          "output_type": "stream",
          "text": [
            "Training data set contains  6090 Observation\n",
            "Test data set contains   1523 Observation\n"
          ],
          "name": "stdout"
        }
      ]
    },
    {
      "cell_type": "markdown",
      "metadata": {
        "id": "EMoNNXmNczN8"
      },
      "source": [
        "### **Train-Test Spliting**"
      ]
    },
    {
      "cell_type": "markdown",
      "metadata": {
        "id": "2KmEOC0EWVU9"
      },
      "source": [
        "### **Tokenizer - Text Pre-Processing with Keras**"
      ]
    },
    {
      "cell_type": "code",
      "metadata": {
        "id": "H_JaqCzWDwYX"
      },
      "source": [
        "\n",
        "#Use Keras library to create a vector of words for every tweet.\n",
        "#These vectors are padded up to 50, which can be the limit of number of words possible in a 150 character tweet.\n",
        "\n",
        "from keras.preprocessing.text import Tokenizer\n",
        "from keras.preprocessing.sequence import pad_sequences\n",
        "\n",
        "#Constructing Tokenizer Method\n",
        "tokenizer= Tokenizer() #Tokenizer class constructor for training documents\n",
        "# test_tokenizer = Tokenizer() #Tokenizer class constructor for testing documents\n",
        "\n",
        "#Fitting Tokenizer to the trained Cleaned_text \n",
        "tokenizer.fit_on_texts(x_train)\n",
        "\n",
        "# Integer encode the documents\n",
        "train_encoded = tokenizer.texts_to_sequences(x_train)\n",
        "test_encoded = tokenizer.texts_to_sequences(x_test)\n",
        "\n",
        "\n"
      ],
      "execution_count": 26,
      "outputs": []
    },
    {
      "cell_type": "code",
      "metadata": {
        "id": "jBspNOfYGPKE",
        "colab": {
          "base_uri": "https://localhost:8080/"
        },
        "outputId": "e1441811-aa95-42a6-c704-2493c9d912b0"
      },
      "source": [
        "train_encoded[0]"
      ],
      "execution_count": 27,
      "outputs": [
        {
          "output_type": "execute_result",
          "data": {
            "text/plain": [
              "[4638, 3234, 4639, 3235, 3, 4640, 80, 99, 2127, 891, 2128, 29, 4641, 255, 3]"
            ]
          },
          "metadata": {
            "tags": []
          },
          "execution_count": 27
        }
      ]
    },
    {
      "cell_type": "code",
      "metadata": {
        "colab": {
          "base_uri": "https://localhost:8080/"
        },
        "id": "5Q2sxc_ZHpxe",
        "outputId": "401afb6b-a7da-4a91-cb9f-fa36b60e7632"
      },
      "source": [
        "word_index = tokenizer.word_index\n",
        "print('Number of unique words:',len(word_index))"
      ],
      "execution_count": 28,
      "outputs": [
        {
          "output_type": "stream",
          "text": [
            "Number of unique words: 11432\n"
          ],
          "name": "stdout"
        }
      ]
    },
    {
      "cell_type": "markdown",
      "metadata": {
        "id": "DarMjp_M_GwS"
      },
      "source": [
        "### Padding "
      ]
    },
    {
      "cell_type": "code",
      "metadata": {
        "id": "21xDUyVW_K6i",
        "colab": {
          "base_uri": "https://localhost:8080/"
        },
        "outputId": "daefb331-14bd-4332-8aa1-7a8c9f3d594c"
      },
      "source": [
        "from keras.preprocessing.sequence import pad_sequences\n",
        "\n",
        "train_pad = pad_sequences(tokenizer.texts_to_sequences(x_train),\n",
        "                        maxlen = max_len)\n",
        "test_pad = pad_sequences(tokenizer.texts_to_sequences(x_test),\n",
        "                       maxlen = max_len)\n",
        "\n",
        "print(\"Training X Shape:\",train_pad.shape)\n",
        "print(\"Testing X Shape:\",test_pad.shape)"
      ],
      "execution_count": 29,
      "outputs": [
        {
          "output_type": "stream",
          "text": [
            "Training X Shape: (6090, 30)\n",
            "Testing X Shape: (1523, 30)\n"
          ],
          "name": "stdout"
        }
      ]
    },
    {
      "cell_type": "code",
      "metadata": {
        "colab": {
          "base_uri": "https://localhost:8080/"
        },
        "id": "4JB6z5VFw9_8",
        "outputId": "bcaab8e8-34e3-42c2-baf3-e3c7eb7de3f3"
      },
      "source": [
        "print(\"training second raw observation          :\"+\" \"+X[2])\n",
        "print(\"training second raw encoded observation  : \"+\" \"+str(train_encoded[2]))\n",
        "print(\"training second raw padding observation  : \"+\" \"+str(train_pad[2]))"
      ],
      "execution_count": 30,
      "outputs": [
        {
          "output_type": "stream",
          "text": [
            "training second raw observation          : resid ask shelter place notifi offic evacu shelter place order expect\n",
            "training second raw encoded observation  :  [2557, 129, 454, 818, 83, 938, 1008]\n",
            "training second raw padding observation  :  [   0    0    0    0    0    0    0    0    0    0    0    0    0    0\n",
            "    0    0    0    0    0    0    0    0    0 2557  129  454  818   83\n",
            "  938 1008]\n"
          ],
          "name": "stdout"
        }
      ]
    },
    {
      "cell_type": "code",
      "metadata": {
        "colab": {
          "base_uri": "https://localhost:8080/"
        },
        "id": "e1JxdIcScdQf",
        "outputId": "7c3001b4-1a38-483b-b231-b4f7b1440286"
      },
      "source": [
        "vocab_size = len(tokenizer.word_index) + 1\n",
        "\n",
        "\n",
        "print(\"The training set vocab size is \"+ str(vocab_size))\n",
        "\n"
      ],
      "execution_count": 31,
      "outputs": [
        {
          "output_type": "stream",
          "text": [
            "The training set vocab size is 11433\n"
          ],
          "name": "stdout"
        }
      ]
    },
    {
      "cell_type": "code",
      "metadata": {
        "colab": {
          "base_uri": "https://localhost:8080/"
        },
        "id": "LfGcQXeyDwda",
        "outputId": "f5b2a680-04f9-4417-e24e-1d4e7b2457cb"
      },
      "source": [
        "print(tokenizer.word_counts)"
      ],
      "execution_count": 32,
      "outputs": [
        {
          "output_type": "stream",
          "text": [
            "OrderedDict([('leitchfield', 1), ('ky', 2), ('bella', 1), ('edward', 2), ('amp', 270), ('rosali', 1), ('need', 76), ('rescu', 68), ('adopt', 4), ('local', 13), ('foster', 4), ('home', 115), ('sponsorship', 1), ('trap', 39), ('panic', 35), ('spinningbot', 3), ('anoth', 58), ('stand', 26), ('user', 14), ('deton', 75), ('killer', 12), ('queen', 11), ('camp', 18), ('war', 86), ('zone', 33), ('rove', 1), ('raccoon', 1), ('toughen', 1), ('citi', 57), ('slicker', 2), ('wit', 9), ('first', 90), ('demolit', 21), ('derbi', 4), ('today', 84), ('psa', 2), ('excit', 6), ('worn', 2), ('hour', 37), ('isi', 24), ('claim', 21), ('respons', 20), ('saudi', 35), ('mosqu', 28), ('suicid', 97), ('bomb', 192), ('dopeitsv', 1), ('ahh', 3), ('babi', 30), ('ted', 3), ('cruz', 7), ('fire', 298), ('back', 96), ('jeb', 6), ('bush', 23), ('lose', 11), ('republican', 8), ('like', 326), ('mitt', 2), ('video', 131), ('originalfunko', 2), ('spencer', 3), ('thunder', 39), ('buddi', 4), ('violat', 5), ('new', 184), ('improv', 5), ('reddit', 55), ('shot', 32), ('sun', 13), ('survivor', 31), ('hurl', 1), ('black', 59), ('hole', 8), ('nuke', 7), ('cryptic', 3), ('word', 30), ('guid', 14), ('pilot', 16), ('hiroshima', 80), ('mission', 5), ('year', 149), ('later', 9), ('ferguson', 6), ('see', 98), ('chang', 48), ('ask', 24), ('real', 32), ('content', 48), ('polici', 25), ('goe', 25), ('effect', 33), ('mani', 69), ('horribl', 29), ('subreddit', 15), ('ban', 29), ('quarantin', 64), ('book', 26), ('flight', 16), ('burma', 1), ('countri', 28), ('endur', 3), ('polit', 16), ('unrest', 1), ('natur', 46), ('disast', 133), ('wonder', 25), ('cheap', 2), ('ay', 1), ('organicallyrud', 1), ('rockstar', 2), ('wish', 10), ('mattingli', 1), ('bundi', 1), ('mcgwire', 1), ('collaps', 91), ('lil', 7), ('brother', 10), ('crush', 64), ('mariah', 2), ('massacr', 28), ('sinjar', 6), ('world', 100), ('forgotten', 3), ('yazidi', 7), ('shingal', 1), ('genocid', 4), ('ezidigenocid', 1), ('absolut', 12), ('obliter', 74), ('moth', 5), ('purchas', 4), ('boss', 5), ('aunt', 2), ('marg', 1), ('blown', 30), ('ehek', 1), ('utahcanari', 1), ('sigh', 1), ('daili', 18), ('battl', 33), ('crawl', 1), ('skin', 5), ('wound', 67), ('hea', 1), ('mophem', 1), ('bigstar', 1), ('johnson', 3), ('problem', 20), ('game', 47), ('bodi', 126), ('bag', 94), ('nigga', 25), ('vuzuhustl', 1), ('seismic', 22), ('appl', 2), ('tv', 24), ('servic', 62), ('stream', 11), ('channel', 5), ('across', 16), ('jrlallo', 1), ('narrat', 1), ('say', 113), ('chemic', 31), ('interest', 19), ('lavatori', 1), ('db', 1), ('quit', 11), ('tongu', 7), ('twister', 31), ('certainli', 3), ('odd', 5), ('p', 39), ('olrul', 1), ('welcom', 10), ('read', 58), ('free', 38), ('chapter', 1), ('encount', 4), ('jesu', 6), ('full', 68), ('hope', 50), ('alcoholandmet', 1), ('anyth', 18), ('fix', 10), ('peopl', 158), ('everi', 50), ('trust', 17), ('life', 69), ('charl', 4), ('one', 166), ('casualti', 54), ('u', 105), ('record', 16), ('hurrican', 35), ('drought', 31), ('dead', 85), ('dreamer', 1), ('safeti', 11), ('hazard', 67), ('could', 65), ('get', 260), ('victoria', 2), ('secret', 18), ('front', 15), ('good', 78), ('mikeparractor', 6), ('devast', 66), ('actor', 2), ('miss', 52), ('rossbarton', 1), ('girl', 47), ('love', 125), ('bad', 34), ('boy', 47), ('wreck', 87), ('tire', 8), ('gonna', 34), ('asleep', 4), ('pic', 32), ('yr', 35), ('old', 78), ('pkk', 25), ('bomber', 49), ('turkey', 23), ('armi', 63), ('trench', 18), ('releas', 47), ('china', 37), ('stock', 31), ('market', 38), ('crash', 127), ('gem', 17), ('rubbl', 24), ('taaylordarr', 1), ('thank', 61), ('surviv', 72), ('hot', 57), ('funtenna', 14), ('hijack', 78), ('comput', 21), ('send', 32), ('data', 20), ('sound', 39), ('wave', 63), ('hat', 21), ('prebreak', 27), ('best', 63), ('summer', 35), ('program', 11), ('work', 79), ('went', 25), ('pool', 9), ('evacu', 113), ('kid', 33), ('left', 31), ('surpris', 10), ('jimmyfallon', 3), ('worstsummerjob', 4), ('damn', 19), ('greink', 1), ('got', 82), ('inning', 4), ('lie', 22), ('though', 17), ('pay', 19), ('oldest', 1), ('sometim', 11), ('car', 90), ('curfew', 30), ('freedom', 4), ('donthat', 1), ('wait', 32), ('chocol', 4), ('lava', 29), ('cake', 15), ('fedex', 27), ('longer', 26), ('transport', 21), ('bioterror', 46), ('germ', 14), ('wake', 24), ('anthrax', 16), ('lab', 24), ('mishap', 16), ('cook', 10), ('earlier', 8), ('electrocut', 51), ('crucial', 1), ('psychic', 1), ('lol', 55), ('lmfao', 5), ('fuck', 74), ('lui', 2), ('hhahaha', 1), ('im', 47), ('zayn', 3), ('blew', 24), ('twitter', 27), ('women', 46), ('cross', 53), ('messeng', 5), ('clutch', 6), ('small', 12), ('shoulder', 25), ('zipper', 2), ('white', 30), ('dog', 23), ('lightn', 39), ('reshap', 5), ('rock', 23), ('atom', 50), ('level', 24), ('strike', 17), ('miner', 20), ('crystal', 3), ('structur', 40), ('truckcrash', 1), ('overturn', 2), ('fortworth', 1), ('interst', 2), ('click', 7), ('gt', 70), ('never', 54), ('knew', 6), ('relationship', 2), ('btwn', 3), ('kansa', 1), ('hyatt', 1), ('bridg', 33), ('aia', 1), ('cote', 1), ('via', 182), ('huffpostart', 1), ('extens', 4), ('cord', 3), ('extend', 6), ('bed', 14), ('bath', 2), ('tub', 1), ('let', 79), ('pray', 15), ('scream', 93), ('languag', 5), ('daviesmutia', 1), ('break', 49), ('news', 177), ('unconfirm', 12), ('heard', 27), ('loud', 34), ('bang', 28), ('nearbi', 22), ('appear', 16), ('blast', 28), ('wind', 44), ('neighbour', 12), ('ass', 43), ('amumumux', 1), ('actin', 1), ('nuclear', 82), ('solar', 5), ('power', 31), ('japanes', 11), ('fukushima', 19), ('reactor', 24), ('energi', 5), ('japan', 44), ('temperatur', 2), ('fuel', 9), ('photo', 53), ('weallheartonedirect', 2), ('david', 12), ('asshol', 5), ('windstorm', 34), ('thru', 4), ('open', 33), ('window', 10), ('bong', 1), ('piec', 13), ('exampl', 4), ('indiffer', 2), ('human', 22), ('suffer', 11), ('slosheriff', 1), ('south', 24), ('gate', 3), ('polic', 117), ('offic', 44), ('huntington', 1), ('park', 18), ('arrest', 14), ('child', 21), ('abus', 8), ('investig', 49), ('boot', 4), ('accid', 84), ('ashvil', 1), ('us', 106), ('sb', 4), ('sr', 5), ('traffic', 28), ('workplac', 2), ('go', 160), ('pandemonium', 29), ('season', 12), ('start', 45), ('sinkhol', 31), ('selfi', 5), ('wont', 6), ('believ', 28), ('brooklyn', 9), ('sel', 1), ('hinterestin', 1), ('funni', 12), ('cinla', 1), ('windowgatribbl', 1), ('contrast', 3), ('forebod', 1), ('destruct', 35), ('enhanc', 2), ('expans', 1), ('divis', 2), ('color', 4), ('satur', 1), ('hue', 1), ('usatoday', 6), ('frontpag', 1), ('face', 41), ('sanction', 5), ('rickperri', 1), ('make', 100), ('cut', 14), ('foxnew', 7), ('onfireand', 1), ('bb', 8), ('kurd', 2), ('attack', 131), ('kill', 148), ('turkish', 8), ('soldier', 7), ('realiti', 5), ('train', 99), ('fall', 62), ('elev', 6), ('track', 18), ('offens', 26), ('onlinecommun', 2), ('wire', 11), ('lao', 1), ('flood', 140), ('villag', 17), ('underwat', 2), ('vision', 3), ('respond', 44), ('pakistan', 23), ('helicopt', 22), ('restiv', 2), ('northwest', 3), ('least', 30), ('thecomedyquot', 1), ('shadezofgrey', 1), ('thirst', 1), ('perez', 1), ('nepd', 1), ('loyko', 1), ('texan', 1), ('wrong', 20), ('radio', 19), ('houston', 4), ('starter', 3), ('injuri', 70), ('mudslid', 26), ('warn', 56), ('east', 15), ('fjord', 1), ('iceland', 2), ('review', 17), ('icelandreview', 1), ('starv', 3), ('death', 92), ('hearitfrompa', 1), ('also', 31), ('pl', 6), ('help', 72), ('w', 78), ('campaign', 4), ('public', 21), ('keratin', 2), ('treatment', 7), ('brazilian', 2), ('blowout', 3), ('copycat', 5), ('diageo', 2), ('ceo', 9), ('stress', 11), ('board', 14), ('revolt', 2), ('unit', 29), ('spirit', 7), ('impact', 10), ('indian', 15), ('oper', 13), ('thatwitchem', 1), ('emmachosenon', 1), ('jessienovoarp', 1), ('jessi', 1), ('novoa', 2), ('liana', 1), ('whao', 4), ('nigerian', 12), ('refuge', 31), ('repatri', 9), ('cameroon', 10), ('shift', 15), ('knob', 2), ('x', 43), ('thread', 1), ('size', 11), ('russian', 14), ('biolog', 5), ('nbc', 4), ('brigad', 2), ('emerg', 125), ('exercis', 4), ('southern', 6), ('md', 7), ('storm', 109), ('batter', 4), ('top', 43), ('half', 31), ('north', 25), ('island', 33), ('violent', 31), ('overnight', 3), ('upper', 5), ('uprootin', 1), ('abomb', 1), ('destroyd', 1), ('bbc', 18), ('look', 116), ('wht', 3), ('cnv', 1), ('watch', 97), ('peac', 28), ('vigil', 2), ('incredul', 1), ('continu', 15), ('outcri', 1), ('welfar', 3), ('wast', 9), ('taxpay', 1), ('money', 17), ('similar', 1), ('object', 7), ('bn', 4), ('weapon', 72), ('ladi', 29), ('tote', 12), ('handbag', 19), ('faux', 9), ('leather', 16), ('hobo', 8), ('purs', 8), ('learn', 20), ('legaci', 7), ('catastroph', 62), ('erupt', 6), ('newyork', 7), ('amageddon', 1), ('freespeech', 1), ('arsonist', 19), ('set', 53), ('tonight', 33), ('headlin', 1), ('nightbeat', 1), ('veronicadlcruz', 1), ('minutemix', 1), ('val', 4), ('riot', 62), ('emmerdal', 17), ('media', 27), ('firefight', 19), ('hiker', 2), ('sign', 45), ('trailhead', 1), ('parker', 4), ('ridg', 5), ('wildfir', 69), ('idfir', 3), ('kristenkoin', 1), ('yay', 5), ('cooler', 3), ('weather', 41), ('pdx', 2), ('abq', 1), ('nm', 3), ('feel', 72), ('heat', 40), ('bcuz', 1), ('rain', 52), ('danc', 14), ('author', 12), ('allay', 1), ('glander', 1), ('fear', 70), ('ahead', 13), ('rio', 3), ('olymp', 5), ('equestrian', 1), ('test', 18), ('event', 15), ('horsetalknz', 1), ('tenni', 1), ('defend', 6), ('champ', 1), ('svetlana', 1), ('kuznetsova', 1), ('withdraw', 1), ('cite', 3), ('lower', 6), ('leg', 6), ('espn', 2), ('sink', 35), ('unhappi', 3), ('take', 90), ('quiz', 15), ('outbreak', 37), ('legionnair', 52), ('diseas', 17), ('york', 15), ('offici', 46), ('think', 83), ('fo', 1), ('c', 35), ('special', 22), ('modifi', 10), ('land', 44), ('stadium', 11), ('hostag', 61), ('iran', 32), ('deep', 10), ('road', 40), ('tho', 11), ('hahahaha', 2), ('traumatis', 24), ('lolol', 2), ('gener', 22), ('british', 14), ('schism', 1), ('privaci', 2), ('threat', 14), ('drone', 11), ('carolina', 2), ('motorcyclist', 8), ('die', 68), ('median', 1), ('motorcycl', 5), ('rider', 6), ('travel', 15), ('gear', 4), ('preview', 4), ('member', 16), ('come', 104), ('chat', 4), ('xb', 2), ('danger', 40), ('big', 34), ('climb', 5), ('thing', 56), ('wheel', 3), ('io', 1), ('hawk', 1), ('knee', 8), ('belt', 2), ('mr', 7), ('srk', 1), ('ur', 26), ('beauti', 26), ('punish', 5), ('michael', 12), ('so', 12), ('california', 96), ('issu', 50), ('want', 101), ('presid', 11), ('attitud', 3), ('eat', 11), ('mouth', 2), ('explod', 60), ('joy', 8), ('soul', 15), ('rise', 25), ('upward', 3), ('pft', 1), ('barkevi', 1), ('mingo', 1), ('brown', 22), ('practic', 9), ('mysteri', 5), ('worst', 16), ('part', 32), ('tri', 54), ('guess', 13), ('crack', 7), ('uk', 19), ('islamist', 1), ('cleric', 2), ('anjem', 1), ('choudari', 1), ('charg', 47), ('terror', 46), ('act', 23), ('kindermorgan', 1), ('ga', 13), ('explos', 42), ('sever', 41), ('thunderstorm', 46), ('flash', 18), ('possibl', 30), ('mid', 4), ('midwest', 2), ('environ', 4), ('climat', 12), ('antpip', 1), ('johnejefferson', 1), ('obvious', 1), ('awar', 6), ('lot', 34), ('flee', 3), ('conflict', 4), ('short', 13), ('throw', 8), ('overboard', 1), ('leader', 9), ('much', 52), ('wors', 13), ('tonyabbottmhr', 1), ('pm', 88), ('ever', 42), ('kach', 1), ('group', 26), ('belong', 5), ('baruch', 2), ('goldstein', 2), ('mass', 58), ('murder', 69), ('palestinian', 10), ('sit', 20), ('cafe', 2), ('enjoy', 16), ('bite', 6), ('cram', 1), ('meet', 16), ('whirlwind', 27), ('nyc', 11), ('proof', 8), ('temper', 8), ('glass', 9), ('screen', 8), ('protector', 5), ('film', 20), ('blackberri', 5), ('z', 10), ('check', 41), ('suryaray', 2), ('udhampur', 10), ('milit', 17), ('post', 38), ('spo', 7), ('injur', 49), ('india', 24), ('jasoncundi', 1), ('chelsea', 3), ('man', 95), ('utd', 1), ('deal', 27), ('pedro', 1), ('mill', 4), ('bargain', 5), ('adam', 2), ('drive', 35), ('oregon', 3), ('usa', 17), ('cmon', 2), ('blue', 20), ('woman', 29), ('manual', 2), ('press', 13), ('right', 62), ('button', 5), ('jun', 1), ('yemeni', 1), ('search', 30), ('hous', 55), ('san', 10), ('follow', 48), ('day', 132), ('bug', 5), ('fulli', 8), ('patch', 5), ('os', 3), ('activ', 22), ('exploit', 3), ('bypass', 3), ('password', 3), ('ar', 8), ('technica', 2), ('attjcdemo', 1), ('folieacat', 1), ('well', 40), ('timebomb', 1), ('destin', 2), ('rightway', 2), ('build', 121), ('integr', 5), ('failur', 33), ('inspect', 3), ('damag', 59), ('defect', 2), ('repair', 8), ('rightwaystan', 2), ('helsinki', 2), ('lightningstrik', 1), ('shadow', 8), ('holdin', 1), ('apocalyps', 33), ('upon', 13), ('kidnap', 4), ('enugu', 10), ('tribun', 4), ('current', 11), ('dust', 36), ('kotolili', 1), ('jackson', 7), ('ms', 5), ('longest', 4), ('streak', 4), ('tripl', 8), ('digit', 9), ('sinc', 46), ('forecast', 9), ('dalla', 3), ('smoke', 40), ('crqck', 1), ('becym', 1), ('mayor', 2), ('includ', 12), ('foursquar', 1), ('airport', 27), ('swallow', 30), ('sandstorm', 32), ('minut', 38), ('sarah', 5), ('palin', 3), ('plan', 79), ('parenthood', 8), ('target', 13), ('minor', 5), ('sp', 8), ('rt', 92), ('tonyhsieh', 1), ('person', 34), ('walk', 25), ('anonym', 2), ('tubestrik', 5), ('derail', 86), ('robertwelch', 1), ('cutleri', 1), ('offer', 9), ('moment', 21), ('dryer', 2), ('snowi', 1), ('blizzard', 22), ('cuz', 5), ('paper', 5), ('jean', 4), ('pocket', 6), ('drunk', 10), ('meal', 4), ('total', 31), ('second', 26), ('pick', 45), ('fan', 42), ('sosfam', 2), ('crazi', 18), ('phone', 29), ('brand', 3), ('dserialpcilp', 1), ('pci', 1), ('bu', 34), ('dual', 3), ('serial', 4), ('e', 30), ('wccorosen', 1), ('lloyd', 2), ('london', 14), ('insur', 25), ('bet', 6), ('corycov', 1), ('twin', 9), ('simmer', 1), ('beneath', 2), ('nhl', 2), ('time', 142), ('leagu', 6), ('concuss', 1), ('pioneerpress', 1), ('fatal', 115), ('virgin', 15), ('galact', 14), ('spaceship', 7), ('last', 67), ('caus', 83), ('cotton', 2), ('candi', 2), ('collid', 61), ('pageparkescorp', 1), ('chloeunguyen', 1), ('laurensicl', 1), ('charsteven', 1), ('tiara', 1), ('marei', 1), ('gemma', 1), ('bow', 2), ('tareksoc', 1), ('celebr', 3), ('treat', 6), ('ppl', 12), ('harm', 32), ('missdaoh', 1), ('would', 96), ('aaronthefm', 1), ('guy', 36), ('scare', 16), ('show', 47), ('name', 24), ('anyway', 5), ('know', 102), ('rolandonabeat', 1), ('elli', 1), ('gould', 1), ('blood', 39), ('acess', 1), ('nosso', 1), ('site', 22), ('para', 1), ('ouvir', 1), ('qualiti', 3), ('metric', 3), ('penalti', 5), ('may', 64), ('patient', 7), ('care', 35), ('pcp', 2), ('primari', 3), ('physician', 3), ('hold', 25), ('posit', 5), ('vi', 3), ('doctor', 3), ('must', 24), ('leav', 33), ('immedi', 2), ('core', 1), ('unstabl', 1), ('whole', 33), ('told', 13), ('research', 12), ('displac', 30), ('ocean', 10), ('township', 5), ('apart', 9), ('truck', 45), ('behind', 12), ('light', 36), ('move', 41), ('call', 63), ('coastal', 4), ('german', 6), ('shepherd', 4), ('oc', 4), ('share', 24), ('link', 25), ('ecstat', 1), ('racco', 1), ('animalrescu', 6), ('fight', 32), ('sir', 7), ('lauren', 3), ('miller', 1), ('un', 9), ('gujaratriot', 1), ('mumbairiot', 1), ('indianperpetr', 1), ('modi', 3), ('chawalchorbjp', 1), ('unnewsteam', 1), ('beyonc', 9), ('beyhiv', 8), ('acaciapenn', 1), ('jail', 5), ('mf', 7), ('shidddd', 1), ('crimin', 6), ('lorri', 4), ('buse', 9), ('donjazzi', 1), ('policeng', 1), ('humanright', 1), ('tragedi', 29), ('end', 47), ('soon', 27), ('long', 36), ('begin', 19), ('lewi', 1), ('quot', 12), ('wtf', 10), ('father', 6), ('parent', 12), ('even', 70), ('mind', 14), ('kesabaran', 1), ('membuahkan', 1), ('hasil', 1), ('indah', 1), ('pada', 1), ('saat', 1), ('tepat', 1), ('pass', 15), ('collis', 38), ('hwi', 10), ('eb', 4), ('cambridg', 1), ('singl', 14), ('vehicl', 20), ('block', 22), ('lane', 9), ('opp', 2), ('enrout', 2), ('ag', 1), ('wfp', 2), ('deliv', 15), ('food', 37), ('bangladesh', 2), ('victim', 23), ('tropic', 8), ('cyclon', 27), ('komen', 2), ('dhaka', 1), ('na', 1), ('lake', 11), ('fish', 8), ('poor', 16), ('littl', 37), ('happen', 47), ('ashley', 2), ('idk', 4), ('mayb', 18), ('drown', 78), ('cab', 2), ('feet', 9), ('bleed', 28), ('gop', 12), ('debat', 8), ('drink', 17), ('anyon', 17), ('bit', 9), ('fun', 27), ('horrif', 4), ('wife', 11), ('muslim', 22), ('itali', 4), ('liveleak', 1), ('boyinahorsemask', 1), ('panda', 1), ('mustachemurs', 1), ('dateswhitecoat', 1), ('truth', 16), ('pull', 13), ('appar', 8), ('adult', 6), ('trauma', 29), ('mock', 2), ('tension', 10), ('abia', 2), ('inec', 2), ('raze', 33), ('governor', 11), ('ikpeazu', 1), ('pdp', 10), ('apga', 1), ('react', 4), ('ok', 33), ('del', 2), ('choctaw', 1), ('cdt', 14), ('engulf', 30), ('low', 20), ('self', 29), ('imag', 23), ('put', 35), ('chicken', 2), ('nugget', 2), ('microwav', 1), ('intead', 1), ('burn', 133), ('dr', 17), ('basebal', 7), ('granttaman', 1), ('drewwtaylor', 1), ('dtop', 1), ('christi', 2), ('hillsid', 1), ('pit', 4), ('court', 12), ('session', 1), ('testimoni', 2), ('med', 11), ('examin', 12), ('discuss', 7), ('gunshot', 2), ('kerricktri', 4), ('shelli', 2), ('sens', 10), ('entitl', 1), ('ridicul', 4), ('fingerrockfir', 1), ('prepar', 20), ('find', 27), ('azwx', 1), ('detector', 1), ('requir', 4), ('shevlin', 1), ('hixon', 1), ('sadli', 7), ('save', 57), ('ursula', 1), ('drool', 2), ('protoshoggoth', 1), ('sort', 3), ('puppi', 3), ('destroy', 76), ('iphon', 5), ('cabl', 12), ('said', 46), ('co', 21), ('cindi', 2), ('noonan', 2), ('cindynoonan', 2), ('heartbreak', 2), ('baltimor', 3), ('yahistor', 2), ('undergroundrailraod', 2), ('christian', 24), ('templ', 18), ('mount', 19), ('isra', 26), ('flag', 23), ('pamela', 16), ('geller', 15), ('spookyfob', 1), ('feelslikefob', 1), ('okay', 19), ('ye', 23), ('kind', 5), ('patrick', 5), ('stump', 1), ('direct', 15), ('next', 40), ('album', 13), ('heart', 37), ('sunk', 32), ('hurt', 9), ('upset', 11), ('deserv', 5), ('icaseit', 1), ('mfi', 1), ('certifi', 2), ('realli', 54), ('someon', 33), ('ruin', 31), ('melris', 1), ('gayler', 1), ('wwwbigbaldhead', 1), ('jessienojok', 1), ('melissaross', 1), ('monti', 1), ('python', 1), ('date', 17), ('bloodi', 34), ('far', 23), ('wisdc', 1), ('obama', 54), ('support', 26), ('manslaught', 23), ('shoot', 27), ('elijah', 2), ('walker', 4), ('dakota', 2), ('skye', 1), ('horni', 1), ('porn', 5), ('juici', 1), ('pussi', 6), ('pound', 4), ('view', 15), ('download', 14), ('oh', 30), ('bill', 8), ('clinton', 6), ('nato', 2), ('liv', 1), ('oliviaapalmerr', 1), ('thatswhatfriendsarefor', 1), ('darrylb', 1), ('yea', 4), ('vampiro', 3), ('warfight', 2), ('robot', 7), ('reduc', 10), ('civilian', 15), ('prematur', 2), ('ftsn', 1), ('ftsnnewsdesk', 1), ('guk', 1), ('sing', 10), ('busi', 33), ('delug', 49), ('invoic', 6), ('oup', 1), ('colour', 7), ('shame', 7), ('pile', 14), ('niec', 3), ('god', 54), ('ryan', 3), ('troubl', 31), ('electr', 11), ('vs', 14), ('brew', 2), ('question', 15), ('stay', 31), ('till', 14), ('nashsnewvideo', 1), ('gemmahentsch', 1), ('megynkelli', 2), ('dloesch', 1), ('envis', 1), ('prevent', 11), ('place', 30), ('fel', 1), ('lord', 16), ('zakuun', 1), ('hellfir', 26), ('wod', 2), ('bicyclist', 9), ('denver', 11), ('broadway', 7), ('two', 83), ('taken', 18), ('morn', 20), ('downstair', 2), ('telli', 2), ('accident', 4), ('made', 39), ('dad', 13), ('broken', 8), ('nalathekoala', 1), ('health', 22), ('profession', 2), ('gun', 27), ('violenc', 4), ('sequala', 1), ('consid', 11), ('homicid', 1), ('cnn', 18), ('islam', 35), ('quran', 6), ('outsid', 20), ('niiiic', 1), ('haydnexist', 1), ('glad', 13), ('steal', 8), ('teahivetweet', 1), ('inund', 39), ('santa', 5), ('head', 42), ('st', 40), ('elizabeth', 2), ('superintend', 2), ('lanford', 1), ('salmon', 2), ('r', 39), ('calgari', 27), ('august', 33), ('himeruisu', 1), ('ram', 5), ('hard', 14), ('shove', 1), ('pillow', 5), ('muffl', 1), ('pain', 14), ('pleasur', 1), ('fe', 1), ('spring', 14), ('studebak', 1), ('rd', 29), ('trfc', 9), ('inj', 7), ('la', 24), ('refugio', 16), ('oil', 40), ('spill', 33), ('costlier', 16), ('bigger', 18), ('project', 26), ('lunch', 4), ('bartend', 1), ('number', 19), ('snap', 3), ('tool', 6), ('cap', 5), ('silver', 12), ('gray', 6), ('embroid', 3), ('logo', 3), ('flame', 47), ('slightli', 6), ('suh', 2), ('finsup', 1), ('serious', 8), ('tactic', 1), ('headquart', 2), ('disney', 14), ('marvel', 4), ('morganit', 1), ('gemston', 1), ('opal', 1), ('sterl', 1), ('ring', 4), ('adamtuss', 1), ('seri', 14), ('chanc', 15), ('use', 63), ('mt', 7), ('vern', 1), ('sq', 1), ('romeocrow', 1), ('organ', 7), ('import', 6), ('stuff', 9), ('amongst', 4), ('btw', 3), ('music', 29), ('ep', 8), ('stankyboy', 1), ('volleybal', 2), ('ii', 8), ('machin', 6), ('simul', 8), ('wing', 8), ('airplan', 32), ('papcrdol', 1), ('g', 17), ('mention', 16), ('choic', 7), ('deactiv', 2), ('respect', 8), ('dal', 1), ('wednesday', 14), ('report', 65), ('rb', 2), ('lanc', 2), ('dunbar', 2), ('ankl', 3), ('list', 14), ('gain', 8), ('access', 7), ('earner', 4), ('pleas', 60), ('dont', 16), ('anymor', 11), ('theyr', 2), ('tsunami', 30), ('tide', 3), ('eyesss', 1), ('startup', 3), ('flower', 3), ('straight', 8), ('volcano', 27), ('latechwatch', 1), ('sex', 14), ('teen', 12), ('fat', 11), ('cock', 3), ('latestnew', 2), ('cnbc', 5), ('anniversari', 27), ('wrought', 10), ('militari', 40), ('version', 9), ('govern', 32), ('still', 116), ('mark', 22), ('worri', 16), ('seen', 18), ('sister', 9), ('plane', 30), ('claimin', 1), ('sent', 11), ('corii', 1), ('siren', 50), ('birthday', 10), ('spoil', 2), ('wishlist', 1), ('sorrow', 3), ('jarmusch', 1), ('vampir', 1), ('doctordryadma', 1), ('coat', 3), ('hand', 22), ('certainti', 1), ('armageddon', 35), ('bear', 6), ('occas', 4), ('catfish', 2), ('retweet', 4), ('notif', 2), ('realis', 6), ('oso', 1), ('washington', 13), ('interview', 9), ('dt', 1), ('georgegalloway', 1), ('galloway', 1), ('col', 3), ('catch', 10), ('pickpocket', 1), ('liverpool', 1), ('stree', 1), ('lead', 21), ('near', 47), ('krefeld', 1), ('germani', 4), ('crew', 22), ('scene', 16), ('avoid', 17), ('area', 41), ('ijetalert', 1), ('ship', 30), ('remind', 10), ('finnish', 4), ('minist', 9), ('fennovoima', 2), ('distanc', 5), ('water', 55), ('rescuer', 31), ('hundr', 30), ('migrant', 36), ('mediterran', 7), ('optic', 3), ('illus', 2), ('cloud', 6), ('roll', 12), ('mountain', 19), ('geneva', 2), ('switzerland', 1), ('kca', 3), ('votejkt', 3), ('id', 6), ('duckvillelol', 1), ('flip', 5), ('tabl', 3), ('screw', 3), ('hit', 50), ('grab', 5), ('advic', 2), ('noah', 3), ('run', 62), ('toddler', 16), ('sh', 10), ('hotel', 5), ('shore', 2), ('norfolk', 1), ('declar', 40), ('typhoon', 50), ('saipan', 21), ('northern', 53), ('marian', 11), ('actual', 29), ('wall', 10), ('socket', 1), ('childhood', 3), ('bobcat', 1), ('backyard', 3), ('fairx', 1), ('playoverwatch', 1), ('blizzardc', 1), ('articl', 11), ('nno', 1), ('alton', 1), ('livestream', 1), ('butter', 5), ('touch', 7), ('plate', 4), ('nut', 2), ('joke', 3), ('lion', 7), ('sneak', 3), ('cockpit', 2), ('suspect', 44), ('resid', 6), ('live', 91), ('elk', 1), ('street', 26), ('monday', 3), ('josi', 1), ('wanna', 28), ('splif', 1), ('taco', 4), ('bell', 9), ('peacetim', 1), ('nation', 36), ('latest', 52), ('lynchburg', 1), ('advanc', 7), ('stab', 8), ('promis', 10), ('teamfollowback', 1), ('madhya', 11), ('pradesh', 11), ('youth', 14), ('followback', 2), ('etribun', 1), ('waziristan', 1), ('acebreakingnew', 1), ('n', 35), ('past', 26), ('l', 15), ('reopen', 6), ('close', 34), ('trash', 3), ('cleanup', 4), ('knx', 1), ('wow', 17), ('play', 51), ('googlemap', 1), ('mashup', 1), ('calcul', 1), ('syringetoang', 1), ('probabl', 19), ('disagr', 1), ('ross', 11), ('occurr', 1), ('someth', 28), ('clear', 9), ('ictyosaur', 1), ('thought', 30), ('yet', 22), ('month', 24), ('degre', 7), ('forest', 50), ('spend', 6), ('budget', 6), ('honey', 3), ('angel', 12), ('csaresu', 1), ('american', 26), ('auspol', 3), ('resembl', 1), ('abbott', 2), ('campbel', 1), ('came', 28), ('way', 70), ('wreckag', 33), ('conclus', 20), ('confirm', 49), ('mh', 58), ('malaysia', 42), ('ear', 11), ('thu', 6), ('femalegilgamesh', 1), ('assault', 1), ('useless', 1), ('spear', 3), ('dark', 12), ('forc', 26), ('howev', 3), ('penetr', 1), ('due', 25), ('buckl', 4), ('casual', 4), ('stylish', 3), ('surround', 5), ('desir', 9), ('control', 25), ('afterlif', 3), ('mentalhealthgov', 1), ('ahhhhh', 1), ('alec', 1), ('state', 55), ('tort', 1), ('comp', 2), ('law', 11), ('injustic', 1), ('potenti', 7), ('pathogen', 9), ('corp', 2), ('nyse', 1), ('fdx', 1), ('packag', 1), ('justinbieb', 5), ('hell', 20), ('ahhhh', 1), ('omg', 14), ('ago', 21), ('major', 19), ('chicago', 17), ('pink', 1), ('eye', 32), ('design', 9), ('rememb', 32), ('drop', 16), ('demi', 3), ('stan', 3), ('sold', 2), ('million', 19), ('copi', 1), ('demolish', 46), ('arianagrand', 7), ('idol', 3), ('wdym', 1), ('si', 5), ('cam', 4), ('panick', 25), ('petit', 12), ('heartless', 3), ('owner', 15), ('whip', 3), ('hors', 16), ('keep', 42), ('anim', 18), ('leak', 5), ('sewag', 1), ('estat', 4), ('irish', 3), ('independ', 5), ('aug', 22), ('soudelor', 22), ('approach', 8), ('philippin', 8), ('abc', 29), ('apollo', 12), ('feat', 11), ('mello', 1), ('soundcloud', 6), ('might', 18), ('tomorrow', 28), ('dk', 4), ('eyewit', 26), ('denmark', 3), ('ebay', 26), ('auction', 4), ('rank', 4), ('artectura', 1), ('pop', 10), ('florenc', 1), ('playlist', 12), ('youtub', 76), ('fli', 8), ('metlif', 1), ('away', 32), ('beat', 15), ('crap', 6), ('otratmetlif', 1), ('witch', 2), ('castl', 3), ('supernatur', 2), ('ya', 6), ('sibl', 2), ('rivalri', 1), ('magic', 6), ('wogc', 1), ('kindl', 9), ('zourryart', 1), ('forgot', 4), ('add', 6), ('shit', 47), ('despit', 3), ('fantasticfour', 2), ('notic', 10), ('cuana', 1), ('buy', 16), ('ticket', 9), ('ohio', 3), ('town', 18), ('focu', 6), ('fbi', 3), ('probe', 3), ('strang', 3), ('scienc', 8), ('payday', 1), ('loan', 4), ('promot', 3), ('financ', 2), ('liqd', 1), ('ian', 7), ('rude', 1), ('base', 14), ('experi', 11), ('sub', 10), ('tweet', 25), ('either', 7), ('shower', 6), ('song', 26), ('cours', 18), ('osag', 1), ('beach', 16), ('freddiedebo', 1), ('thucydipleas', 1), ('charleston', 1), ('walter', 2), ('scott', 4), ('broadli', 1), ('relat', 10), ('found', 47), ('prime', 8), ('buzzfe', 1), ('orca', 1), ('industri', 10), ('tryna', 5), ('meekmil', 2), ('expos', 4), ('cash', 2), ('cow', 3), ('updat', 49), ('extrem', 16), ('commun', 13), ('reward', 4), ('flew', 5), ('photographi', 5), ('art', 19), ('dualcom', 1), ('yesterday', 9), ('easter', 1), ('navista', 1), ('steve', 7), ('els', 14), ('tinderbox', 1), ('clown', 1), ('hood', 1), ('ablaz', 22), ('joe', 9), ('reinc', 1), ('presssec', 1), ('smart', 1), ('perfect', 8), ('win', 23), ('landslid', 29), ('allyinwondrland', 1), ('bread', 2), ('trader', 1), ('wknd', 1), ('alreadi', 26), ('night', 46), ('rq', 1), ('four', 11), ('createduniqu', 1), ('keren', 1), ('serpa', 1), ('arianare', 1), ('sayn', 1), ('ae', 1), ('arson', 24), ('th', 42), ('final', 27), ('properti', 17), ('sat', 5), ('vacant', 3), ('saddlebrook', 2), ('benedict', 2), ('sanelesstheori', 1), ('metal', 9), ('playa', 1), ('assail', 1), ('movi', 44), ('theatr', 7), ('homeless', 6), ('psycholog', 3), ('dream', 12), ('saw', 30), ('raynbowaffair', 4), ('editor', 4), ('chief', 10), ('diamondkesawn', 4), ('ramag', 4), ('fashion', 14), ('model', 6), ('mayhem', 15), ('sunday', 13), ('abl', 8), ('around', 34), ('ebrointheam', 1), ('jay', 6), ('pun', 2), ('biggi', 1), ('wrap', 4), ('zero', 3), ('flawless', 2), ('victori', 5), ('brazil', 6), ('spin', 4), ('space', 19), ('occur', 16), ('star', 25), ('involv', 14), ('fleet', 8), ('dianneg', 1), ('bicep', 1), ('chest', 3), ('torso', 2), ('jonathanferrel', 1), ('alllivesmatt', 2), ('incred', 5), ('racist', 4), ('necessari', 3), ('convers', 6), ('efak', 2), ('occup', 4), ('assembl', 3), ('bake', 6), ('without', 43), ('turn', 32), ('kitchen', 1), ('egg', 4), ('flour', 1), ('drill', 7), ('door', 12), ('smash', 4), ('feelingmanli', 1), ('ah', 7), ('cupcak', 2), ('cramp', 1), ('bruh', 8), ('mulan', 1), ('almost', 22), ('euro', 4), ('da', 8), ('judg', 4), ('gave', 13), ('di', 10), ('firearm', 1), ('vector', 1), ('clip', 5), ('vinyl', 2), ('cutter', 1), ('rifl', 2), ('bee', 7), ('profit', 5), ('hungri', 7), ('compani', 18), ('savebe', 3), ('allow', 17), ('parol', 12), ('school', 57), ('tomcatart', 2), ('explain', 7), ('annihil', 45), ('case', 23), ('evolv', 3), ('becam', 4), ('godlik', 1), ('join', 17), ('provid', 7), ('team', 23), ('nurs', 9), ('job', 31), ('torranc', 1), ('ca', 15), ('hire', 14), ('grade', 3), ('famin', 29), ('mega', 4), ('score', 3), ('dynamix', 1), ('mofo', 1), ('dc', 8), ('unarm', 1), ('terrorist', 42), ('worseit', 1), ('sorri', 16), ('cain', 3), ('emot', 19), ('great', 51), ('punk', 1), ('band', 6), ('origin', 8), ('week', 42), ('em', 16), ('ghostoftheav', 1), ('montroseband', 1), ('earthquak', 49), ('atm', 2), ('gunmen', 3), ('el', 11), ('salvador', 4), ('salvadoran', 2), ('gang', 6), ('bring', 23), ('bene', 1), ('gesserit', 1), ('litani', 1), ('dune', 1), ('atgrannyshous', 1), ('hear', 25), ('suni', 1), ('orang', 5), ('thur', 2), ('ctr', 1), ('goshen', 1), ('paci', 1), ('centr', 17), ('australia', 15), ('rsf', 1), ('protest', 8), ('secur', 27), ('gag', 1), ('ancient', 14), ('mayan', 8), ('tablet', 11), ('info', 15), ('wnd', 3), ('cld', 2), ('sct', 2), ('bkn', 2), ('exp', 7), ('inst', 3), ('apch', 3), ('rwi', 3), ('taxiway', 3), ('foxtrot', 6), ('navbl', 3), ('tmp', 3), ('nowplay', 21), ('fitz', 1), ('tantrum', 1), ('listen', 25), ('nosurrend', 2), ('result', 19), ('titl', 5), ('match', 11), ('bulli', 3), ('ray', 8), ('career', 16), ('heavi', 20), ('manit', 1), ('colorado', 14), ('toll', 4), ('thursday', 17), ('gamin', 1), ('ight', 1), ('bright', 2), ('side', 22), ('tiffanyfrizzel', 1), ('brookesddl', 1), ('nearli', 19), ('hop', 6), ('episod', 9), ('wn', 1), ('wild', 36), ('worldnew', 9), ('breast', 1), ('milk', 2), ('superfood', 1), ('rate', 15), ('worldwid', 2), ('stall', 1), ('contribut', 4), ('ir', 6), ('icemoon', 6), ('aftershock', 17), ('djicemoon', 6), ('dubstep', 7), ('trapmus', 6), ('dnb', 7), ('edm', 9), ('ice', 13), ('modiministri', 2), ('heyseto', 1), ('epic', 5), ('hail', 34), ('sac', 4), ('ave', 11), ('ofr', 1), ('bbcintroduc', 1), ('purpleturtlerdg', 1), ('giantgiantsound', 1), ('rdg', 1), ('tutor', 1), ('evad', 1), ('three', 19), ('decad', 2), ('slate', 3), ('violentfeminazi', 1), ('armenian', 1), ('spent', 4), ('histori', 20), ('crime', 12), ('nanotech', 1), ('devic', 3), ('clot', 1), ('yhngsjlg', 1), ('sismo', 8), ('km', 26), ('interlaken', 2), ('utc', 20), ('waimat', 4), ('navi', 10), ('sidelin', 7), ('newest', 6), ('stallion', 1), ('kbeastx', 1), ('genisi', 1), ('agre', 13), ('discov', 6), ('africa', 13), ('suelinflow', 1), ('describ', 7), ('physic', 5), ('painthey', 1), ('rip', 13), ('dear', 6), ('lifeit', 1), ('meetkakarotto', 1), ('bother', 4), ('offlin', 1), ('manag', 15), ('everyon', 46), ('hinata', 1), ('nine', 4), ('giant', 19), ('garbag', 3), ('k', 21), ('expertwhin', 1), ('jedi', 1), ('collect', 5), ('droid', 2), ('hasbro', 1), ('riverroam', 1), ('bbcnew', 1), ('cost', 14), ('blind', 3), ('lexi', 1), ('purdue', 1), ('rli', 13), ('mp', 24), ('recount', 11), ('horror', 22), ('coach', 17), ('plung', 10), ('noth', 24), ('sure', 25), ('excess', 1), ('engin', 5), ('signific', 3), ('mainten', 7), ('constantli', 3), ('phew', 1), ('yeah', 21), ('ride', 4), ('rest', 6), ('danisnotonfir', 2), ('advertis', 3), ('widda', 1), ('gone', 10), ('relax', 4), ('goner', 1), ('whoop', 1), ('gidiexclusix', 1), ('shock', 7), ('aba', 12), ('faceless', 2), ('bennycapricon', 1), ('alabama', 13), ('loner', 1), ('diari', 1), ('pattern', 2), ('sand', 2), ('choke', 5), ('absurdli', 1), ('men', 28), ('manhood', 1), ('daniglasgow', 1), ('happi', 23), ('usagov', 3), ('korean', 1), ('perform', 4), ('tokyo', 1), ('f', 14), ('mhtw', 6), ('fnet', 6), ('fox', 6), ('missleylaha', 1), ('alarm', 18), ('univsfound', 1), ('arabia', 7), ('vocal', 3), ('lyric', 3), ('amaz', 9), ('vocalist', 1), ('themal', 1), ('madonna', 1), ('melani', 1), ('fiona', 1), ('slept', 1), ('tip', 9), ('wmata', 8), ('quickli', 8), ('subject', 6), ('cia', 4), ('equip', 6), ('evil', 6), ('ad', 21), ('gta', 6), ('onlin', 17), ('thousand', 18), ('river', 22), ('vivaargentina', 1), ('salem', 7), ('shut', 9), ('circuit', 3), ('pump', 5), ('lighten', 4), ('malaysian', 5), ('najib', 2), ('razak', 1), ('aircraft', 22), ('debri', 41), ('union', 11), ('isla', 1), ('homebuy', 1), ('miscalcul', 1), ('mwjcdk', 1), ('diamorfiend', 2), ('legal', 4), ('system', 8), ('forget', 8), ('ruhl', 1), ('frog', 2), ('modoc', 1), ('temporarili', 1), ('reassign', 1), ('lt', 22), ('lip', 4), ('arm', 11), ('captain', 3), ('resoluteshield', 1), ('commod', 1), ('escap', 15), ('price', 9), ('bayelsa', 16), ('poll', 5), ('patienc', 16), ('jonathan', 13), ('apc', 12), ('former', 14), ('invent', 1), ('insomniac', 1), ('wee', 3), ('growingupblack', 2), ('fri', 4), ('enter', 8), ('sean', 2), ('kingdom', 4), ('franc', 16), ('daesh', 2), ('syria', 5), ('voltair', 1), ('network', 2), ('willhillbet', 1), ('doubl', 8), ('app', 9), ('lawsonoffici', 1), ('cannot', 10), ('contain', 3), ('thankyou', 1), ('allahsfinest', 1), ('itun', 4), ('glori', 1), ('luiz', 1), ('santo', 1), ('jazz', 3), ('scotto', 1), ('young', 14), ('lovemywif', 1), ('shedid', 1), ('fact', 14), ('journalist', 2), ('washard', 1), ('stop', 54), ('robert', 7), ('mueller', 1), ('complaint', 3), ('nov', 1), ('son', 11), ('debatequestionswewanttohear', 1), ('israel', 14), ('wahhab', 1), ('zionism', 1), ('sammi', 1), ('todd', 3), ('alway', 42), ('uniform', 5), ('lmao', 9), ('forev', 11), ('kfc', 1), ('fam', 4), ('dispatch', 2), ('boon', 1), ('counti', 33), ('seat', 7), ('shape', 11), ('expert', 21), ('reunion', 29), ('french', 9), ('air', 37), ('began', 8), ('bare', 6), ('solo', 2), ('blunt', 2), ('squeaver', 1), ('hangin', 1), ('buck', 2), ('watchin', 1), ('septic', 1), ('tank', 7), ('haji', 1), ('hunter', 6), ('middleeastey', 1), ('muzzi', 1), ('spontan', 2), ('combust', 2), ('allah', 8), ('payback', 1), ('afraid', 5), ('sudden', 1), ('neither', 3), ('desol', 50), ('wick', 4), ('cometh', 1), ('shall', 8), ('thi', 2), ('drew', 2), ('storen', 1), ('cure', 2), ('cancer', 11), ('contempl', 2), ('disrespect', 1), ('micom', 2), ('bowknot', 1), ('womengirl', 1), ('zip', 2), ('po', 6), ('zotar', 1), ('skeleton', 1), ('alchemist', 1), ('atamathon', 1), ('golem', 2), ('graveyard', 2), ('skyler', 1), ('relief', 7), ('carri', 14), ('janta', 1), ('express', 11), ('reach', 12), ('mumbai', 9), ('firstpostin', 1), ('tech', 7), ('overload', 2), ('grow', 15), ('demand', 5), ('context', 3), ('inform', 13), ('indo', 1), ('pact', 1), ('caixxum', 1), ('gurmeetramrahim', 1), ('msgdo', 1), ('welfarework', 1), ('green', 15), ('ke', 3), ('appx', 1), ('har', 1), ('ki', 2), ('liy', 1), ('tyar', 1), ('hai', 1), ('heather', 1), ('ava', 1), ('sparxxx', 1), ('threesom', 1), ('vgbootcamp', 2), ('sn', 2), ('vabeng', 2), ('zss', 2), ('sw', 8), ('falcon', 3), ('tell', 29), ('eleph', 4), ('famili', 105), ('threaten', 11), ('behead', 2), ('croatian', 3), ('within', 5), ('tlvface', 2), ('shekhargupta', 1), ('mihirssharma', 1), ('high', 42), ('trp', 1), ('becom', 21), ('mockeri', 1), ('ja', 1), ('race', 6), ('educ', 1), ('bounc', 2), ('winston', 4), ('churchil', 1), ('stem', 2), ('cub', 2), ('talk', 26), ('roster', 1), ('arizzo', 1), ('jlester', 1), ('homecom', 1), ('prom', 2), ('socialnew', 5), ('burp', 1), ('kwislo', 1), ('mad', 14), ('decent', 2), ('rainstorm', 28), ('b', 40), ('pipelin', 5), ('rachelcain', 1), ('weatherit', 1), ('snow', 8), ('tornado', 32), ('constitut', 1), ('senfeinstein', 1), ('sen', 2), ('feinstein', 2), ('hurri', 3), ('huge', 18), ('uncontrol', 2), ('tune', 10), ('wgg', 1), ('megaquak', 1), ('stori', 40), ('brought', 8), ('understand', 14), ('rotat', 5), ('lean', 2), ('red', 37), ('tree', 19), ('class', 19), ('learni', 1), ('took', 10), ('enorm', 2), ('dratom', 1), ('trophi', 2), ('photoshop', 4), ('nagasaki', 16), ('bannuk', 1), ('pyrotechn', 1), ('artwork', 1), ('cai', 1), ('guo', 1), ('qiang', 1), ('blossom', 1), ('step', 9), ('philadelphia', 2), ('freddi', 1), ('sippin', 2), ('milkshak', 3), ('snowstorm', 24), ('kircut', 1), ('dope', 3), ('pictur', 9), ('togeth', 12), ('dopest', 1), ('growingupspoil', 1), ('clay', 1), ('pigeon', 1), ('cri', 17), ('msoreo', 1), ('tkyonli', 1), ('fmk', 1), ('sad', 11), ('biker', 4), ('beatdown', 1), ('pro', 7), ('democraci', 7), ('nypdnew', 1), ('undercov', 3), ('third', 4), ('exhibit', 2), ('creepiest', 1), ('reason', 25), ('brain', 7), ('oneself', 2), ('discount', 1), ('redesign', 2), ('websit', 4), ('itrawcwb', 1), ('alfapedia', 1), ('burst', 7), ('bre', 1), ('morrow', 1), ('weloverobdyrdek', 1), ('adrian', 1), ('peel', 1), ('clue', 1), ('patriot', 3), ('waterway', 3), ('achimota', 2), ('mile', 11), ('liveonlin', 2), ('hollywood', 19), ('chile', 14), ('panoram', 1), ('resourc', 3), ('tita', 2), ('dom', 1), ('bowl', 6), ('iamhorsefli', 1), ('hide', 3), ('loos', 10), ('flatten', 29), ('ball', 18), ('raffi', 1), ('rc', 1), ('sustainourearth', 1), ('oklahoma', 13), ('limit', 10), ('risk', 15), ('scoopit', 3), ('supernovalest', 1), ('liter', 19), ('bc', 17), ('ugh', 5), ('jfc', 1), ('sevenfigz', 1), ('bride', 5), ('groom', 3), ('cliff', 34), ('edg', 2), ('ha', 6), ('exit', 9), ('heartbeat', 1), ('familiar', 1), ('setzorah', 1), ('mean', 29), ('xbox', 6), ('smh', 9), ('cop', 18), ('gunfight', 1), ('bt', 3), ('jimin', 1), ('hardstyl', 1), ('messi', 3), ('mix', 11), ('alien', 3), ('mixifi', 1), ('kenni', 1), ('holland', 3), ('vida', 2), ('kenai', 1), ('spur', 1), ('highway', 9), ('glenstannard', 1), ('essexweath', 1), ('about', 1), ('ignit', 14), ('knock', 14), ('sensor', 13), ('senso', 8), ('beck', 2), ('arnley', 2), ('strickskin', 1), ('nickscom', 1), ('usual', 11), ('uncl', 3), ('ben', 9), ('benaffleck', 1), ('talent', 2), ('stil', 1), ('affleck', 2), ('scrambledegg', 1), ('kia', 1), ('monitor', 3), ('jihadi', 2), ('poland', 2), ('freedomoutpost', 1), ('jax', 2), ('outlook', 8), ('hwo', 7), ('wx', 7), ('pace', 4), ('nike', 3), ('sportwatch', 2), ('gp', 6), ('nikeplu', 2), ('cortezera', 1), ('kick', 13), ('forsur', 2), ('gym', 3), ('drrichardbess', 1), ('colleg', 2), ('difficult', 1), ('esp', 3), ('dispers', 1), ('fast', 22), ('joint', 3), ('pour', 3), ('burnt', 2), ('fallontonight', 1), ('oliv', 5), ('swim', 10), ('entir', 18), ('waterboard', 1), ('dip', 2), ('unr', 2), ('mph', 14), ('weston', 2), ('wy', 3), ('custer', 2), ('pennington', 2), ('sd', 1), ('selmoooooo', 1), ('edvinnn', 1), ('imtariik', 1), ('dzafic', 1), ('hari', 1), ('selmo', 1), ('slaughter', 1), ('smithsonian', 3), ('protect', 11), ('unless', 7), ('steveychees', 1), ('mapmyrun', 1), ('round', 10), ('map', 13), ('caught', 18), ('hawaii', 9), ('oop', 4), ('h', 12), ('lost', 19), ('okinawan', 1), ('coast', 12), ('fell', 5), ('tbt', 4), ('kane', 1), ('driver', 13), ('firetruck', 2), ('bundl', 2), ('sticker', 1), ('decal', 1), ('pmarca', 2), ('held', 8), ('affili', 3), ('fee', 3), ('rv', 1), ('stroke', 2), ('mtvhottest', 6), ('helen', 3), ('rosemarytraval', 1), ('xd', 5), ('lhh', 1), ('silent', 4), ('master', 4), ('tennesse', 5), ('lesbian', 3), ('coupl', 15), ('fake', 5), ('hate', 24), ('bitch', 12), ('condit', 8), ('fwi', 4), ('terwillig', 1), ('blvd', 7), ('portland', 5), ('pp', 3), ('soccer', 3), ('yo', 7), ('meerkat', 1), ('periscop', 1), ('facebook', 4), ('pakpattan', 2), ('correspond', 2), ('psd', 1), ('olap', 3), ('pre', 12), ('recogn', 5), ('multidimensi', 2), ('runkeep', 1), ('calori', 5), ('loseit', 1), ('belief', 3), ('joel', 3), ('stacdemon', 1), ('five', 10), ('chri', 1), ('mullin', 1), ('john', 5), ('sjubb', 1), ('silverstar', 1), ('felt', 12), ('romero', 1), ('mental', 8), ('hutch', 1), ('bluejay', 6), ('align', 1), ('russia', 16), ('stood', 1), ('cold', 11), ('superior', 1), ('uncondit', 1), ('surrend', 2), ('putin', 8), ('luck', 4), ('sleep', 12), ('schedul', 6), ('beyond', 8), ('larg', 14), ('hill', 9), ('anderson', 1), ('scwx', 2), ('grape', 1), ('esh', 5), ('hey', 17), ('welshninja', 1), ('tag', 4), ('hashtag', 5), ('cat', 14), ('bathroom', 5), ('meow', 1), ('louder', 1), ('struggl', 12), ('brena', 1), ('puerto', 1), ('rico', 1), ('cta', 2), ('line', 24), ('prairi', 1), ('planet', 7), ('lone', 4), ('audienc', 4), ('demo', 2), ('friend', 32), ('kenosha', 1), ('ooour', 1), ('abu', 1), ('baraa', 1), ('toler', 1), ('iraqi', 2), ('mutil', 1), ('illeg', 9), ('intern', 27), ('confer', 7), ('samanthaturn', 2), ('nagaski', 1), ('forgiven', 2), ('alli', 4), ('twelv', 10), ('pakistani', 12), ('ambul', 33), ('repuls', 1), ('victimis', 1), ('dutton', 2), ('evangel', 1), ('liar', 1), ('lnp', 1), ('dupe', 1), ('overdr', 1), ('chopperg', 1), ('bronwynbishop', 1), ('america', 27), ('sick', 14), ('differ', 15), ('mess', 6), ('slam', 4), ('lesson', 5), ('lover', 3), ('fifa', 2), ('tournament', 1), ('mode', 13), ('whocar', 1), ('myanmar', 11), ('urg', 2), ('delta', 2), ('region', 8), ('coun', 1), ('crippl', 2), ('anxieti', 2), ('overwhelm', 1), ('fairli', 1), ('adjust', 3), ('mediev', 1), ('upheav', 18), ('hardi', 2), ('file', 4), ('franklin', 3), ('dixon', 2), ('aladdin', 1), ('edit', 7), ('telegraphworld', 1), ('mmmm', 1), ('induc', 1), ('tidal', 2), ('medic', 6), ('aac', 1), ('org', 5), ('standardis', 1), ('clinic', 1), ('nh', 5), ('sourc', 7), ('mansehra', 5), ('seem', 11), ('brief', 4), ('swept', 1), ('afternoon', 7), ('lollapalooza', 2), ('lizhphoto', 1), ('rather', 10), ('outburst', 1), ('aggress', 4), ('sux', 1), ('kiddi', 1), ('ploppi', 1), ('satellit', 8), ('spi', 2), ('super', 13), ('girlfriend', 4), ('roimentor', 1), ('yycwalk', 1), ('irand', 7), ('congress', 4), ('err', 1), ('gucci', 1), ('chosen', 3), ('shanghai', 4), ('popular', 2), ('commerci', 6), ('avenu', 3), ('colo', 1), ('lzkeli', 1), ('j', 10), ('lyon', 1), ('ffvii', 1), ('weekend', 12), ('exclam', 1), ('midweek', 1), ('sundercr', 1), ('remix', 3), ('merg', 1), ('silenc', 3), ('chip', 1), ('varieti', 3), ('pack', 14), ('fruit', 5), ('snack', 3), ('redbul', 1), ('babybackreev', 1), ('random', 3), ('broke', 11), ('pc', 8), ('cree', 11), ('led', 13), ('offroad', 10), ('lamp', 12), ('boat', 27), ('mine', 14), ('wd', 6), ('beam', 4), ('rea', 6), ('progress', 6), ('bois', 2), ('ultim', 5), ('prepared', 8), ('librari', 7), ('overcom', 1), ('behold', 1), ('tcc', 1), ('endless', 1), ('teamhennessi', 1), ('nj', 3), ('tprimo', 1), ('djeddygnj', 1), ('colombian', 1), ('festiv', 5), ('associ', 7), ('instal', 6), ('non', 9), ('compliant', 6), ('extern', 7), ('clad', 3), ('www', 3), ('cbplawyer', 2), ('calest', 1), ('tanzania', 2), ('popul', 12), ('declin', 3), ('censu', 2), ('reveal', 9), ('decemb', 2), ('dismiss', 2), ('rape', 4), ('chilli', 1), ('dorito', 1), ('fail', 8), ('tough', 5), ('crossfit', 1), ('jone', 5), ('kyle', 4), ('sake', 3), ('danemillar', 1), ('lonewolffur', 4), ('tora', 1), ('execut', 8), ('prosecut', 6), ('prone', 3), ('calum', 4), ('chamber', 1), ('colt', 1), ('whine', 1), ('nfl', 4), ('cantmakeitup', 1), ('patriotsn', 1), ('dustpiggi', 1), ('awash', 1), ('abstract', 1), ('dustpig', 1), ('done', 23), ('celtic', 2), ('finger', 7), ('aberdeen', 1), ('eh', 3), ('alon', 18), ('stone', 8), ('onnnn', 1), ('unbeliev', 1), ('insan', 6), ('aeroplan', 1), ('runway', 5), ('freaki', 1), ('op', 4), ('gameplay', 4), ('hunt', 6), ('snd', 2), ('competit', 1), ('multiplay', 5), ('drayesha', 1), ('indiakomuntorjawabdo', 1), ('rcmp', 2), ('seriou', 10), ('tch', 2), ('whitbourn', 2), ('royalcarribean', 2), ('passeng', 15), ('faroeisland', 2), ('whatev', 4), ('perfectli', 2), ('text', 10), ('harveymain', 1), ('aaaa', 1), ('lemm', 1), ('roomr', 1), ('gay', 12), ('railway', 5), ('prabhu', 4), ('calam', 4), ('raishimi', 1), ('fine', 9), ('applaud', 1), ('electron', 5), ('resist', 3), ('leisur', 2), ('tab', 2), ('matt', 3), ('bez', 1), ('bangin', 1), ('rose', 6), ('eric', 3), ('edwin', 1), ('californian', 2), ('sahel', 1), ('desert', 3), ('chore', 1), ('action', 24), ('swarm', 2), ('swell', 4), ('dare', 4), ('ntsb', 2), ('trigger', 7), ('brake', 6), ('unlock', 6), ('earli', 12), ('tattoo', 3), ('donat', 6), ('receiv', 4), ('lulgzimbestpict', 3), ('sigalert', 3), ('southbound', 3), ('irvin', 2), ('chp', 2), ('detour', 2), ('fn', 1), ('prettyboyshyflizzi', 1), ('shipwreck', 3), ('thenewshyp', 1), ('dirk', 2), ('trossen', 1), ('hailstorm', 16), ('cvinch', 1), ('waow', 1), ('drove', 4), ('scari', 5), ('staci', 1), ('spotlight', 1), ('paradis', 1), ('mc', 2), ('wniagospel', 1), ('arsonistmus', 2), ('reput', 1), ('prestig', 1), ('prosser', 1), ('serv', 8), ('legit', 3), ('mall', 4), ('nobodi', 4), ('ophiuchu', 1), ('truelov', 2), ('romanc', 5), ('lith', 2), ('voodoo', 3), ('seduct', 2), ('astrolog', 2), ('rtrrt', 2), ('lotz', 2), ('pla', 1), ('hottest', 1), ('youngin', 1), ('finna', 1), ('boutta', 1), ('gunman', 10), ('theater', 15), ('cheryl', 2), ('obsess', 2), ('cole', 2), ('estim', 11), ('nyt', 1), ('rawfoodbliss', 1), ('middl', 13), ('humid', 5), ('forehead', 1), ('flare', 1), ('oli', 1), ('extract', 1), ('tb', 3), ('govt', 14), ('rs', 5), ('cr', 5), ('lifelin', 1), ('fci', 1), ('store', 7), ('grain', 2), ('fr', 5), ('enough', 10), ('capac', 4), ('avail', 2), ('nw', 14), ('vladimir', 3), ('late', 10), ('ground', 14), ('ahahahga', 1), ('maryland', 4), ('mansion', 4), ('plug', 5), ('christma', 5), ('dalailama', 1), ('biggest', 13), ('pizza', 4), ('yahooschwab', 1), ('easi', 5), ('rice', 2), ('fiasco', 1), ('amaramin', 1), ('meek', 16), ('definit', 6), ('capabl', 1), ('drake', 17), ('smooth', 3), ('meltdown', 29), ('itsnasb', 1), ('replac', 9), ('sarcasm', 1), ('meter', 4), ('wyrmwood', 1), ('awesom', 15), ('frequent', 1), ('gusti', 4), ('uptown', 2), ('midtown', 1), ('cn', 1), ('reuter', 15), ('italian', 4), ('alp', 3), ('rome', 3), ('popey', 1), ('bout', 7), ('forney', 1), ('heavydirtysoul', 1), ('jet', 6), ('zergel', 1), ('qendil', 1), ('other', 14), ('six', 7), ('vancouv', 4), ('ct', 1), ('aka', 6), ('room', 12), ('account', 13), ('glean', 1), ('oral', 2), ('anchorag', 6), ('alaska', 7), ('janiethekillr', 1), ('jack', 7), ('sketchbook', 1), ('mask', 1), ('morgan', 5), ('dollar', 6), ('dmpl', 1), ('cameo', 1), ('rev', 1), ('blaze', 46), ('holi', 4), ('looooooooooool', 1), ('parti', 14), ('annual', 5), ('medal', 1), ('justic', 8), ('nativ', 2), ('rosewel', 1), ('accionempresa', 3), ('spark', 11), ('gerenciatodo', 3), ('adriasimon', 1), ('yyc', 9), ('yycstorm', 2), ('shop', 10), ('cutekitten', 1), ('catsofinstagram', 1), ('summerinsweden', 1), ('katt', 1), ('katterp', 1), ('instagram', 5), ('duml', 1), ('dagen', 1), ('watchthevideo', 1), ('spyro', 1), ('textur', 1), ('hack', 4), ('garden', 5), ('illustr', 4), ('timelin', 3), ('particularli', 2), ('horrifi', 1), ('faster', 4), ('overtook', 1), ('twice', 4), ('tru', 1), ('luv', 1), ('rachelrof', 1), ('woke', 10), ('iraq', 6), ('hashd', 1), ('shaabi', 1), ('theft', 1), ('czallstarw', 1), ('riddler', 1), ('presidenti', 1), ('wannab', 2), ('certain', 4), ('rich', 4), ('mbiwa', 1), ('rat', 2), ('dinallyhot', 1), ('worth', 8), ('fifth', 4), ('ink', 3), ('vote', 13), ('reizei', 1), ('sama', 1), ('fate', 4), ('rindou', 1), ('decre', 1), ('ton', 3), ('chees', 7), ('ukrain', 4), ('border', 4), ('truli', 5), ('chao', 4), ('unpreced', 2), ('frenzi', 1), ('utter', 3), ('disord', 2), ('mania', 1), ('astound', 1), ('catovitch', 1), ('piner', 2), ('horndal', 2), ('sprinter', 3), ('automat', 6), ('frontlin', 4), ('lez', 3), ('social', 11), ('rowyso', 1), ('setlist', 2), ('complet', 21), ('esn', 1), ('cilla', 1), ('spain', 3), ('visit', 11), ('global', 16), ('chernobyl', 2), ('namjoon', 1), ('fantast', 5), ('bye', 1), ('patio', 1), ('umbrella', 1), ('chair', 4), ('foul', 2), ('instead', 14), ('suspens', 2), ('writer', 3), ('naaa', 1), ('zombi', 7), ('sore', 3), ('attent', 7), ('rch', 1), ('footbal', 10), ('player', 9), ('coffin', 1), ('locker', 1), ('tommorow', 1), ('cool', 27), ('techniqu', 2), ('actionmoviestaughtu', 1), ('fantosex', 1), ('suck', 6), ('amend', 1), ('florida', 8), ('tampabay', 1), ('tampa', 3), ('count', 3), ('beauscoven', 1), ('nah', 9), ('debbi', 1), ('hospit', 11), ('answer', 13), ('rule', 19), ('easier', 1), ('bar', 22), ('admit', 7), ('scheme', 6), ('lgbt', 5), ('raniakhalek', 1), ('true', 12), ('everyth', 17), ('bin', 8), ('laden', 7), ('afghanistan', 9), ('children', 19), ('ugli', 6), ('cramer', 6), ('iger', 5), ('topnew', 1), ('firework', 2), ('brooktekl', 1), ('assist', 5), ('along', 8), ('expect', 26), ('downpour', 2), ('northeast', 3), ('toward', 8), ('va', 6), ('bronx', 3), ('voortrekk', 1), ('tambo', 1), ('intl', 1), ('cargo', 2), ('section', 3), ('skinni', 4), ('tiggr', 1), ('squad', 10), ('stretcher', 21), ('min', 6), ('speaker', 2), ('deck', 2), ('pisc', 1), ('better', 30), ('mrrobinson', 1), ('give', 27), ('thesteveharveyshow', 1), ('vibe', 1), ('teacher', 3), ('student', 13), ('cant', 9), ('scofield', 1), ('hotbox', 1), ('sona', 1), ('stefano', 1), ('microsoft', 4), ('anti', 8), ('viru', 3), ('freya', 1), ('everywher', 8), ('brut', 2), ('rebah', 1), ('zenand', 1), ('mcfen', 1), ('ndzedz', 1), ('ash', 11), ('tear', 12), ('summerf', 5), ('financi', 12), ('wiedem', 1), ('http', 4), ('sturi', 1), ('note', 5), ('descend', 2), ('crest', 1), ('cobra', 2), ('harshli', 1), ('torch', 3), ('west', 15), ('meat', 6), ('feminist', 10), ('grill', 10), ('arriv', 16), ('cowgirllawy', 1), ('refus', 7), ('unawar', 4), ('intox', 1), ('colinhoffman', 1), ('npzp', 1), ('ebola', 11), ('inw', 1), ('alert', 7), ('spsgsp', 1), ('edt', 5), ('picken', 2), ('strong', 9), ('trend', 4), ('nigeria', 4), ('tradit', 4), ('ruler', 1), ('cascada', 1), ('dancefloor', 1), ('order', 35), ('canaanit', 5), ('grenad', 6), ('imposs', 3), ('hoe', 4), ('rfp', 1), ('transporta', 1), ('cloydriv', 1), ('plenti', 2), ('tosu', 1), ('championship', 3), ('orchid', 1), ('fort', 5), ('calhoun', 1), ('station', 3), ('accord', 7), ('nrc', 2), ('droughtmonitor', 1), ('moder', 2), ('contig', 1), ('affect', 34), ('johngreen', 1), ('robthier', 1), ('en', 6), ('scrape', 1), ('butt', 3), ('activis', 1), ('cogniz', 1), ('technolog', 8), ('wale', 2), ('faction', 1), ('usama', 1), ('ladin', 1), ('favor', 4), ('tube', 4), ('crane', 11), ('friday', 12), ('quotesttg', 1), ('helio', 1), ('besti', 1), ('texa', 19), ('chainsaw', 1), ('declarat', 1), ('acenewsdesk', 1), ('rene', 1), ('jacinta', 1), ('fallen', 4), ('sky', 16), ('mar', 2), ('kopiteluk', 1), ('drum', 5), ('janic', 1), ('followlasg', 1), ('urgentther', 1), ('storey', 1), ('church', 9), ('oworoshoki', 1), ('mainland', 1), ('bestnaijamad', 20), ('ri', 2), ('togth', 1), ('mistresspip', 1), ('mistress', 1), ('laugh', 8), ('stick', 5), ('matter', 11), ('predict', 8), ('path', 5), ('taiwan', 11), ('landfal', 3), ('invit', 3), ('expo', 1), ('keith', 2), ('mercuri', 2), ('quarter', 5), ('panel', 1), ('rear', 6), ('trim', 1), ('mould', 1), ('cj', 1), ('age', 7), ('aria', 2), ('ahrari', 2), ('thetawniest', 2), ('kroschel', 1), ('vail', 1), ('agenc', 2), ('elitist', 1), ('stephen', 2), ('pot', 2), ('abstorm', 8), ('iamdowntown', 1), ('barbado', 1), ('bridgetown', 1), ('jamaica', 5), ('founder', 6), ('huffman', 5), ('unveil', 6), ('specif', 7), ('thief', 2), ('hicksvil', 1), ('stole', 1), ('cell', 4), ('fled', 2), ('western', 8), ('uganda', 2), ('lit', 1), ('max', 5), ('screenshot', 5), ('combat', 4), ('magnum', 5), ('opu', 4), ('diver', 1), ('neil', 3), ('anthoni', 2), ('steamship', 1), ('mail', 5), ('sunshin', 1), ('fab', 1), ('albertson', 1), ('sale', 8), ('paint', 8), ('gailsimon', 1), ('iwasdisappointedbi', 1), ('telltal', 1), ('charact', 12), ('anynam', 2), ('concentr', 1), ('mrtophypup', 1), ('sexi', 3), ('chick', 2), ('masturb', 1), ('reckon', 1), ('dmt', 1), ('reliv', 2), ('brb', 1), ('kijima', 1), ('matako', 3), ('stupid', 8), ('rout', 10), ('alic', 1), ('uluru', 1), ('haha', 11), ('jam', 5), ('imeshika', 1), ('hapa', 1), ('mat', 2), ('bumper', 2), ('aar', 1), ('decid', 8), ('chill', 6), ('bonnieg', 1), ('piga', 1), ('kijan', 1), ('dri', 7), ('pinpoint', 2), ('valley', 4), ('sriramk', 1), ('dlin', 1), ('common', 10), ('pertain', 2), ('ownership', 1), ('opposit', 6), ('nuu', 1), ('fwt', 1), ('lorr', 1), ('bless', 11), ('saintrobinho', 1), ('bottom', 5), ('clearli', 4), ('demonstr', 3), ('seek', 17), ('warra', 1), ('metrofmtalk', 2), ('jen', 1), ('exchang', 14), ('gunfir', 5), ('richmond', 12), ('exc', 2), ('lastma', 1), ('challeng', 4), ('lago', 1), ('mbataweel', 1), ('binladen', 1), ('outta', 3), ('dirt', 1), ('bike', 5), ('committe', 2), ('personnel', 2), ('asianshawtyy', 1), ('dicehatem', 1), ('puppyshogun', 1), ('wood', 6), ('ukflood', 1), ('trekker', 1), ('amid', 17), ('himalaya', 3), ('tr', 6), ('microb', 1), ('depart', 14), ('defens', 7), ('kit', 9), ('whistl', 1), ('blanket', 2), ('knife', 1), ('nissannew', 1), ('among', 6), ('bing', 1), ('kalmikya', 1), ('astrakhan', 1), ('volgagrad', 1), ('dagestan', 1), ('locust', 1), ('timeworld', 1), ('locat', 5), ('premonit', 2), ('moe', 1), ('bouta', 1), ('armori', 3), ('sf', 2), ('bay', 7), ('announc', 5), ('chem', 2), ('wed', 14), ('mainli', 1), ('cloudi', 2), ('percent', 8), ('anybodi', 2), ('circl', 3), ('epicentr', 6), ('jailbreak', 1), ('rite', 1), ('tlk', 1), ('widout', 1), ('nuh', 1), ('cum', 4), ('fi', 2), ('itz', 1), ('rubberi', 1), ('dem', 4), ('knw', 1), ('billboard', 2), ('chart', 5), ('driven', 4), ('petereallen', 1), ('huffpostuk', 1), ('icon', 2), ('less', 11), ('substanti', 1), ('effort', 8), ('mcdonald', 3), ('theadvocatemag', 2), ('yemen', 3), ('abandon', 10), ('cactu', 1), ('borderland', 2), ('oocvg', 1), ('ftw', 1), ('gold', 11), ('tram', 7), ('powerlin', 6), ('carriag', 1), ('tennew', 1), ('sharp', 5), ('afghan', 6), ('snipe', 3), ('chevrolet', 2), ('avalanch', 22), ('ltz', 1), ('lift', 9), ('favorit', 17), ('trombonetristan', 1), ('ooooohshit', 1), ('ooohshit', 1), ('written', 4), ('vantag', 2), ('point', 20), ('detkenlang', 1), ('bird', 4), ('submiss', 1), ('slopeofhop', 1), ('dilut', 2), ('safe', 10), ('roosevelt', 10), ('minhazmerch', 2), ('coyot', 2), ('lizard', 2), ('phoenix', 10), ('arizona', 2), ('supposedli', 1), ('repres', 3), ('valu', 5), ('cgi', 1), ('lmfaoooo', 2), ('wocowa', 2), ('ush', 2), ('abbswinston', 4), ('zionist', 5), ('vivid', 1), ('triad', 1), ('speci', 2), ('earth', 14), ('mosquito', 1), ('mirad', 1), ('robdelaney', 1), ('unabl', 1), ('ejacul', 1), ('blacken', 1), ('parch', 1), ('harri', 5), ('tinder', 1), ('box', 10), ('gaza', 5), ('greec', 3), ('exactli', 7), ('imagin', 11), ('entertain', 7), ('address', 5), ('veld', 1), ('refund', 2), ('statu', 3), ('trc', 1), ('torontorc', 1), ('yelllowheath', 1), ('crowd', 4), ('undeserv', 1), ('wrightsboro', 1), ('kshllcenterpri', 1), ('mod', 12), ('bat', 7), ('arti', 1), ('kaboom', 1), ('airlift', 1), ('factori', 4), ('arabian', 4), ('disco', 7), ('te', 3), ('amo', 1), ('jake', 3), ('adavi', 1), ('cuddl', 1), ('magnet', 2), ('everyday', 5), ('atl', 2), ('fran', 2), ('squar', 2), ('thoutaylorbrown', 1), ('drawn', 4), ('shoe', 8), ('amazon', 12), ('foot', 5), ('mini', 8), ('shaper', 1), ('width', 1), ('plain', 5), ('coercion', 1), ('weak', 5), ('ensur', 3), ('bass', 2), ('dubloadz', 1), ('droppd', 1), ('meellltt', 1), ('segment', 1), ('v', 18), ('antholog', 1), ('featur', 5), ('recov', 5), ('portion', 3), ('ce', 1), ('badotweet', 1), ('potu', 9), ('troop', 7), ('kurdish', 4), ('hinatobot', 1), ('drug', 4), ('alcohol', 4), ('vroman', 1), ('mxaaaa', 1), ('african', 3), ('appreci', 2), ('goat', 3), ('rocket', 1), ('chrisdanielshow', 1), ('pee', 1), ('francisco', 1), ('maj', 3), ('muzzamil', 2), ('offr', 2), ('mi', 5), ('almighti', 1), ('strength', 1), ('loss', 11), ('pretti', 17), ('shotgun', 1), ('denton', 1), ('mv', 1), ('strut', 2), ('bg', 2), ('bangladeshaffect', 1), ('bangladeshflood', 1), ('greedi', 2), ('bastard', 2), ('fullscreen', 1), ('creativ', 2), ('censorship', 1), ('trillion', 2), ('pbohanna', 1), ('bore', 9), ('justaguess', 1), ('sharper', 1), ('viper', 1), ('hardsid', 1), ('daviskawalya', 1), ('mauryn', 1), ('goodby', 3), ('grandpa', 2), ('idea', 14), ('relentless', 2), ('dominicana', 1), ('siri', 1), ('nors', 1), ('landscap', 2), ('load', 8), ('atmospher', 3), ('snotgreen', 1), ('wasteland', 1), ('triumphant', 1), ('yolk', 1), ('hah', 3), ('pawsox', 1), ('return', 13), ('trip', 7), ('durham', 1), ('knoxvil', 3), ('sentinel', 5), ('outrag', 11), ('golf', 4), ('fit', 8), ('jacket', 3), ('medium', 2), ('sportinggood', 1), ('tanslash', 1), ('appli', 11), ('digniti', 2), ('rn', 6), ('siena', 1), ('campu', 4), ('henderson', 1), ('accus', 6), ('khqa', 1), ('swansea', 2), ('plot', 6), ('transfer', 2), ('southampton', 3), ('virgil', 2), ('van', 5), ('dijk', 2), ('document', 5), ('disclos', 1), ('osi', 1), ('lack', 6), ('australian', 7), ('mitig', 4), ('supervisor', 3), ('retail', 3), ('samaritan', 3), ('twimbo', 1), ('zimpapersview', 1), ('dynast', 1), ('king', 13), ('legendari', 3), ('period', 2), ('dumuzid', 1), ('losdelsonido', 2), ('ivanberroa', 2), ('sport', 15), ('cycl', 4), ('director', 4), ('ns', 3), ('lawfulsurvivor', 1), ('glenn', 1), ('moral', 4), ('andrea', 1), ('jacqui', 2), ('merl', 1), ('diamond', 2), ('handsid', 1), ('idiot', 4), ('imsushickoflov', 1), ('alekalicant', 1), ('yep', 3), ('gauz', 1), ('incid', 8), ('inner', 5), ('loop', 6), ('georgia', 7), ('guiltygearxxacp', 1), ('foxnewsinsid', 1), ('fals', 11), ('vest', 2), ('brace', 1), ('depress', 3), ('arsen', 5), ('canada', 8), ('prepper', 3), ('doomsday', 1), ('cd', 2), ('shtf', 1), ('preppertalk', 1), ('motor', 3), ('rainier', 2), ('av', 5), ('hieroglyph', 5), ('honor', 6), ('lowli', 5), ('retract', 2), ('pam', 5), ('wordpressdotcom', 2), ('adventur', 2), ('juli', 8), ('movement', 3), ('casu', 1), ('journey', 2), ('ssssnell', 1), ('factor', 3), ('rope', 1), ('anger', 4), ('tonto', 6), ('salt', 12), ('gagnon', 1), ('impos', 2), ('marriag', 1), ('downtown', 15), ('beaumont', 1), ('benew', 1), ('ngata', 1), ('reginald', 1), ('wompppp', 1), ('hashtagteaclub', 1), ('ex', 6), ('par', 1), ('andi', 1), ('tod', 1), ('instant', 2), ('ensu', 2), ('counter', 3), ('alexandrian', 1), ('spaceshiptwo', 1), ('kpcc', 1), ('ap', 13), ('retir', 1), ('instruct', 2), ('bookmobil', 1), ('struck', 5), ('shawi', 2), ('vip', 3), ('shania', 2), ('pitcher', 2), ('ego', 4), ('worldnetdaili', 2), ('parley', 6), ('summit', 2), ('myfriendmina', 1), ('mold', 1), ('growth', 3), ('proudgreenhom', 1), ('institut', 2), ('chairman', 1), ('ferno', 1), ('compon', 2), ('eeasterl', 1), ('countermoonbat', 1), ('purpl', 4), ('manufactur', 2), ('coastguard', 1), ('float', 6), ('sea', 17), ('explan', 1), ('request', 3), ('jungl', 1), ('schelbertgeorg', 1), ('teach', 2), ('ren', 1), ('dlh', 2), ('unavoid', 3), ('consequ', 5), ('youngheroesid', 3), ('dieanpink', 1), ('yu', 1), ('nita', 1), ('pantherattack', 3), ('nro', 1), ('except', 9), ('unauthor', 1), ('duti', 5), ('that', 4), ('fool', 3), ('spot', 19), ('combo', 8), ('inch', 6), ('curv', 5), ('fog', 6), ('rockyfir', 4), ('jerri', 2), ('aggressif', 1), ('cute', 6), ('wen', 2), ('warfar', 1), ('norwaymfa', 1), ('bahrain', 1), ('previous', 4), ('toronto', 5), ('leaf', 1), ('realist', 1), ('asset', 1), ('koz', 1), ('erker', 1), ('eep', 1), ('hella', 2), ('bulletin', 4), ('hannaph', 2), ('wet', 4), ('raineishida', 1), ('nervou', 1), ('bend', 3), ('fd', 3), ('prompt', 8), ('main', 6), ('weed', 5), ('marijuana', 1), ('salmanmydarl', 1), ('dub', 1), ('egypt', 2), ('croat', 2), ('rangerkaitimay', 1), ('calm', 9), ('wipp', 2), ('radiat', 5), ('sejorg', 1), ('cfc', 2), ('ancop', 1), ('novalismi', 1), ('joseph', 1), ('mallord', 1), ('william', 4), ('turner', 1), ('shade', 1), ('clicca', 1), ('sul', 1), ('titolo', 1), ('sarniamakchri', 1), ('hromadsk', 1), ('kasiadear', 1), ('silli', 1), ('walkthrough', 1), ('vet', 8), ('jihad', 1), ('islamaphob', 1), ('regist', 4), ('rainfal', 3), ('vietnam', 7), ('situat', 7), ('bah', 1), ('concept', 2), ('autumn', 3), ('winter', 6), ('menswear', 1), ('urbanfashion', 1), ('dmerida', 1), ('terribl', 4), ('tast', 6), ('natali', 2), ('steak', 2), ('cheer', 1), ('identif', 1), ('battlefield', 8), ('mogacola', 1), ('zamtriossu', 1), ('interrupt', 1), ('georg', 6), ('bernard', 1), ('shaw', 2), ('poconorecord', 1), ('emergencymgtmag', 1), ('household', 2), ('solicitor', 2), ('graduat', 1), ('comment', 18), ('stage', 14), ('shed', 4), ('michigan', 4), ('bmurph', 1), ('youtsey', 1), ('termn', 1), ('goblu', 1), ('wrestleon', 1), ('obedi', 1), ('trial', 6), ('sell', 3), ('blow', 12), ('theori', 3), ('dude', 14), ('thoroughli', 1), ('brutal', 6), ('nvr', 1), ('mistreat', 2), ('megancoopi', 1), ('laurathorn', 1), ('lancasteronlin', 1), ('lancast', 1), ('charli', 5), ('lim', 1), ('leh', 1), ('ifak', 1), ('individu', 6), ('aid', 7), ('creat', 16), ('af', 7), ('fuso', 1), ('battleship', 4), ('yamashiro', 1), ('naval', 1), ('cover', 22), ('cachet', 1), ('wwii', 9), ('futur', 9), ('nikistitz', 1), ('northbayhealth', 1), ('center', 22), ('shine', 1), ('multi', 3), ('apollobrown', 3), ('grandeur', 2), ('friggin', 2), ('destiel', 1), ('vine', 7), ('descript', 6), ('dopey', 2), ('hilari', 7), ('zouma', 3), ('wheat', 1), ('trespass', 1), ('lest', 1), ('cech', 1), ('paul', 11), ('keegan', 2), ('aliv', 8), ('depend', 5), ('counselor', 5), ('seattl', 10), ('meg', 2), ('hannomottola', 1), ('trpreston', 1), ('mlrydalch', 1), ('nice', 10), ('remodel', 1), ('flowri', 1), ('marinad', 1), ('recal', 8), ('kraft', 2), ('omron', 1), ('hem', 1), ('pressur', 7), ('standard', 13), ('bp', 3), ('cuff', 3), ('rvfriedmann', 1), ('fraction', 1), ('lodisilverado', 1), ('ritzi', 1), ('jewel', 1), ('flickershowel', 1), ('gloria', 1), ('gaynor', 1), ('oktaviana', 1), ('devi', 1), ('rec', 2), ('trollingtilmeekdiss', 1), ('slum', 1), ('manifest', 2), ('citizen', 3), ('discours', 1), ('confound', 1), ('stopevict', 1), ('marlen', 1), ('menahem', 1), ('moshav', 1), ('safsufa', 1), ('hama', 2), ('eg', 2), ('dart', 1), ('particip', 2), ('intens', 6), ('technic', 1), ('hew', 2), ('woodchuck', 1), ('mandem', 1), ('totteham', 1), ('maddddd', 1), ('fed', 2), ('ting', 1), ('dere', 1), ('condemn', 6), ('warm', 6), ('uniti', 2), ('karma', 2), ('paramed', 4), ('insid', 24), ('halloikbenwil', 1), ('malik', 2), ('saadth', 1), ('produc', 6), ('kpdi', 1), ('jan', 3), ('kppolic', 1), ('punctur', 2), ('foreign', 2), ('index', 2), ('nail', 3), ('initi', 3), ('icd', 1), ('murfreesboro', 1), ('walmart', 4), ('dnj', 1), ('com', 4), ('observ', 3), ('rage', 6), ('inciweb', 1), ('rogu', 2), ('siskiy', 2), ('nf', 1), ('weird', 9), ('hunterston', 1), ('process', 1), ('smithereen', 1), ('ontario', 2), ('plant', 8), ('develop', 6), ('doon', 1), ('architect', 3), ('permiss', 1), ('birmingham', 1), ('natwest', 1), ('tower', 2), ('tallest', 1), ('hello', 10), ('thigh', 2), ('cleav', 1), ('cleavag', 1), ('delmont', 1), ('onion', 1), ('mcnabbych', 1), ('usg', 9), ('eq', 4), ('twentynin', 1), ('palm', 5), ('isai', 1), ('psm', 1), ('conspiraci', 2), ('scatter', 1), ('unto', 2), ('remov', 14), ('linkuri', 6), ('browser', 9), ('slipper', 1), ('picthi', 1), ('amazing', 1), ('cocktail', 1), ('diablo', 2), ('ma', 2), ('verd', 1), ('mezcal', 1), ('yellow', 2), ('chartreus', 1), ('cucumb', 1), ('bitter', 1), ('european', 2), ('kabul', 1), ('acarewornheart', 1), ('fella', 2), ('loui', 8), ('trump', 10), ('pollster', 1), ('realdonaldtrump', 3), ('roger', 2), ('bannist', 1), ('allen', 1), ('enbot', 1), ('mother', 3), ('mari', 7), ('xgn', 1), ('infin', 3), ('ronin', 1), ('carbon', 1), ('hahah', 2), ('mutual', 1), ('host', 7), ('preset', 1), ('bal', 2), ('nade', 1), ('radar', 4), ('nap', 2), ('mnpdnashvil', 3), ('montalbanoni', 1), ('themagickidrap', 2), ('ralli', 5), ('etc', 9), ('darchambau', 1), ('thx', 8), ('encourag', 4), ('apocalypt', 4), ('speak', 3), ('oblig', 1), ('hgf', 1), ('uh', 1), ('huh', 5), ('robbi', 1), ('redsox', 1), ('wide', 3), ('awak', 1), ('aim', 7), ('tepco', 2), ('increas', 9), ('thyroid', 2), ('politician', 1), ('alleg', 6), ('plannedparenthood', 1), ('standwithpp', 2), ('dan', 7), ('hugh', 2), ('daniel', 4), ('robinson', 3), ('ou', 1), ('wbball', 1), ('utica', 1), ('ny', 11), ('pleasant', 1), ('paw', 1), ('averag', 3), ('grass', 1), ('niall', 2), ('jinx', 1), ('gopdeb', 2), ('sweetpea', 1), ('allot', 1), ('brighten', 1), ('raini', 1), ('ibrahimmisau', 1), ('faan', 7), ('mma', 5), ('advisori', 7), ('urban', 1), ('recoveri', 5), ('recommend', 6), ('sicili', 6), ('knive', 1), ('ojoubot', 1), ('assess', 1), ('optim', 1), ('sustain', 4), ('environment', 2), ('nbanew', 1), ('nan', 2), ('runner', 4), ('especi', 6), ('client', 5), ('wart', 1), ('spike', 1), ('prior', 3), ('ckec', 1), ('kendal', 1), ('jenner', 1), ('nick', 1), ('jona', 1), ('arizonadot', 1), ('bound', 3), ('univers', 8), ('salado', 1), ('crackin', 1), ('cristianinspir', 1), ('itsqueenbabi', 1), ('bunch', 1), ('doc', 3), ('newidea', 1), ('write', 11), ('alexandrapullin', 1), ('inde', 7), ('dramat', 6), ('splottdav', 1), ('teampalestina', 1), ('precipit', 3), ('measur', 4), ('captur', 16), ('nasahurrican', 4), ('bartlett', 1), ('hs', 2), ('astroturf', 1), ('crumbl', 1), ('kinda', 8), ('boulder', 1), ('deputi', 6), ('stearn', 1), ('leoblakecart', 1), ('natasha', 1), ('rideout', 1), ('iateyourfood', 1), ('yike', 1), ('pup', 1), ('porcupin', 1), ('guillermo', 4), ('noaa', 1), ('faze', 1), ('weight', 2), ('cloth', 4), ('fundwhen', 1), ('goal', 7), ('equal', 8), ('somehow', 6), ('heal', 7), ('fill', 7), ('perman', 4), ('pt', 3), ('scholar', 1), ('imprison', 2), ('enolagay', 1), ('disarm', 1), ('readi', 16), ('wbcshirl', 1), ('doessnt', 1), ('rejoic', 1), ('ect', 1), ('fund', 8), ('haiyan', 3), ('devpeac', 1), ('rvacchianonydn', 1), ('airlin', 12), ('disappear', 7), ('scorpion', 2), ('deadliest', 2), ('bewar', 2), ('combin', 5), ('mariahcarey', 1), ('intact', 2), ('glide', 1), ('yahoofin', 1), ('bonhomm', 1), ('export', 1), ('solv', 4), ('poverti', 5), ('tribal', 8), ('beastin', 1), ('tapa', 1), ('folk', 3), ('funtim', 1), ('riyadh', 2), ('afp', 1), ('thursd', 1), ('mageavexi', 1), ('skardu', 1), ('modestmouseremix', 1), ('truestori', 1), ('raychielovesu', 1), ('lemonad', 1), ('semi', 1), ('paid', 2), ('domin', 1), ('coffe', 8), ('jacksonvil', 4), ('memori', 27), ('wwe', 2), ('mycar', 1), ('tyron', 1), ('ra', 2), ('messag', 10), ('condol', 3), ('lyeh', 1), ('plummet', 3), ('idgaf', 1), ('philli', 5), ('strengthen', 2), ('partnership', 1), ('afterhaiyan', 1), ('yolandaph', 1), ('livelihood', 1), ('disasterrecoveri', 1), ('blitz', 2), ('travers', 2), ('disrupt', 7), ('seminar', 1), ('tra', 1), ('dyannbridg', 1), ('yeshayad', 1), ('rockin', 4), ('claytonbry', 3), ('artistsunit', 3), ('ft', 10), ('tx', 1), ('cacheadv', 1), ('besid', 4), ('nasti', 3), ('sbnation', 1), ('marketforc', 2), ('perth', 1), ('winner', 1), ('iinet', 1), ('nbn', 1), ('buffer', 3), ('shark', 3), ('willienelson', 1), ('voic', 10), ('gilbert', 3), ('crackdown', 7), ('restrict', 4), ('impress', 7), ('demonstratio', 3), ('najibrazak', 1), ('malaysiaairlin', 1), ('plank', 1), ('njenga', 2), ('hero', 16), ('latin', 2), ('argentina', 1), ('econom', 8), ('dozen', 6), ('iron', 5), ('xii', 1), ('nightmarishli', 1), ('ritualist', 1), ('club', 7), ('de', 12), ('nevada', 1), ('steadi', 1), ('nv', 1), ('droughtgov', 1), ('transform', 4), ('unconsci', 1), ('disgust', 3), ('quest', 6), ('type', 8), ('present', 5), ('wolforth', 1), ('fourth', 2), ('altamont', 1), ('uninvestig', 1), ('incit', 2), ('indonesia', 2), ('japanjapan', 1), ('inferior', 1), ('nytim', 4), ('ireland', 3), ('freez', 3), ('parisian', 1), ('accustom', 2), ('sheet', 2), ('aaaaaand', 1), ('chord', 1), ('workout', 3), ('field', 3), ('funnydadcoach', 1), ('np', 5), ('metallica', 1), ('inc', 2), ('extermin', 2), ('embrac', 2), ('emhub', 1), ('ugc', 1), ('personalinjuri', 1), ('otleyhour', 1), ('slip', 9), ('ev', 3), ('angelriveralib', 1), ('snowden', 2), ('katrina', 2), ('ember', 1), ('greenlacey', 1), ('godslov', 3), ('thanku', 3), ('madison', 2), ('valleywx', 1), ('thetxi', 1), ('gunnersfan', 1), ('ham', 1), ('releg', 1), ('afc', 1), ('esteem', 3), ('tragic', 2), ('unaddress', 1), ('keithboykin', 1), ('randallpinkston', 1), ('pozarmi', 1), ('gregorysand', 1), ('usdot', 1), ('stat', 4), ('auto', 3), ('lightrail', 1), ('throwback', 2), ('lucymayoffici', 1), ('hibern', 1), ('pbx', 1), ('irrespect', 1), ('pitch', 4), ('pan', 2), ('crbzfz', 1), ('hoodedu', 1), ('berlatski', 1), ('nycdivorcelaw', 1), ('denier', 3), ('alga', 1), ('bloom', 1), ('pacif', 6), ('calif', 5), ('alska', 1), ('seewe', 1), ('caribean', 1), ('snowbal', 2), ('inhof', 1), ('luka', 1), ('aloi', 1), ('tranci', 1), ('sue', 24), ('disea', 16), ('fascin', 1), ('korea', 3), ('propaganda', 1), ('aw', 7), ('lung', 4), ('braveri', 1), ('mgn', 1), ('pin', 3), ('correct', 7), ('tent', 9), ('wizkidayo', 1), ('makinmemori', 1), ('sweet', 9), ('exist', 6), ('blossominglilac', 1), ('dwarfonjetpack', 1), ('saturn', 2), ('soothmyslumb', 1), ('watermeloann', 1), ('populardemand', 1), ('soak', 5), ('thewebbeffect', 1), ('decisionsondecis', 1), ('nd', 16), ('attract', 3), ('daretotaha', 1), ('foreskin', 1), ('trafford', 5), ('angri', 14), ('odeon', 5), ('cinema', 8), ('twi', 1), ('manchesterlit', 1), ('realiz', 8), ('transit', 4), ('metro', 10), ('closest', 2), ('ara', 1), ('fighter', 5), ('infiltr', 1), ('ashrafiyah', 1), ('district', 1), ('afrin', 1), ('ypg', 1), ('dock', 4), ('powder', 1), ('introduct', 1), ('theolog', 2), ('aesthet', 1), ('catalina', 1), ('ovofest', 1), ('ovo', 2), ('ziphimup', 1), ('aquarium', 1), ('ornament', 2), ('sail', 3), ('cave', 3), ('decor', 2), ('helpm', 1), ('wayn', 3), ('stylist', 1), ('generalnew', 2), ('skip', 3), ('fant', 1), ('stic', 1), ('bummer', 2), ('deepest', 1), ('officeofrg', 1), ('holiday', 5), ('brochur', 1), ('rang', 4), ('downsid', 1), ('shutdown', 2), ('edmonton', 1), ('acquir', 3), ('traitor', 1), ('cabrillo', 1), ('magellan', 1), ('mir', 1), ('collater', 1), ('familia', 1), ('autobiographi', 1), ('lawton', 1), ('collin', 1), ('backti', 1), ('strawberri', 1), ('scientist', 5), ('solut', 4), ('assassinkpg', 1), ('friendship', 3), ('frankli', 1), ('bhavana', 1), ('mom', 20), ('tellyfckngo', 1), ('jaycootchi', 1), ('homi', 3), ('babal', 1), ('dolc', 2), ('heyot', 1), ('agreement', 1), ('cw', 2), ('jaiden', 1), ('jewelri', 2), ('vacat', 2), ('sandi', 2), ('page', 7), ('vimeo', 1), ('tj', 2), ('robertson', 1), ('sewer', 2), ('vid', 3), ('doublecup', 2), ('trubgm', 3), ('prod', 3), ('thisizbwright', 2), ('marksmaponyan', 1), ('sundown', 1), ('previou', 3), ('worker', 7), ('columbu', 1), ('babe', 4), ('abomin', 3), ('maketh', 2), ('antichrist', 1), ('desecr', 1), ('jerusalem', 1), ('smoker', 1), ('smell', 6), ('sandiego', 4), ('crematoria', 10), ('provok', 10), ('crisi', 14), ('ari', 2), ('hint', 2), ('snippet', 1), ('ashberxo', 1), ('mischief', 1), ('trace', 1), ('foreclos', 1), ('tejc', 1), ('honestli', 6), ('photoset', 2), ('hakogaku', 1), ('born', 4), ('rais', 2), ('alex', 2), ('lightman', 1), ('evid', 6), ('motiv', 4), ('regret', 1), ('matthew', 3), ('donnelli', 1), ('hamilton', 3), ('mm', 1), ('regardless', 1), ('decis', 4), ('garag', 1), ('propan', 1), ('sunnymead', 1), ('stare', 1), ('furiou', 3), ('crocodil', 1), ('wash', 11), ('gravi', 1), ('kidscompani', 1), ('basic', 3), ('julian', 1), ('knight', 3), ('scvsupremecourt', 1), ('attempt', 6), ('prison', 5), ('quantum', 1), ('jeep', 1), ('cheroke', 2), ('lawsuit', 2), ('fiat', 1), ('chrysler', 1), ('harman', 1), ('hacker', 2), ('consumerist', 1), ('mcgsecur', 1), ('remainontop', 1), ('fettilootch', 3), ('slanglucci', 3), ('oppress', 4), ('greatest', 6), ('funnynew', 1), ('chunk', 3), ('onto', 7), ('ef', 3), ('trek', 2), ('pluto', 2), ('moon', 3), ('charon', 1), ('stylishli', 1), ('uniqu', 1), ('wander', 1), ('whenev', 2), ('leandotorg', 1), ('quicker', 1), ('woundedpigeon', 1), ('laughtrad', 1), ('capitul', 1), ('comparison', 2), ('studi', 6), ('calabria', 1), ('malta', 1), ('ledoffici', 1), ('sampl', 5), ('wisenew', 4), ('grace', 3), ('style', 6), ('categori', 1), ('defin', 1), ('disput', 1), ('gunfail', 1), ('nra', 1), ('caesar', 1), ('backup', 2), ('eastbound', 1), ('visibl', 2), ('giveaway', 2), ('stuckinbook', 1), ('telemarket', 1), ('neighbor', 3), ('uke', 1), ('kidstheseday', 1), ('comdev', 1), ('asia', 4), ('broadcast', 2), ('upcom', 1), ('behindashield', 1), ('goddess', 1), ('chaboyyhd', 1), ('duke', 2), ('nora', 1), ('municip', 9), ('mazda', 1), ('stuart', 5), ('broad', 5), ('aussi', 6), ('jorrynja', 1), ('bf', 1), ('gf', 3), ('ter', 1), ('ell', 2), ('fave', 1), ('trolley', 5), ('duh', 1), ('dislik', 1), ('femnism', 1), ('dorrian', 1), ('therapi', 4), ('sexual', 4), ('diagnosi', 1), ('digitalhealth', 1), ('hcsm', 1), ('sounder', 1), ('finish', 4), ('libertarianluk', 1), ('honest', 2), ('rampag', 1), ('onlyftf', 1), ('tuski', 1), ('robsimss', 1), ('cantmisskid', 1), ('hip', 5), ('pioneer', 1), ('palefac', 1), ('drift', 2), ('raft', 1), ('enkelbiljett', 1), ('menolippu', 1), ('ahamedi', 1), ('messiah', 1), ('dajaal', 1), ('gog', 1), ('magog', 1), ('marker', 1), ('mooresvil', 1), ('iredel', 1), ('ramp', 1), ('plu', 6), ('rapidc', 2), ('cheyenn', 2), ('sunbath', 1), ('wheeler', 2), ('suv', 3), ('robpulsenew', 1), ('huyovoetripoly', 1), ('phillip', 1), ('ldnr', 1), ('mantra', 1), ('kurtschlicht', 4), ('falphil', 1), ('liber', 1), ('compass', 1), ('bs', 3), ('sexist', 1), ('suruc', 1), ('nopeach', 1), ('flat', 4), ('thinkpink', 1), ('magichairbump', 1), ('martial', 1), ('tgirl', 2), ('frozen', 2), ('sequel', 2), ('ralph', 1), ('soldi', 1), ('graze', 4), ('invalid', 4), ('rexyy', 2), ('towel', 4), ('nsf', 1), ('bon', 1), ('more', 1), ('arrestpastornganga', 2), ('kenya', 4), ('collabor', 1), ('footag', 4), ('memphi', 2), ('infest', 1), ('wimp', 1), ('sketch', 1), ('corey', 2), ('solid', 3), ('rep', 6), ('although', 4), ('alot', 1), ('kidney', 1), ('dutch', 3), ('fotofil', 1), ('gorgeou', 2), ('jaydennotjar', 1), ('hug', 4), ('ps', 9), ('vilelunar', 1), ('trickshot', 1), ('regular', 3), ('infinit', 1), ('fade', 3), ('klarajoelsson', 1), ('prefer', 5), ('afk', 1), ('johanfranzen', 1), ('orch', 1), ('abil', 3), ('tyrant', 1), ('verseth', 1), ('heaven', 3), ('cuban', 3), ('sympathi', 3), ('dani', 1), ('nashhmu', 1), ('nece', 1), ('todayngr', 1), ('stormcom', 1), ('durban', 2), ('mediterranean', 7), ('carr', 2), ('nosi', 1), ('earnest', 1), ('pletch', 1), ('rant', 2), ('snapchat', 2), ('xoxo', 2), ('foliag', 1), ('douchebag', 1), ('fresno', 1), ('allerg', 1), ('slide', 6), ('fevwarrior', 2), ('vault', 2), ('zarri', 2), ('stloui', 1), ('caraccidentlawy', 1), ('speed', 4), ('tee', 1), ('weathernetwork', 3), ('karinagarciaxo', 1), ('dam', 4), ('bud', 1), ('eac', 1), ('au', 2), ('casper', 5), ('rmg', 2), ('bestcomedyvin', 1), ('what', 4), ('morehous', 1), ('ethic', 2), ('relev', 1), ('mere', 1), ('sight', 2), ('abe', 3), ('missil', 1), ('jsdf', 1), ('gn', 3), ('trailer', 5), ('scheer', 1), ('rob', 4), ('huebel', 1), ('comedi', 3), ('stain', 1), ('urgent', 2), ('jakartapost', 1), ('glimps', 2), ('hyderabad', 2), ('edw', 1), ('blacklivesmatt', 2), ('angusmacneilsnp', 1), ('utterli', 4), ('embarrass', 3), ('indi', 4), ('tuicruis', 1), ('aida', 1), ('cruis', 1), ('whale', 4), ('faro', 1), ('cont', 2), ('cnni', 1), ('prisonplanet', 1), ('specialist', 4), ('encaust', 1), ('cerographi', 1), ('byityf', 1), ('broseidonrex', 1), ('dapurplesharpi', 1), ('skim', 2), ('insult', 2), ('devot', 1), ('pride', 1), ('ten', 8), ('fold', 3), ('reprocuss', 1), ('birth', 3), ('retroact', 1), ('hammond', 1), ('scout', 2), ('melt', 3), ('cube', 1), ('liveleakfun', 1), ('prais', 1), ('ministri', 1), ('wdyouth', 1), ('biblestudi', 1), ('alllll', 1), ('nitti', 1), ('stockwel', 1), ('modelbubbl', 1), ('gm', 7), ('enemi', 5), ('destini', 5), ('heavenli', 7), ('card', 7), ('headdesk', 1), ('deliber', 1), ('appetit', 1), ('cecilthelion', 3), ('badchoic', 1), ('bantrophyhunt', 1), ('traintragedi', 1), ('coloiccarn', 1), ('instinct', 1), ('scratch', 2), ('europ', 2), ('metrotown', 1), ('poorli', 2), ('maintain', 2), ('burnabi', 1), ('changeforthewors', 1), ('savior', 1), ('amirkingkhan', 1), ('floydmayweath', 1), ('perish', 1), ('holodomor', 1), ('erect', 1), ('capit', 5), ('mum', 3), ('batteri', 4), ('bluetooth', 4), ('muppet', 1), ('chew', 4), ('gum', 1), ('billmccab', 1), ('taho', 2), ('indiatv', 1), ('gov', 9), ('experienc', 5), ('institution', 1), ('su', 3), ('slander', 1), ('rolo', 1), ('dq', 2), ('mirmanda', 1), ('evaaasr', 1), ('societi', 6), ('tozlet', 1), ('leprosi', 1), ('jerkfac', 1), ('syndrom', 2), ('lisp', 1), ('toilet', 6), ('ricket', 1), ('vagersedolla', 1), ('recent', 6), ('petebest', 1), ('dessic', 1), ('laid', 3), ('kneel', 1), ('microlight', 5), ('blairmcdougal', 1), ('taylor', 2), ('arkan', 1), ('chariti', 6), ('michaelgbaron', 1), ('lefti', 1), ('noch', 1), ('bestia', 1), ('alexi', 2), ('sanchez', 2), ('teammat', 1), ('goodnight', 1), ('gunner', 1), ('jdavi', 1), ('cage', 3), ('bro', 8), ('subway', 1), ('aisumag', 1), ('akumareisu', 1), ('ophelia', 1), ('oliviamil', 1), ('chelsdelong', 1), ('kendra', 1), ('leigh', 1), ('elgeotaofeeq', 1), ('ambit', 1), ('somebodi', 4), ('gotta', 9), ('sbee', 1), ('fuckin', 3), ('thedoolinggroup', 1), ('bordento', 1), ('princessduck', 1), ('jame', 4), ('acryl', 1), ('rapper', 3), ('asylum', 1), ('seeker', 1), ('ndetent', 1), ('unscreen', 1), ('dcclotheslin', 1), ('slower', 3), ('lethal', 5), ('cncpt', 1), ('solelink', 1), ('bradleybrad', 2), ('zak', 3), ('bagan', 3), ('sabrina', 1), ('kept', 6), ('flush', 2), ('gtfo', 2), ('piss', 2), ('donni', 2), ('envw', 2), ('nickcocofre', 2), ('juliedicaro', 2), ('jdabe', 2), ('empathi', 1), ('warcraft', 3), ('inspir', 3), ('schwarber', 2), ('cervelli', 1), ('puff', 1), ('kakeru', 1), ('teduka', 1), ('bfore', 1), ('bomd', 1), ('barack', 2), ('commonwealth', 1), ('mtsalert', 1), ('delay', 8), ('vicin', 2), ('tour', 6), ('lifetim', 3), ('blackinamerica', 1), ('billi', 2), ('hodg', 1), ('aurora', 1), ('notorieti', 1), ('lowkey', 1), ('easternoregon', 1), ('stiiilo', 1), ('orbett', 1), ('amirit', 3), ('gbbo', 15), ('landolina', 1), ('gel', 3), ('instantli', 2), ('realest', 1), ('kontrol', 1), ('ww', 7), ('dice', 1), ('demon', 5), ('shoota', 1), ('burner', 1), ('speech', 1), ('wasnt', 1), ('there', 6), ('everwh', 1), ('poster', 3), ('ergo', 1), ('convert', 3), ('nigeltann', 1), ('newli', 1), ('mapl', 1), ('ndabndiv', 1), ('paratroop', 1), ('furi', 1), ('scariest', 2), ('trent', 6), ('conven', 1), ('award', 1), ('gi', 2), ('gisuserpr', 1), ('geotech', 1), ('mkx', 3), ('cameronhigdon', 1), ('reid', 4), ('campground', 1), ('hysteria', 1), ('grey', 5), ('misti', 1), ('titan', 5), ('vita', 1), ('midget', 1), ('simpl', 6), ('pixelsmovi', 1), ('patricia', 1), ('traina', 1), ('mcclain', 1), ('nyg', 1), ('happili', 2), ('mydrought', 1), ('illinoi', 3), ('phelimkin', 1), ('rohingya', 2), ('sittw', 2), ('kylewappl', 1), ('thisishavehop', 1), ('hobbit', 8), ('smaug', 10), ('bilingu', 1), ('mama', 4), ('thuggin', 2), ('inmat', 1), ('wooden', 1), ('option', 8), ('finalis', 1), ('alt', 1), ('electro', 2), ('comingsoon', 2), ('deadli', 7), ('hagerstown', 1), ('detail', 3), ('whag', 1), ('akwa', 1), ('ibom', 1), ('uruan', 1), ('udom', 1), ('emmanuel', 1), ('pont', 1), ('yahoo', 2), ('cricket', 5), ('deriv', 3), ('norman', 1), ('vincent', 1), ('peal', 1), ('kuwait', 3), ('divert', 2), ('dress', 7), ('meme', 7), ('internet', 12), ('targ', 1), ('resort', 1), ('settl', 2), ('russellvil', 1), ('clarksvil', 1), ('dardanel', 1), ('concert', 6), ('afycso', 1), ('ks', 6), ('shizun', 1), ('fav', 7), ('voluntari', 2), ('pickerel', 2), ('cabin', 4), ('reidlak', 1), ('maca', 1), ('nwt', 1), ('yzf', 1), ('jamilazzaini', 1), ('alifaditha', 1), ('postapocalypticflimflam', 1), ('newlyw', 4), ('feed', 11), ('syrian', 7), ('banquet', 2), ('dinner', 4), ('myrtlegroggin', 1), ('gasp', 2), ('identitytheft', 2), ('taxreturn', 1), ('clean', 5), ('gamefe', 1), ('videogam', 1), ('roh', 3), ('jfb', 1), ('tfb', 1), ('alrasyid', 1), ('iturasya', 1), ('smantibatam', 2), ('ig', 4), ('haildamag', 1), ('yycweath', 1), ('captureyyc', 1), ('alberta', 3), ('sto', 2), ('beforeitsnew', 4), ('libyan', 1), ('capsiz', 9), ('swellyjetevo', 1), ('disneyland', 1), ('tore', 1), ('manchest', 8), ('mht', 1), ('ufn', 1), ('mtr', 1), ('freebesieg', 1), ('martinmj', 1), ('yougov', 1), ('tori', 2), ('wafer', 1), ('thin', 2), ('twist', 1), ('ov', 1), ('looney', 1), ('blake', 2), ('griffin', 1), ('livemint', 1), ('allthenew', 1), ('follownflnew', 1), ('floyd', 5), ('devalu', 2), ('fantasi', 8), ('playoff', 4), ('edna', 1), ('jefferson', 1), ('dori', 1), ('sherfield', 1), ('gpv', 1), ('jst', 7), ('wnw', 1), ('homeown', 2), ('retard', 1), ('drain', 1), ('dccc', 1), ('vj', 1), ('lawrenc', 2), ('jbouie', 1), ('mmfa', 1), ('cher', 1), ('persist', 1), ('prayer', 2), ('forth', 2), ('freakiest', 5), ('freak', 12), ('indiannew', 2), ('ik', 2), ('len', 5), ('cancel', 6), ('spong', 2), ('blight', 19), ('easili', 3), ('intellig', 1), ('bhusa', 1), ('invad', 2), ('mistak', 3), ('diplomaci', 1), ('constant', 2), ('conscious', 1), ('bentossel', 1), ('producthunt', 1), ('vitali', 1), ('churkin', 1), ('briliantli', 1), ('hypocrisi', 1), ('fm', 2), ('klimkin', 1), ('earl', 1), ('stfxunivers', 1), ('dig', 3), ('vanilla', 1), ('youssefyamani', 1), ('fez', 2), ('equat', 2), ('recip', 6), ('ika', 1), ('soup', 4), ('diet', 5), ('laps', 2), ('particul', 1), ('fossil', 2), ('voltaic', 1), ('voc', 1), ('petroleum', 1), ('ch', 3), ('bacteria', 1), ('decomposit', 1), ('uplift', 1), ('anchor', 2), ('postpon', 1), ('amazond', 1), ('skyland', 1), ('romanatwoodvlog', 1), ('kitten', 3), ('minion', 3), ('cultiv', 1), ('pjnet', 2), ('tcot', 6), ('ccot', 1), ('petchari', 1), ('displeas', 1), ('congrat', 1), ('reggaeboyz', 1), ('fragil', 2), ('economi', 8), ('altern', 4), ('warden', 1), ('tryout', 4), ('minu', 1), ('toenail', 1), ('koin', 3), ('ayhoka', 1), ('foxi', 3), ('jennif', 2), ('aniston', 2), ('marri', 3), ('shirt', 5), ('wildlif', 1), ('squirrel', 1), ('bone', 3), ('mortar', 1), ('pestl', 1), ('bio', 3), ('dept', 1), ('heebsterrr', 1), ('ac', 2), ('nochilllukeham', 1), ('kerri', 3), ('fizzi', 1), ('printabl', 1), ('templat', 1), ('innov', 3), ('gadget', 4), ('branch', 1), ('sureti', 1), ('underwrit', 2), ('senior', 5), ('product', 3), ('jagexhelpdibi', 1), ('jag', 1), ('enabl', 1), ('thriller', 4), ('newz', 1), ('sacramento', 2), ('attach', 1), ('cheat', 3), ('weigh', 2), ('uranium', 2), ('homer', 1), ('tulowitzki', 1), ('chiasson', 1), ('coloradoavalanch', 1), ('can', 1), ('kaldi', 1), ('stout', 1), ('talisman', 1), ('eden', 4), ('keen', 1), ('cristiano', 1), ('ronaldo', 2), ('lionel', 1), ('mipasho', 1), ('perhap', 4), ('histor', 5), ('childsexabus', 1), ('scale', 2), ('hidden', 2), ('nsa', 1), ('softwar', 2), ('blog', 6), ('vent', 1), ('txt', 1), ('standstil', 1), ('marginoferror', 1), ('custom', 5), ('rom', 1), ('elielcruz', 1), ('jamaicaobserv', 2), ('cnewsliv', 2), ('der', 1), ('abbruchsimul', 1), ('rave', 1), ('buri', 3), ('babysweet', 1), ('biolab', 2), ('concern', 12), ('specimen', 2), ('facil', 3), ('dumbfound', 1), ('marynmck', 1), ('ador', 1), ('edinburgh', 4), ('gard', 1), ('otrametlif', 4), ('reap', 3), ('benefit', 3), ('marquei', 2), ('como', 2), ('visto', 2), ('dragon', 5), ('bancodeseri', 2), ('photograph', 3), ('wolter', 1), ('peeter', 1), ('nsw', 1), ('rural', 1), ('audio', 6), ('troylercraft', 1), ('spammer', 1), ('midnight', 2), ('fujiwara', 1), ('shunichiro', 1), ('ud', 2), ('ypre', 2), ('empti', 2), ('cqnow', 1), ('forward', 4), ('downright', 1), ('mutant', 1), ('veget', 2), ('sweep', 3), ('mailonlin', 1), ('furiosoxv', 1), ('stun', 4), ('pedestrian', 4), ('cyclist', 4), ('kathrynschulz', 1), ('mustard', 1), ('lemon', 1), ('pepper', 5), ('elem', 4), ('pomo', 2), ('rocki', 10), ('gofundm', 2), ('ladyfleur', 1), ('caf', 1), ('normal', 4), ('rhiannon', 1), ('hungov', 1), ('uhmmmm', 1), ('ski', 1), ('mon', 2), ('hfxstanfield', 1), ('beelievedc', 1), ('discoverycntr', 1), ('contractor', 1), ('kinet', 1), ('typographi', 1), ('coolest', 1), ('yug', 1), ('wesleyloweri', 1), ('unu', 1), ('feast', 3), ('spicybread', 1), ('coxytown', 1), ('tutori', 3), ('brook', 2), ('hogan', 1), ('doubt', 5), ('dua', 1), ('shelter', 4), ('bickleton', 1), ('wa', 6), ('liveonk', 2), ('junko', 1), ('owen', 1), ('ferrel', 2), ('bullet', 6), ('rapidli', 4), ('twcnewsclt', 1), ('languish', 1), ('noirand', 1), ('tedcruz', 1), ('saturday', 4), ('newbeginningsanimalrescu', 1), ('immin', 1), ('larger', 5), ('arrog', 1), ('spanish', 3), ('translat', 1), ('uriminzok', 1), ('puppet', 1), ('republ', 3), ('naemolgo', 1), ('firmli', 1), ('yiraneuni', 1), ('raw', 2), ('aesop', 1), ('nois', 3), ('swedish', 1), ('jonesboro', 1), ('caution', 3), ('kp', 1), ('root', 7), ('sm', 4), ('gc', 1), ('newsbrisban', 1), ('newsgoldcoast', 1), ('central', 7), ('cawx', 2), ('deadgrassandflow', 1), ('ive', 2), ('goku', 2), ('birb', 1), ('haunt', 3), ('invest', 4), ('keurig', 1), ('earn', 5), ('minimehh', 1), ('cjoyner', 1), ('overlook', 2), ('poni', 1), ('punch', 2), ('fair', 4), ('cb', 3), ('infowar', 1), ('nashvil', 5), ('grabber', 3), ('hatchet', 7), ('nwo', 2), ('calumet', 2), ('chicagoscann', 1), ('pianohand', 1), ('taxi', 2), ('cigarett', 3), ('adhd', 1), ('term', 7), ('pediatr', 1), ('direction', 6), ('belli', 1), ('runaway', 1), ('dublin', 4), ('sometimesi', 1), ('breath', 5), ('anxietyproblem', 1), ('damascu', 1), ('grind', 1), ('alloosh', 1), ('manur', 1), ('foodscar', 3), ('nestleindia', 3), ('magginoodl', 3), ('unsaf', 5), ('humanconsumpt', 3), ('kuualohax', 1), ('husband', 1), ('smoak', 1), ('lamb', 1), ('intro', 1), ('hd', 4), ('bigbroth', 1), ('boe', 3), ('contract', 2), ('wwp', 1), ('veteran', 8), ('oif', 1), ('oef', 1), ('invis', 1), ('aa', 2), ('swear', 1), ('ds', 1), ('refer', 5), ('pg', 1), ('movt', 1), ('livesci', 1), ('addict', 3), ('con', 2), ('unkn', 1), ('ginga', 1), ('defeat', 3), ('drago', 1), ('damnaariel', 1), ('lordrsbiscuit', 1), ('ssw', 2), ('anza', 2), ('freefromwolv', 1), ('danni', 1), ('uhhhhh', 1), ('crusad', 1), ('imdb', 2), ('connector', 5), ('charger', 2), ('pugprob', 1), ('dw', 2), ('english', 3), ('libya', 14), ('ufo', 1), ('ublogeurop', 1), ('pet', 4), ('prophet', 5), ('seed', 2), ('mre', 1), ('mood', 4), ('pisco', 1), ('coya', 1), ('weaken', 2), ('se', 4), ('lubbock', 2), ('outflow', 3), ('boundari', 3), ('gust', 6), ('beet', 1), ('juic', 3), ('faulti', 2), ('er', 4), ('rohnertparkdp', 2), ('incom', 1), ('tax', 6), ('entiti', 1), ('montego', 1), ('tvjnew', 1), ('chines', 4), ('madonnamk', 1), ('rspca', 2), ('multipl', 4), ('densiti', 1), ('residenti', 5), ('uv', 1), ('code', 3), ('gin', 1), ('listia', 1), ('carsonrex', 1), ('spaceangelseven', 1), ('vulner', 6), ('distinct', 2), ('qz', 1), ('taraswart', 1), ('vivian', 2), ('giang', 1), ('downfal', 2), ('freemarket', 1), ('dibang', 1), ('bloopandablast', 1), ('suppos', 11), ('parad', 2), ('pbban', 4), ('temporari', 4), ('fighterdena', 1), ('xp', 4), ('policylab', 1), ('cecanf', 1), ('neglect', 1), ('skh', 1), ('ashton', 1), ('luke', 2), ('pond', 3), ('lownd', 4), ('yonew', 1), ('ts', 3), ('nri', 3), ('tdp', 3), ('bjp', 4), ('rel', 4), ('discoveri', 1), ('kmactwn', 1), ('meaganerd', 1), ('cereal', 1), ('kellogg', 1), ('sugar', 1), ('crunchi', 1), ('delo', 2), ('scuf', 2), ('mrmikeeaton', 1), ('muazimu', 1), ('hil', 1), ('megadeth', 2), ('symphoni', 3), ('fangirl', 1), ('alanhahn', 1), ('hdumpti', 1), ('daughteri', 1), ('factual', 1), ('basi', 2), ('pair', 3), ('atv', 1), ('utv', 1), ('maze', 1), ('lesley', 1), ('mariie', 1), ('westchest', 1), ('elig', 1), ('abcnew', 4), ('stormtroop', 1), ('engag', 4), ('somm', 1), ('mage', 1), ('fairi', 2), ('tail', 1), ('natsu', 1), ('dragneel', 1), ('fierc', 2), ('aspect', 2), ('suprem', 3), ('homealon', 1), ('alil', 1), ('tha', 2), ('bluedio', 3), ('turbin', 4), ('wireless', 3), ('stereo', 4), ('headphon', 4), ('headset', 3), ('blk', 6), ('yobe', 4), ('damatu', 1), ('forb', 3), ('nbcnew', 3), ('pearlharbor', 1), ('rumbl', 1), ('rushlimbaugh', 1), ('democrat', 2), ('meddl', 1), ('otm', 1), ('sunset', 6), ('pixar', 1), ('roberthard', 1), ('repjohnkatko', 1), ('netanyahu', 2), ('argument', 2), ('fresh', 3), ('lookss', 1), ('hair', 9), ('kiss', 6), ('sirtophamhat', 1), ('scynic', 1), ('nafeezahm', 1), ('jeremydun', 1), ('steel', 4), ('argu', 3), ('warthen', 1), ('midst', 1), ('bullpen', 1), ('bubbl', 1), ('met', 5), ('egyptian', 1), ('tie', 5), ('gmt', 3), ('madinah', 5), ('prophetmuhammad', 5), ('solitud', 3), ('summari', 2), ('utfir', 1), ('justintrudeau', 1), ('richarkkirkarch', 1), ('ausinstarchitect', 1), ('queenswharf', 1), ('brisban', 1), ('financialreview', 1), ('bangalor', 1), ('detain', 4), ('interrog', 1), ('browni', 1), ('chattanooga', 2), ('shitti', 3), ('istg', 1), ('theevilol', 1), ('hypo', 1), ('evildead', 1), ('civil', 6), ('senatemajldr', 1), ('disclo', 1), ('leonalewi', 1), ('essenceofm', 1), ('hi', 10), ('re', 1), ('doppler', 1), ('ne', 3), ('edmond', 1), ('okwx', 5), ('lcc', 1), ('bhp', 1), ('billiton', 1), ('lesotho', 1), ('rubber', 7), ('britishbakeoff', 2), ('paulhollywood', 1), ('tuesday', 2), ('bruv', 1), ('brianroemmel', 1), ('ux', 1), ('emv', 1), ('insert', 1), ('stripe', 1), ('reader', 1), ('kamkasteiiano', 1), ('bluntedjayt', 1), ('consol', 2), ('greg', 3), ('garza', 1), ('atla', 1), ('leon', 1), ('negro', 1), ('copa', 1), ('mx', 1), ('usmnt', 1), ('cocki', 1), ('urib', 3), ('jusstdoitgirl', 1), ('wbu', 1), ('georgou', 1), ('extraordinair', 1), ('mmmmmm', 1), ('oooooohhhh', 1), ('oooh', 1), ('ooh', 2), ('arin', 1), ('gummi', 1), ('grumpout', 1), ('nprfreshair', 1), ('monsoon', 4), ('construct', 3), ('vintag', 4), ('shira', 2), ('bestsel', 2), ('backpack', 2), ('antioch', 6), ('tenn', 1), ('tennessean', 1), ('mfalcon', 1), ('chase', 3), ('loyalti', 1), ('nobleman', 1), ('elven', 1), ('weirdo', 1), ('kalinandmyl', 1), ('kalinwhit', 1), ('givebackkalinwhiteaccount', 1), ('montgomeri', 2), ('std', 1), ('reject', 6), ('slogan', 1), ('bigamist', 2), ('pregnant', 3), ('breakingnew', 2), ('influenc', 2), ('socialtim', 1), ('preschool', 1), ('hunger', 3), ('hawaiianpaddlesport', 1), ('qpr', 1), ('rorington', 1), ('nowt', 1), ('fergi', 1), ('drinker', 1), ('wenger', 1), ('delhi', 1), ('acid', 3), ('privat', 3), ('roleplay', 1), ('sa', 6), ('pad', 2), ('qti', 1), ('wo', 3), ('gritti', 1), ('pasta', 1), ('amico', 1), ('amicospizzato', 1), ('seeyouatamico', 1), ('draco', 3), ('penney', 1), ('hpa', 1), ('maximum', 5), ('enginesh', 1), ('gig', 2), ('workshop', 1), ('booth', 1), ('kappa', 1), ('brunett', 2), ('gisel', 1), ('lock', 9), ('teas', 2), ('floor', 9), ('financialtim', 1), ('ethiopian', 1), ('regim', 2), ('eastern', 4), ('ethiopia', 1), ('ashj', 1), ('popcorn', 1), ('unexercis', 1), ('honda', 1), ('neighborhood', 3), ('psqd', 1), ('inevit', 4), ('timey', 1), ('winger', 1), ('prem', 1), ('willian', 2), ('pickup', 2), ('premium', 3), ('strain', 2), ('chriscesq', 1), ('voter', 2), ('circu', 1), ('bangtan', 1), ('bluebirddenv', 1), ('hearth', 1), ('bibl', 1), ('unload', 1), ('indec', 1), ('chuckswindol', 1), ('iflcanada', 1), ('nia', 1), ('quizz', 1), ('pak', 6), ('deni', 4), ('elect', 5), ('achedin', 1), ('sigmund', 1), ('freud', 1), ('faith', 4), ('moscow', 3), ('ghost', 4), ('ridha', 1), ('amin', 1), ('akh', 1), ('congratul', 1), ('besieg', 1), ('indiscrimin', 1), ('chrisman', 1), ('ferri', 4), ('charlesadl', 1), ('lee', 2), ('fart', 2), ('browner', 1), ('josephu', 1), ('antiochu', 1), ('epiphan', 1), ('ofnsixjk', 1), ('glaucoma', 1), ('fluid', 2), ('nerv', 1), ('eyefact', 1), ('sonofliberti', 1), ('illumin', 1), ('brightli', 1), ('bash', 3), ('iranian', 5), ('shout', 3), ('amazin', 1), ('dey', 2), ('dedic', 3), ('nepal', 2), ('pari', 3), ('cest', 1), ('fforecast', 1), ('sunni', 4), ('lunasagal', 1), ('synapsenkotz', 1), ('bean', 2), ('joelsherman', 1), ('chipper', 1), ('vvorm', 1), ('dattomm', 1), ('funniest', 1), ('fiendnikki', 1), ('indiana', 1), ('lafayett', 1), ('key', 3), ('esquireattir', 1), ('nightmar', 3), ('elm', 1), ('remad', 1), ('deflateg', 1), ('increment', 1), ('tape', 2), ('straightfir', 1), ('sheer', 2), ('leelanau', 1), ('grand', 3), ('besaf', 1), ('untameddirewolf', 1), ('alright', 3), ('sansa', 1), ('shook', 3), ('blink', 2), ('jaureguiswisdom', 1), ('sooo', 2), ('crater', 3), ('wacko', 1), ('michelebachman', 1), ('firey', 1), ('inferno', 1), ('accept', 3), ('globalwarm', 1), ('africanbaz', 1), ('stuck', 5), ('crown', 2), ('tend', 2), ('batfanuk', 2), ('canonusaimag', 1), ('canonbringit', 1), ('canontattoo', 1), ('mn', 1), ('theresmorewherethatcamefrom', 1), ('woodlawn', 2), ('scotrail', 1), ('bloke', 1), ('hassl', 1), ('munch', 1), ('endang', 2), ('gypsi', 1), ('jj', 1), ('dirti', 1), ('mlstransfer', 1), ('greggmair', 1), ('gio', 1), ('skc', 1), ('bwp', 2), ('nycfc', 1), ('forbesasia', 1), ('eur', 1), ('bwin', 1), ('santiago', 1), ('hollyw', 1), ('zzzz', 1), ('nuy', 1), ('vannuyscouncil', 1), ('colder', 2), ('bedroom', 5), ('laundri', 2), ('notexplain', 2), ('known', 6), ('infam', 2), ('cooper', 3), ('ymcglaun', 2), ('connect', 1), ('leezi', 1), ('sweati', 1), ('dannyonpc', 2), ('hardlin', 2), ('throwingknif', 2), ('exhaust', 3), ('borrow', 1), ('mattmosley', 1), ('cal', 1), ('gideonstrumpet', 1), ('atlbizchron', 1), ('row', 6), ('unrel', 1), ('alaskan', 1), ('neverforget', 1), ('juror', 2), ('verdict', 2), ('mexico', 6), ('nflexpertpick', 1), ('satan', 3), ('teemo', 1), ('windowsil', 1), ('jewhaditm', 1), ('acn', 1), ('cream', 5), ('diarrhea', 2), ('azimel', 1), ('deceas', 1), ('tumbl', 2), ('heel', 2), ('whether', 4), ('aphyr', 1), ('fallaci', 2), ('somethin', 1), ('horrend', 1), ('none', 7), ('pydisney', 1), ('que', 2), ('justin', 2), ('bieber', 1), ('donald', 2), ('ouvindo', 2), ('ahrar', 1), ('al', 7), ('sham', 2), ('negoti', 2), ('zabadani', 2), ('bcfcticketladi', 1), ('aamir', 1), ('javaid', 1), ('kro', 1), ('nwsbayarea', 1), ('slit', 1), ('throat', 2), ('apolog', 3), ('censor', 1), ('cc', 2), ('enem', 1), ('bishopfr', 1), ('unheal', 1), ('unend', 1), ('kashmir', 2), ('endoccup', 1), ('endconflict', 1), ('freekashmir', 1), ('shake', 6), ('overcharg', 1), ('rent', 1), ('nowher', 1), ('deconstruct', 1), ('sackvil', 1), ('tm', 1), ('ushanka', 2), ('fur', 2), ('xl', 2), ('soviet', 3), ('badg', 3), ('examinercom', 1), ('keit', 1), ('liva', 1), ('chain', 4), ('neck', 2), ('mac', 6), ('bought', 7), ('gastric', 1), ('carcinoma', 1), ('gene', 1), ('roofer', 1), ('virg', 1), ('itsjustinstuart', 1), ('obligatori', 1), ('otp', 1), ('grandma', 1), ('ssshhheeesshh', 1), ('nyack', 1), ('pineview', 1), ('railroad', 1), ('csx', 3), ('nasasolarsystem', 2), ('jupit', 3), ('lenn', 1), ('fernandez', 1), ('theblaz', 1), ('kgb', 1), ('cossack', 1), ('grate', 4), ('nashvillefd', 1), ('swiftli', 1), ('countless', 2), ('cdc', 5), ('agent', 3), ('ed', 2), ('sheeran', 2), ('difficulti', 2), ('osteen', 1), ('yup', 1), ('drag', 3), ('shell', 3), ('mannequin', 1), ('zel', 1), ('kno', 1), ('intersect', 3), ('aashiqui', 1), ('actress', 1), ('anu', 1), ('aggarw', 1), ('senat', 8), ('shortfal', 1), ('plagu', 7), ('shipsxanchor', 1), ('idek', 1), ('randerson', 1), ('cityofcalgari', 2), ('schulz', 1), ('cydia', 1), ('tweak', 1), ('phillipten', 1), ('satin', 1), ('rare', 7), ('tidalhifi', 1), ('portug', 2), ('queer', 1), ('sultri', 1), ('rosenberg', 1), ('mafireem', 1), ('wmur', 2), ('kcarosawmur', 1), ('roanok', 1), ('greenway', 1), ('roanoketim', 1), ('fadelurk', 1), ('dalinthanelan', 1), ('redcliff', 1), ('aidan', 1), ('hw', 2), ('ohlordi', 1), ('kcrw', 1), ('uber', 1), ('sugg', 1), ('psychrewatch', 1), ('disillus', 1), ('lucki', 10), ('crow', 1), ('trope', 1), ('sew', 3), ('guatemala', 2), ('seamstress', 1), ('elvia', 1), ('dive', 7), ('volga', 3), ('bamenda', 1), ('arwx', 2), ('latim', 3), ('eyecut', 1), ('erasuter', 1), ('gal', 1), ('deco', 1), ('trickier', 1), ('splash', 1), ('radioact', 3), ('ashdod', 1), ('port', 4), ('emittin', 1), ('rahulkanw', 1), ('jammu', 1), ('soft', 2), ('freediscountbk', 1), ('amread', 1), ('split', 2), ('eventu', 4), ('commut', 4), ('push', 4), ('aminespn', 1), ('menciu', 1), ('cast', 3), ('edcxo', 1), ('apano', 1), ('jamesmelvil', 1), ('delud', 1), ('friendli', 1), ('russaki', 1), ('eral', 1), ('unplug', 1), ('myelf', 1), ('jorg', 1), ('nose', 5), ('onihimedesu', 1), ('manga', 1), ('triangl', 1), ('daughterofnai', 1), ('tenshi', 1), ('yuki', 1), ('kaputt', 1), ('hamburg', 2), ('gregori', 1), ('wickett', 1), ('underway', 3), ('whippenz', 1), ('forbid', 2), ('contact', 3), ('expand', 3), ('beloeil', 1), ('richelieu', 1), ('saint', 2), ('laurent', 1), ('torrent', 1), ('java', 1), ('swing', 2), ('oamsgajagahahah', 1), ('laighign', 1), ('wisdomw', 1), ('bonu', 1), ('habit', 3), ('lifehack', 1), ('openli', 1), ('nema', 3), ('materi', 4), ('meant', 1), ('idp', 3), ('wom', 1), ('studio', 1), ('her', 1), ('scraptrid', 1), ('emmi', 1), ('rossum', 1), ('mead', 1), ('llf', 2), ('guardian', 5), ('scandal', 2), ('parliamentari', 1), ('expens', 5), ('subsequ', 1), ('sack', 1), ('journal', 3), ('fortun', 2), ('otherwis', 3), ('televis', 1), ('superv', 1), ('cllrraymogford', 1), ('comprehens', 1), ('hebrooon', 1), ('formula', 1), ('tinyjecht', 3), ('wowo', 1), ('revolut', 4), ('acebab', 1), ('healthweekli', 1), ('amateurnest', 1), ('richard', 2), ('nieuw', 1), ('bairstow', 1), ('buffet', 1), ('lad', 1), ('fireman', 2), ('squeaki', 1), ('skull', 1), ('moor', 2), ('viralspel', 3), ('roof', 6), ('hr', 5), ('nathan', 1), ('beer', 3), ('reckless', 2), ('hmu', 1), ('capicapricapri', 1), ('brento', 1), ('bento', 1), ('wha', 1), ('bukidnon', 1), ('bae', 1), ('backroom', 1), ('thisiswhywecanthaveniceth', 2), ('wkrn', 1), ('routin', 1), ('weightless', 1), ('fatburn', 1), ('burnfat', 1), ('dunde', 3), ('jlabuz', 1), ('stunckl', 1), ('gordon', 3), ('crazydoctorladi', 1), ('rod', 1), ('creatur', 1), ('wholesal', 5), ('gon', 3), ('wholeteam', 1), ('crude', 3), ('karen', 1), ('enviroment', 1), ('administr', 2), ('font', 1), ('transcend', 1), ('trail', 4), ('diversifi', 1), ('debt', 4), ('costli', 1), ('seven', 6), ('widespread', 2), ('bsg', 1), ('suffici', 1), ('hype', 3), ('greenbuildermag', 1), ('nfpa', 2), ('webinar', 1), ('et', 2), ('firewis', 1), ('michel', 4), ('reblog', 1), ('scar', 2), ('kosciusko', 2), ('clapton', 1), ('sheriff', 3), ('ultimalucha', 3), ('luchaunderground', 2), ('lucysforsal', 1), ('dumb', 1), ('theash', 1), ('nwspocatello', 1), ('brunt', 1), ('interspers', 1), ('errrr', 1), ('nope', 2), ('notgoingoutinthat', 1), ('hellonwheelsamc', 1), ('talkinghel', 1), ('jade', 1), ('fl', 1), ('morel', 1), ('amblesid', 1), ('farmr', 1), ('mart', 1), ('mushroom', 1), ('foragesecret', 1), ('wzbt', 1), ('kuala', 1), ('lumpur', 1), ('gobsmack', 1), ('zimbabw', 2), ('dictat', 1), ('hatr', 2), ('dawabsha', 1), ('erod', 2), ('homegrown', 1), ('salut', 1), ('perspect', 2), ('proto', 1), ('graph', 1), ('charleyisqueen', 1), ('barber', 1), ('ayyo', 1), ('dei', 1), ('jump', 4), ('tea', 5), ('commerc', 2), ('serephina', 1), ('barn', 2), ('concret', 2), ('cyberdemon', 1), ('dew', 1), ('parentsacrossam', 1), ('billgat', 1), ('fnaf', 2), ('fanfict', 1), ('trixi', 1), ('pageshi', 1), ('proxi', 1), ('wattpad', 2), ('promo', 1), ('whistleblow', 1), ('fema', 1), ('weeklong', 1), ('zojadelin', 1), ('tinybabi', 1), ('adultblackmal', 1), ('mattytalk', 1), ('mwednesday', 1), ('built', 2), ('desk', 2), ('irishirr', 1), ('mchapmanwsaz', 1), ('wsaz', 1), ('brittani', 1), ('kellyannwx', 1), ('til', 6), ('tirelessli', 1), ('wordk', 1), ('zmne', 1), ('chowchilla', 1), ('schoenfeld', 1), ('almusafirah', 1), ('innit', 1), ('sixth', 4), ('monster', 3), ('racer', 1), ('sassi', 3), ('hunk', 3), ('strand', 5), ('smoki', 3), ('aom', 3), ('ibooklov', 3), ('bookboost', 3), ('detectado', 3), ('jap', 4), ('iwat', 1), ('miyagi', 2), ('drfriedencdc', 1), ('infect', 2), ('adiossuperbacteria', 1), ('snowywolf', 1), ('thegreenparti', 1), ('wrapup', 3), ('disappoint', 5), ('yday', 1), ('ran', 5), ('log', 3), ('michaelwestbiz', 1), ('indonesian', 1), ('raung', 2), ('roguewatson', 1), ('thomasvissman', 1), ('keithyyl', 1), ('keithyy', 1), ('gettin', 2), ('coal', 1), ('creek', 1), ('pkwi', 2), ('ij', 1), ('silentmind', 1), ('bookofdaniel', 1), ('munni', 1), ('jeannamibian', 1), ('noooooooo', 1), ('proce', 3), ('slosher', 1), ('splatdown', 1), ('switch', 2), ('splatl', 1), ('surfer', 1), ('redo', 1), ('ayyy', 1), ('scegnew', 1), ('startelegram', 1), ('draw', 1), ('select', 3), ('consist', 2), ('lay', 2), ('che', 1), ('guevara', 1), ('greet', 2), ('horiikawa', 1), ('resolut', 1), ('supremacist', 1), ('ander', 1), ('breivik', 1), ('unsurprisingli', 1), ('empir', 1), ('markwschaef', 1), ('funkylilshack', 1), ('mariaf', 1), ('slap', 1), ('showdown', 1), ('forestservic', 1), ('dhsscitech', 1), ('vegetarian', 1), ('restaur', 2), ('locksmith', 1), ('elabor', 1), ('lpdkl', 1), ('nopow', 1), ('highest', 4), ('pandem', 1), ('futurea', 1), ('totalitarian', 1), ('employ', 2), ('firemen', 2), ('literatur', 1), ('peterdutton', 1), ('labor', 1), ('ritual', 1), ('mwnhappi', 1), ('yall', 4), ('cannon', 2), ('canva', 2), ('fifti', 2), ('datingtip', 1), ('goodread', 1), ('lego', 3), ('brick', 2), ('crazyideascolleg', 1), ('cracker', 1), ('bernardino', 2), ('bail', 3), ('nite', 1), ('damnnnn', 1), ('gmcr', 1), ('whomev', 2), ('accordingli', 1), ('tennoatax', 1), ('tenno', 1), ('dojo', 1), ('jackmulholland', 1), ('marqui', 2), ('carlo', 2), ('junction', 1), ('beep', 1), ('horn', 2), ('maatmhi', 1), ('diff', 2), ('barri', 1), ('intent', 1), ('revenu', 2), ('jolli', 1), ('jinu', 1), ('babri', 1), ('todayhav', 1), ('reveng', 1), ('royal', 3), ('newbi', 2), ('temptat', 2), ('untangl', 1), ('partner', 3), ('besttalkradio', 1), ('robertmey', 1), ('farmer', 1), ('render', 1), ('sought', 1), ('hmm', 4), ('mourn', 6), ('superhero', 3), ('epilepsi', 4), ('bradley', 1), ('diebold', 1), ('epilept', 1), ('zehr', 1), ('blaaaaaaa', 1), ('stomach', 3), ('vibrat', 3), ('resolutevan', 1), ('certif', 3), ('tesla', 2), ('def', 2), ('rss', 2), ('spous', 1), ('daughter', 7), ('bruis', 1), ('fsloth', 1), ('sexydragonmag', 1), ('span', 1), ('wither', 5), ('undermin', 1), ('muster', 1), ('homeland', 2), ('apprais', 1), ('wilsher', 2), ('recordand', 1), ('behavior', 2), ('halfhourhotel', 1), ('edgarsgift', 1), ('talkmc', 1), ('smile', 5), ('misguid', 1), ('cousin', 4), ('pow', 1), ('justifi', 4), ('raid', 4), ('palestin', 3), ('slab', 1), ('scotland', 3), ('labour', 2), ('labourleadership', 1), ('contest', 1), ('bot', 3), ('hadnt', 1), ('butgod', 1), ('nomin', 2), ('ohhsehun', 1), ('navig', 1), ('septemb', 5), ('yeaahh', 1), ('srajapaks', 1), ('missi', 1), ('suit', 2), ('summertim', 2), ('yee', 1), ('haw', 1), ('epicent', 1), ('croydon', 2), ('reev', 1), ('corner', 4), ('jamessnyd', 1), ('html', 1), ('beginn', 2), ('femal', 5), ('boxer', 3), ('alloy', 2), ('roadway', 1), ('statesvil', 1), ('bonsai', 1), ('natgeo', 1), ('looooool', 1), ('shield', 1), ('grant', 4), ('weymouth', 1), ('seawal', 1), ('officialtjonez', 1), ('skill', 4), ('contruct', 2), ('upgrad', 6), ('vashon', 2), ('mukilteo', 2), ('q', 4), ('earthquakenew', 1), ('basildudin', 1), ('barbar', 1), ('austrian', 1), ('noxdv', 1), ('ohmyloz', 1), ('rondarousey', 1), ('soapscoop', 1), ('yh', 1), ('redblood', 1), ('videoclip', 1), ('holymileyray', 1), ('mooniighthunti', 1), ('hike', 3), ('txlege', 1), ('twia', 5), ('gap', 1), ('molecularli', 1), ('lungcanc', 1), ('howardu', 1), ('collud', 1), ('auth', 2), ('lgl', 1), ('idi', 1), ('davidcovucci', 1), ('kiddo', 1), ('sang', 1), ('brian', 3), ('hickson', 1), ('kenneth', 1), ('fari', 1), ('lamarcu', 1), ('aldridg', 1), ('spoke', 1), ('raptor', 1), ('beg', 1), ('musik', 2), ('goodlook', 1), ('thestrain', 1), ('cin', 1), ('tg', 1), ('homukami', 1), ('roy', 1), ('spx', 1), ('finit', 1), ('mint', 1), ('yell', 3), ('irishtimesworld', 1), ('amznfavorit', 1), ('devereaux', 1), ('scifi', 2), ('trunk', 3), ('freiza', 1), ('cleanest', 1), ('merci', 3), ('poway', 1), ('hcg', 1), ('mole', 1), ('whensoev', 1), ('nevermor', 1), ('sizygwwf', 1), ('kook', 1), ('drothvad', 1), ('cm', 2), ('nevalisti', 1), ('arachi', 1), ('hamayun', 1), ('shahe', 1), ('heli', 1), ('keeper', 1), ('runnin', 1), ('fest', 2), ('wedgi', 1), ('fewmoretweet', 1), ('kaduna', 2), ('reportedli', 3), ('ut', 1), ('warship', 7), ('thedailyshow', 1), ('mahalo', 1), ('nui', 1), ('loa', 1), ('jonvoyag', 2), ('holomua', 1), ('cleveland', 2), ('height', 2), ('shaker', 1), ('canal', 1), ('tookitlikeaman', 1), ('lovemydentist', 1), ('atlanta', 4), ('chronicl', 2), ('shantaeskyy', 1), ('passiv', 1), ('coerc', 1), ('commit', 5), ('britain', 2), ('soni', 2), ('stephenk', 1), ('thedarktow', 1), ('bdisgust', 1), ('goggl', 1), ('clnv', 1), ('ling', 1), ('pancak', 1), ('rainbow', 1), ('moham', 2), ('nave', 4), ('thorin', 1), ('sandbox', 1), ('mln', 1), ('sputnik', 2), ('bethlehem', 1), ('rudd', 2), ('emil', 1), ('hirsch', 1), ('princ', 3), ('filmmak', 1), ('googl', 3), ('entretenimento', 1), ('mirror', 1), ('reflect', 5), ('extra', 5), ('deadgirltalk', 1), ('unfortunemelodi', 1), ('jaylenejoybeligan', 1), ('tarynel', 1), ('dredougi', 1), ('santanico', 1), ('achiev', 2), ('deltachildren', 1), ('instaquot', 1), ('quoteoftheday', 1), ('waltdisney', 1), ('titortau', 1), ('loretta', 2), ('lynch', 1), ('lariou', 1), ('realtim', 2), ('ombudsmanship', 1), ('campsit', 1), ('pub', 1), ('midg', 1), ('snake', 2), ('jt', 1), ('ruff', 1), ('cameronhack', 1), ('austin', 2), ('jewish', 4), ('beinart', 1), ('legion', 1), ('imperfect', 2), ('hybrid', 2), ('form', 5), ('priceless', 1), ('greateranglia', 1), ('fault', 1), ('brave', 3), ('logist', 2), ('enca', 1), ('onboard', 1), ('katunew', 2), ('remain', 12), ('brush', 3), ('acr', 5), ('beef', 1), ('propheci', 1), ('ercjmnea', 1), ('explor', 7), ('gabon', 4), ('somalia', 6), ('zaynmaiikist', 1), ('grindhous', 1), ('texaschainsawmassacr', 1), ('morbidmovi', 1), ('implod', 1), ('alhaji', 1), ('sha', 1), ('ibeto', 1), ('cement', 2), ('competitor', 1), ('antipozi', 1), ('cuck', 1), ('josh', 1), ('lado', 1), ('joshua', 1), ('typo', 2), ('thesmallclark', 1), ('marin', 5), ('sfgate', 1), ('hahaha', 2), ('shoutout', 1), ('shelbi', 3), ('alwx', 1), ('basement', 3), ('streetlight', 1), ('nataliealund', 1), ('davidvonderhaar', 3), ('sincer', 2), ('collideworship', 1), ('critic', 3), ('pundit', 2), ('grave', 1), ('rail', 9), ('strategicpati', 2), ('strategi', 5), ('plantat', 1), ('rainforestresq', 1), ('rebeccaforr', 1), ('wisconsin', 1), ('behalf', 2), ('govwalk', 1), ('cig', 1), ('tray', 1), ('meteor', 1), ('xleak', 1), ('ph', 1), ('to', 1), ('festac', 1), ('sed', 1), ('bbm', 1), ('harbor', 2), ('fundament', 1), ('valuat', 1), ('bmw', 1), ('oem', 1), ('orshow', 1), ('kevin', 1), ('tan', 2), ('chef', 1), ('pastur', 1), ('firefigth', 1), ('northampton', 1), ('mike', 5), ('magner', 2), ('betray', 4), ('cameron', 2), ('qvc', 1), ('lilithsaintcrow', 1), ('bluewestlo', 1), ('elreynetwork', 1), ('pilgrim', 1), ('england', 5), ('unimpress', 1), ('roar', 1), ('wqow', 1), ('label', 1), ('noooooooooooo', 1), ('boko', 3), ('haram', 4), ('exposur', 2), ('newreleas', 1), ('jimmi', 1), ('lapaka', 1), ('bebacksoon', 1), ('bbcwomanshour', 1), ('setsuko', 1), ('thurlow', 1), ('hoop', 2), ('thrown', 2), ('display', 2), ('ameribag', 1), ('healthi', 2), ('khaki', 1), ('beig', 1), ('nylon', 2), ('wsl', 1), ('childcar', 1), ('jennasjem', 1), ('patrickwsl', 1), ('dramaa', 1), ('llama', 1), ('lilourri', 1), ('narri', 1), ('kamon', 1), ('jmastrodonato', 1), ('ortiz', 1), ('bunt', 1), ('forefath', 1), ('benzema', 1), ('increasingli', 1), ('benitez', 1), ('eight', 2), ('figur', 3), ('sirensicebreak', 1), ('divers', 1), ('heroin', 3), ('dmoneydemi', 1), ('dtb', 1), ('watchout', 1), ('patna', 2), ('profil', 5), ('dj', 1), ('byebyesoundcloud', 1), ('buffoonmik', 1), ('mo', 6), ('staff', 3), ('acquisit', 2), ('cumberbatch', 1), ('psychiatr', 3), ('fte', 2), ('thankkk', 1), ('soo', 2), ('notificationsu', 1), ('parshol', 1), ('superb', 1), ('ju', 1), ('awesomelov', 1), ('frvrgrate', 1), ('referencerefer', 1), ('xekstrin', 1), ('nostril', 2), ('partak', 1), ('cartoon', 2), ('qave', 1), ('knowlddg', 1), ('waist', 2), ('loupascal', 1), ('complex', 3), ('cafir', 2), ('florin', 1), ('enrt', 3), ('grew', 3), ('asic', 2), ('ronni', 2), ('fieg', 2), ('kith', 2), ('theburnageblu', 1), ('trooper', 1), ('bobbl', 1), ('funko', 1), ('satanaofhel', 1), ('dreami', 1), ('slowli', 2), ('protestor', 1), ('skyscrap', 1), ('kamunt', 1), ('nostalgia', 2), ('youuu', 1), ('letdown', 1), ('sakhalintribun', 1), ('eastward', 1), ('brant', 1), ('drummond', 1), ('blakeshelton', 1), ('jeez', 1), ('ashenforest', 1), ('floorburnt', 1), ('manzanita', 1), ('timber', 1), ('routecomplex', 1), ('mchenri', 2), ('tunnel', 3), ('nort', 1), ('compet', 2), ('okinawa', 1), ('depth', 4), ('outdoor', 3), ('fgcu', 1), ('conclud', 3), ('tonn', 1), ('haley', 2), ('whaley', 1), ('trick', 2), ('clash', 4), ('ofclan', 1), ('mordechai', 1), ('yehuda', 1), ('friedman', 1), ('ramat', 1), ('beit', 1), ('shemesh', 1), ('vape', 2), ('bust', 1), ('unsens', 1), ('outrun', 1), ('consent', 2), ('blutz', 2), ('indict', 1), ('ill', 7), ('katiekatcub', 1), ('blinker', 1), ('jim', 3), ('yorker', 3), ('uncertain', 1), ('sailor', 1), ('recycl', 2), ('artilleri', 1), ('cartridg', 1), ('elderli', 1), ('companionship', 1), ('chester', 1), ('chestertweetsuk', 1), ('quick', 7), ('mthe', 1), ('premis', 1), ('thirsti', 2), ('sedan', 1), ('tix', 1), ('preseason', 1), ('scotiabank', 1), ('saddledom', 1), ('iphooey', 1), ('bachmann', 1), ('ron', 2), ('hoax', 3), ('carryi', 3), ('eunic', 1), ('njoki', 1), ('aiii', 1), ('calmli', 1), ('biztip', 1), ('usami', 1), ('jtw', 1), ('camilacabello', 2), ('pendleton', 1), ('horno', 1), ('loot', 4), ('proud', 1), ('aul', 1), ('dental', 2), ('appoint', 1), ('excus', 3), ('tooth', 2), ('dorman', 2), ('novel', 3), ('june', 2), ('confess', 1), ('homemad', 1), ('yogurt', 1), ('choos', 2), ('jaymcleanauthor', 1), ('crobscarla', 1), ('hollyorang', 1), ('gambit', 2), ('anakin', 1), ('wbc', 1), ('tbr', 1), ('brows', 1), ('gr', 2), ('homepag', 1), ('scseestapreparando', 1), ('mag', 1), ('khuzdar', 1), ('wedn', 3), ('volcanodiscov', 1), ('vermont', 2), ('buffalo', 4), ('bi', 2), ('erdogan', 1), ('socialist', 1), ('suru', 1), ('shareahol', 1), ('chronicil', 1), ('mylifestori', 1), ('prove', 1), ('begun', 1), ('tren', 1), ('esoter', 1), ('astrologian', 1), ('sirbrandonknt', 1), ('lesnar', 1), ('cena', 1), ('summerslam', 1), ('brock', 2), ('westminist', 1), ('knott', 1), ('thebuffshow', 1), ('thetwisterokc', 1), ('boyfriend', 3), ('shaniatwain', 1), ('twisterlovesshania', 1), ('harsh', 1), ('rebelmag', 1), ('heller', 1), ('awickedassassin', 1), ('anna', 3), ('tightli', 1), ('gamerg', 3), ('remedi', 1), ('angioplasti', 1), ('dissert', 1), ('elit', 2), ('dismay', 1), ('sunflow', 1), ('newswatch', 2), ('lansdown', 2), ('ptbo', 2), ('fwd', 1), ('ribbon', 1), ('offtrackhors', 1), ('hardest', 1), ('yard', 1), ('justsay', 1), ('randomthought', 1), ('ignor', 5), ('fadc', 1), ('drvox', 1), ('agw', 1), ('denial', 2), ('overrun', 1), ('server', 6), ('terrifi', 3), ('roller', 3), ('coaster', 2), ('disclaim', 1), ('littlebitofbass', 1), ('silinski', 1), ('premier', 3), ('elkhorn', 2), ('walerga', 2), ('fyld', 1), ('preston', 1), ('skylin', 2), ('canyon', 6), ('mcfadden', 1), ('hamstr', 1), ('teamstream', 1), ('rinkydnk', 1), ('zaibatsunew', 1), ('neoprogress', 1), ('ecolog', 1), ('afghetc', 1), ('humanitarian', 1), ('reboot', 2), ('passion', 1), ('overblown', 1), ('kapokekito', 1), ('northgat', 1), ('hom', 2), ('zaman', 1), ('alwsl', 1), ('hannah', 1), ('snapharmoni', 1), ('santaclara', 1), ('nb', 3), ('bayarea', 1), ('credit', 2), ('doctorfluxx', 1), ('stefanejon', 1), ('spinnellii', 1), ('themermacorn', 1), ('editori', 2), ('nc', 2), ('nickle', 1), ('loo', 1), ('wbre', 1), ('wyou', 1), ('nu', 5), ('evanston', 2), ('drdrewhln', 1), ('areva', 1), ('timkain', 2), ('leadership', 2), ('angela', 1), ('sander', 1), ('roundhous', 1), ('couch', 1), ('coincid', 1), ('finer', 1), ('subatom', 1), ('spell', 2), ('flint', 1), ('metropoli', 1), ('highsmith', 1), ('towboat', 1), ('vtc', 1), ('guilti', 3), ('giggl', 1), ('dorret', 2), ('echo', 1), ('drsarwatzaib', 1), ('mcourt', 1), ('parliment', 1), ('dat', 4), ('tween', 1), ('iembot', 1), ('hfo', 1), ('nnw', 2), ('hana', 1), ('maui', 1), ('ab', 1), ('wealth', 6), ('surah', 3), ('humaza', 3), ('dmac', 1), ('reddish', 1), ('dummi', 2), ('pronounc', 1), ('theboyofmask', 1), ('manor', 1), ('darud', 5), ('airhorn', 1), ('vill', 1), ('yahoocar', 1), ('nking', 1), ('animatron', 1), ('patrickjbutl', 1), ('excel', 5), ('damiengayl', 1), ('closur', 4), ('logan', 2), ('cowx', 1), ('gridlock', 2), ('washingtonpost', 2), ('dorismatsui', 1), ('safer', 4), ('eeri', 1), ('cadrought', 1), ('lakeisabella', 1), ('jpanzar', 1), ('potter', 1), ('lasvegasloc', 1), ('vitalvega', 1), ('rein', 1), ('stool', 1), ('unsuckdcmetro', 2), ('deepthought', 1), ('soonergrunt', 1), ('lac', 1), ('screech', 1), ('accompani', 1), ('dreamoforgonon', 1), ('teeess', 1), ('bona', 1), ('fide', 1), ('cisladi', 1), ('incident', 1), ('homosexu', 2), ('liabl', 2), ('chevi', 1), ('swea', 1), ('surgic', 1), ('stevenontwatt', 1), ('pussyxdestroy', 1), ('flavor', 1), ('boom', 2), ('jmcwrite', 1), ('pitchwar', 1), ('realism', 1), ('neal', 1), ('rigga', 1), ('wftv', 1), ('tn', 2), ('psychologist', 1), ('upi', 1), ('irannucleard', 1), ('ford', 2), ('grrrr', 2), ('dove', 1), ('mlb', 5), ('jannet', 1), ('socialwot', 1), ('globi', 1), ('inclus', 1), ('middleeast', 1), ('caravan', 1), ('zaatari', 1), ('usnwsgov', 1), ('statement', 3), ('benji', 1), ('devo', 1), ('avigdorliberman', 1), ('susiya', 1), ('backlash', 1), ('slikrickdarula', 1), ('peep', 2), ('cue', 3), ('jariana', 1), ('globe', 2), ('orchestr', 1), ('toni', 3), ('nester', 1), ('sonoranrattl', 1), ('writingtip', 1), ('gilmanrock', 1), ('brisk', 1), ('myfitnessp', 1), ('lightli', 1), ('reserv', 2), ('analysi', 3), ('yugvani', 2), ('destinythegam', 1), ('bungi', 1), ('playstat', 2), ('seanpeconi', 1), ('jason', 2), ('lynchonsport', 1), ('criscyborg', 1), ('regress', 1), ('justu', 1), ('corn', 1), ('flake', 1), ('abbyairshow', 1), ('phnotf', 1), ('cheeki', 1), ('recoil', 1), ('ci', 1), ('offend', 1), ('transgend', 2), ('frail', 1), ('chonc', 2), ('cryibg', 1), ('tnn', 1), ('thejenmorillo', 1), ('ihhen', 1), ('msf', 2), ('nikki', 1), ('microphon', 2), ('ovari', 1), ('kotowsa', 1), ('sudan', 1), ('nsfw', 3), ('milf', 1), ('closeup', 1), ('pisgah', 2), ('cortneymo', 1), ('detroit', 1), ('buff', 1), ('oun', 2), ('planner', 1), ('bloodymonday', 1), ('tvshowtim', 1), ('swam', 1), ('suffic', 1), ('cbc', 3), ('rokiiee', 1), ('stoni', 1), ('felon', 1), ('dothraki', 2), ('westero', 2), ('underestim', 1), ('majesti', 1), ('emperor', 2), ('salman', 1), ('khan', 1), ('unstopp', 1), ('bajrangi', 1), ('bhaijaan', 1), ('crose', 1), ('bytorrecilla', 1), ('torrecilla', 1), ('dumbass', 1), ('raisinfing', 1), ('hoke', 1), ('versu', 1), ('dfljev', 1), ('caitlin', 4), ('kiernan', 4), ('centiped', 4), ('sleepjunki', 1), ('pill', 3), ('laylovetournay', 1), ('ryrotheunawar', 1), ('groan', 1), ('wsoc', 1), ('charlott', 3), ('asburi', 1), ('asburyparkpress', 1), ('libraryeliza', 1), ('taylorswift', 1), ('bump', 2), ('approv', 3), ('musicadvisori', 1), ('famou', 3), ('musician', 2), ('oppos', 2), ('michelleell', 1), ('freshman', 2), ('demeta', 1), ('stir', 5), ('grief', 5), ('farrakhan', 2), ('rori', 1), ('mcilroy', 1), ('chinadotcom', 1), ('naturaldisast', 1), ('thereal', 1), ('comin', 1), ('aubilenon', 1), ('markkriegsman', 1), ('tribe', 1), ('contactenergi', 1), ('clyde', 1), ('specci', 1), ('marc', 1), ('holl', 1), ('nennicook', 1), ('aitchkayce', 1), ('vixstuart', 1), ('benjbeckwith', 1), ('pvc', 1), ('deosl', 1), ('xavier', 2), ('meaningless', 1), ('cod', 2), ('theemobrago', 1), ('jitsu', 1), ('hexagon', 1), ('toe', 4), ('dna', 1), ('puth', 1), ('properli', 1), ('thisisfaz', 1), ('techesback', 2), ('edsheeran', 1), ('stew', 1), ('preacher', 1), ('bounti', 3), ('icymagistr', 1), ('icicl', 1), ('projectil', 1), ('variou', 1), ('miniatur', 1), ('johnfromcranb', 1), ('plea', 1), ('oak', 3), ('southdown', 2), ('hampshir', 2), ('treescap', 1), ('treeporn', 2), ('accidentalpropheci', 1), ('sneez', 1), ('talkin', 1), ('smack', 1), ('frustrat', 1), ('quantit', 1), ('quiet', 1), ('phandom', 1), ('tyler', 2), ('kinkyconnor', 1), ('cogxbox', 1), ('xboxon', 1), ('logic', 4), ('courag', 2), ('aerospac', 1), ('exec', 1), ('aveng', 3), ('alexbelloli', 2), ('tsutomi', 1), ('yamaguchi', 1), ('otd', 1), ('jersey', 2), ('cowboy', 2), ('woe', 1), ('claiborn', 1), ('stray', 1), ('stranger', 1), ('reshareworthi', 1), ('permit', 1), ('outnumb', 1), ('licens', 1), ('fir', 2), ('petersburg', 1), ('aptli', 1), ('engineerd', 1), ('settlement', 4), ('treasur', 1), ('outbre', 1), ('akx', 1), ('item', 4), ('phantasm', 1), ('cummerbund', 1), ('medusa', 1), ('input', 1), ('skynew', 1), ('scum', 1), ('escort', 1), ('gfe', 1), ('dubai', 1), ('langley', 2), ('filipino', 1), ('thatsabinegirl', 1), ('dose', 1), ('dec', 1), ('deploy', 1), ('hvzlaradio', 1), ('email', 4), ('pa', 1), ('eventspalmbeach', 1), ('dcubecraft', 1), ('greetingcard', 1), ('architectur', 2), ('toiindianew', 1), ('ofcours', 1), ('cau', 1), ('megan', 1), ('swanger', 1), ('ruthann', 1), ('mccormick', 1), ('daisi', 1), ('henley', 1), ('letter', 5), ('iii', 3), ('pattonoswalt', 1), ('alamodc', 1), ('tunisia', 1), ('march', 2), ('museum', 3), ('att', 1), ('starmad', 1), ('stardat', 1), ('planetari', 1), ('atleast', 1), ('palmat', 1), ('perrybellegard', 1), ('pmharper', 1), ('firstnat', 1), ('idlenomor', 1), ('cndpoli', 1), ('yyj', 1), ('awwww', 2), ('rewatchingthepilot', 1), ('teamscorpion', 1), ('multidimension', 1), ('bilsko', 1), ('suddenli', 1), ('humofthec', 1), ('cee', 1), ('daem', 1), ('asf', 2), ('tak', 1), ('print', 5), ('satchel', 5), ('glosblu', 1), ('hamptonroadsfor', 1), ('pllolz', 2), ('witter', 2), ('jkl', 2), ('twilight', 1), ('encor', 2), ('biggar', 1), ('kindlecountdown', 1), ('mfrwauthor', 1), ('mgtab', 1), ('yiayplan', 1), ('amiibo', 1), ('noahj', 1), ('sticki', 1), ('zenit', 1), ('connor', 1), ('franta', 1), ('howel', 1), ('hatzolah', 1), ('flynn', 1), ('onr', 1), ('vicki', 1), ('unqualifi', 1), ('treati', 1), ('ieee', 1), ('spectrum', 1), ('djryanwolf', 1), ('djcoreygrand', 1), ('djknyce', 1), ('djoneplustwo', 1), ('officialcoredj', 1), ('standup', 1), ('iamtonyn', 1), ('flyopinemonkey', 1), ('honshu', 1), ('coronet', 1), ('tomdean', 1), ('rizzo', 1), ('argentaelit', 1), ('xxx', 2), ('miami', 3), ('childfund', 1), ('aust', 2), ('careemerg', 1), ('appeal', 1), ('tiger', 2), ('msnbc', 2), ('termin', 1), ('hillari', 1), ('warlord', 1), ('thrust', 1), ('womb', 1), ('thick', 3), ('dylanmcclur', 1), ('zumiez', 1), ('victorinox', 1), ('swiss', 1), ('mop', 1), ('nankana', 2), ('sahib', 2), ('socialmedia', 2), ('dfr', 1), ('monthli', 1), ('dnbheaven', 1), ('lolli', 1), ('knicker', 1), ('tyre', 1), ('vaginaorcak', 1), ('lrt', 2), ('tom', 5), ('lvl', 1), ('satoshi', 1), ('robotcoingam', 1), ('bitcoin', 1), ('freebitcoin', 1), ('beth', 1), ('underwood', 1), ('graviti', 1), ('talkradio', 1), ('interven', 1), ('vitess', 1), ('arnhem', 1), ('buildup', 1), ('neon', 1), ('counterstrik', 1), ('saudiarabia', 1), ('joedawg', 1), ('tor', 2), ('imo', 1), ('luzukokoti', 1), ('umntu', 1), ('wakho', 1), ('bestfriend', 1), ('yourboy', 1), ('shawn', 1), ('bull', 1), ('rebound', 1), ('hazelannmac', 1), ('hatman', 1), ('delici', 1), ('tale', 3), ('pox', 1), ('infectiousdiseas', 1), ('ala', 1), ('router', 1), ('ddo', 1), ('thegam', 3), ('lo', 2), ('fb', 4), ('pipe', 4), ('nycha', 1), ('ayekoradio', 1), ('brasswork', 1), ('shaken', 1), ('netlabel', 1), ('electronicmus', 1), ('ccmusic', 1), ('sanitis', 1), ('narr', 1), ('ppact', 1), ('vixmeldrew', 1), ('begforcum', 1), ('allday', 1), ('cumshot', 2), ('cumcov', 1), ('sexycumshot', 1), ('cumtown', 1), ('bj', 1), ('nutt', 1), ('cumslut', 1), ('girlslovecum', 1), ('gianni', 1), ('submerg', 1), ('reef', 1), ('fuckyeahcarey', 1), ('bornverifi', 1), ('tarbox', 1), ('sour', 1), ('freezer', 1), ('devia', 1), ('ler', 1), ('watti', 1), ('teenfict', 1), ('wrinkl', 1), ('decay', 1), ('freeway', 1), ('audi', 1), ('pone', 1), ('cantar', 1), ('itzsteven', 1), ('xdojjjj', 1), ('whopper', 1), ('jr', 3), ('leo', 4), ('senschum', 1), ('religi', 1), ('avbronstein', 1), ('popehat', 1), ('instapundit', 1), ('invas', 2), ('glassanim', 1), ('slither', 1), ('viscou', 1), ('erykah', 1), ('badu', 1), ('meyerbjoern', 1), ('thelonevirolog', 1), ('mackayim', 1), ('newspap', 1), ('yygb', 1), ('strongest', 1), ('radic', 1), ('christiec', 1), ('cosponsor', 2), ('renew', 3), ('agalloch', 1), ('medinah', 1), ('imkeepingmydayjob', 1), ('weyburn', 1), ('fentanyl', 1), ('provinc', 1), ('task', 2), ('levi', 1), ('wdtv', 1), ('romant', 1), ('sensei', 1), ('rhyme', 1), ('attic', 2), ('tracklist', 1), ('imouto', 1), ('nashvilletraff', 1), ('diaporama', 1), ('sixpencee', 1), ('karymski', 2), ('reveillertm', 1), ('macabrelolita', 1), ('amino', 1), ('susi', 1), ('stlnd', 1), ('insubcontin', 2), ('turnedonfetaboo', 1), ('hsjb', 1), ('miracl', 1), ('mankind', 1), ('nasa', 2), ('horizon', 2), ('utp', 1), ('mane', 1), ('raider', 2), ('cg', 1), ('pete', 2), ('knox', 2), ('gemmast', 1), ('hipster', 2), ('unfortun', 2), ('rutherford', 1), ('shakjn', 1), ('senzu', 1), ('gohan', 1), ('pouch', 1), ('khulna', 1), ('sharethi', 3), ('autoinsur', 2), ('clueless', 2), ('driverlesscar', 1), ('savagen', 1), ('peasant', 1), ('stalin', 1), ('redistribut', 1), ('unnecessari', 2), ('waiver', 1), ('yelp', 1), ('bolster', 2), ('revel', 3), ('wmv', 2), ('farewel', 1), ('dvd', 6), ('gtxrwm', 1), ('nlccollid', 1), ('lonepin', 1), ('canberra', 1), ('gallipoli', 2), ('kinder', 1), ('twon', 1), ('cityofkamloop', 1), ('sec', 1), ('kamloop', 1), ('mathew', 1), ('sk', 2), ('saladinahm', 1), ('restor', 4), ('carneross', 1), ('remark', 2), ('puni', 1), ('epoch', 1), ('holmgren', 1), ('cup', 5), ('lou', 2), ('troyslabi', 1), ('alv', 1), ('guarante', 1), ('nagel', 1), ('vicken', 1), ('basedlarock', 1), ('goonc', 1), ('ty', 4), ('sydney', 3), ('airasia', 1), ('wakeupflorida', 1), ('floridian', 1), ('trophyhunt', 1), ('thetwist', 1), ('maddi', 1), ('tae', 1), ('oktxduo', 1), ('askcharley', 2), ('thewesterngaz', 1), ('artisteoftheweekfact', 1), ('coastdj', 1), ('blaz', 1), ('jiwonl', 1), ('hiphop', 1), ('clubbang', 1), ('machinegunkelli', 1), ('underground', 1), ('kiro', 1), ('elliott', 2), ('nook', 1), ('thebachelorett', 1), ('vuitton', 4), ('monogram', 4), ('sophi', 4), ('dazzl', 1), ('tf', 2), ('fieri', 1), ('disdain', 1), ('kurtkamka', 1), ('ariz', 1), ('incompet', 1), ('domest', 2), ('lamha', 2), ('ba', 1), ('icc', 1), ('realckt', 1), ('overse', 1), ('clanci', 1), ('paperback', 1), ('tomclanc', 1), ('thee', 1), ('striker', 2), ('bbclaurak', 1), ('stow', 1), ('aboard', 1), ('eurotunnel', 2), ('halljh', 1), ('gnwt', 1), ('theconspiracytheori', 1), ('newep', 1), ('drmartyfox', 1), ('lib', 1), ('dqsvyusi', 1), ('fever', 1), ('marshal', 2), ('dambisa', 2), ('moyo', 2), ('prosyn', 2), ('ope', 2), ('bank', 5), ('laoi', 2), ('bff', 3), ('toung', 1), ('pepperoni', 1), ('handl', 4), ('breakfast', 1), ('millennium', 1), ('plaza', 1), ('avysss', 1), ('metepec', 1), ('ofici', 1), ('nitclub', 1), ('sica', 2), ('presenc', 2), ('stronger', 1), ('emiiliexirwin', 1), ('blame', 9), ('seasonfrom', 1), ('onshit', 1), ('joeybat', 1), ('off', 1), ('mosebi', 1), ('barfield', 1), ('locomot', 1), ('gaelit', 1), ('orchard', 1), ('artist', 2), ('anatomi', 1), ('loath', 1), ('vega', 3), ('twenti', 1), ('cedarglad', 1), ('takeaway', 1), ('magnific', 1), ('onthisday', 1), ('mayflow', 1), ('laphamsquart', 1), ('utopian', 1), ('impuls', 3), ('gulag', 1), ('rl', 1), ('hook', 1), ('elementari', 1), ('xela', 1), ('dcfd', 1), ('chr', 1), ('lyc', 1), ('iaff', 1), ('requiem', 1), ('flashflood', 1), ('gilgit', 1), ('farmland', 1), ('casewrit', 1), ('messeymetoo', 1), ('arkansa', 1), ('nola', 1), ('geometr', 1), ('gasparc', 1), ('obstacl', 1), ('dontexpectnoth', 1), ('hunchback', 1), ('notr', 1), ('dame', 3), ('cochran', 1), ('enact', 2), ('adamantli', 1), ('offload', 1), ('pikin', 1), ('ee', 3), ('modibo', 1), ('maiga', 1), ('fucktard', 1), ('coyi', 1), ('ruddyyyyyy', 1), ('jamiegriff', 1), ('jami', 1), ('chxrmingprinc', 1), ('luna', 1), ('hearthston', 1), ('zhejiang', 1), ('sophiewisey', 1), ('outag', 2), ('pennliv', 1), ('mechanicsburg', 1), ('landi', 1), ('peritoengrafoscopia', 1), ('ariabrisard', 1), ('leiaorganasolo', 1), ('aqua', 1), ('wedneday', 1), ('taykreidl', 1), ('loveyouuuu', 1), ('aintsheperti', 1), ('workspac', 1), ('forse', 1), ('badkitti', 1), ('mango', 1), ('lieu', 1), ('triumph', 2), ('slow', 5), ('lifeaintfairkid', 1), ('brooo', 1), ('baekhyun', 1), ('suho', 1), ('attend', 2), ('syjexo', 1), ('deepak', 1), ('chopra', 1), ('athlet', 2), ('exacerb', 2), ('monetari', 1), ('naypyidaw', 1), ('prensa', 1), ('latina', 1), ('nuff', 2), ('lordbrathwait', 1), ('growingupincolorado', 1), ('goooooooaaaaaal', 1), ('binellithresa', 1), ('barak', 1), ('deepwat', 1), ('distribut', 2), ('wxia', 1), ('method', 2), ('obta', 1), ('transcript', 1), ('butiqob', 1), ('ravioli', 1), ('porcini', 1), ('ricotta', 1), ('driller', 1), ('syd', 1), ('bankstown', 1), ('stacey', 2), ('wattl', 1), ('kennel', 1), ('yorkshir', 1), ('pantalonesfuego', 1), ('crimsonfuckingv', 1), ('bitchl', 1), ('vecannon', 1), ('sera', 1), ('sasha', 1), ('peic', 1), ('sidewalk', 1), ('sterlingknight', 1), ('crashsterl', 1), ('carmel', 1), ('joeysterl', 1), ('cairo', 2), ('yahootv', 1), ('northwestern', 2), ('councilscc', 1), ('vanuatu', 1), ('bulgarian', 1), ('titti', 2), ('noemot', 1), ('edk', 1), ('pathfind', 1), ('avi', 1), ('header', 1), ('meanwhil', 1), ('nicki', 1), ('hush', 2), ('diss', 4), ('srsli', 1), ('dribbl', 1), ('urself', 1), ('innoc', 4), ('pollut', 1), ('psalm', 2), ('sin', 1), ('abort', 2), ('cdcgov', 1), ('chieftain', 1), ('dickson', 1), ('wreak', 1), ('wear', 7), ('seatbelt', 1), ('apt', 3), ('balconi', 1), ('booz', 1), ('lemairele', 1), ('danharmon', 1), ('comic', 2), ('dangerousbean', 1), ('porridg', 2), ('phenomen', 1), ('dvbb', 1), ('borgeou', 1), ('arceen', 1), ('savag', 1), ('thoma', 6), ('bradi', 2), ('gangstermail', 1), ('samsung', 1), ('mobil', 1), ('vulnera', 1), ('sumo', 1), ('wrestler', 1), ('muaytai', 1), ('wantmyabsback', 1), ('bicycl', 5), ('mesick', 1), ('ticklemeshawn', 1), ('evebrigid', 1), ('stormchas', 2), ('reno', 5), ('imagini', 1), ('noi', 1), ('clipuri', 1), ('cliptv', 1), ('desolationofsmaug', 1), ('poze', 1), ('thehobbit', 1), ('erinmariefishi', 1), ('dissuad', 1), ('johannesburg', 3), ('ani', 2), ('nightmarish', 1), ('vol', 1), ('deejayempiresound', 1), ('stavola', 1), ('role', 2), ('lh', 1), ('indiefilm', 1), ('bleacher', 1), ('brewer', 1), ('massiv', 4), ('wxii', 1), ('davidson', 1), ('episcop', 1), ('priest', 2), ('interraci', 1), ('harrow', 1), ('harass', 1), ('dailyko', 1), ('isao', 1), ('hashimoto', 1), ('atomicbomb', 1), ('roughdeal', 1), ('ant', 4), ('hudhud', 1), ('chandrababu', 1), ('vall', 1), ('bubblycuteon', 1), ('okayyyyyi', 1), ('ima', 3), ('kern', 1), ('kbak', 1), ('liveonkbak', 1), ('wearethenew', 1), ('thexfil', 1), ('butterfing', 2), ('wield', 2), ('wi', 3), ('hanna', 1), ('spout', 1), ('rascal', 1), ('flatt', 1), ('atlant', 2), ('bestiv', 1), ('molloy', 1), ('hwrf', 1), ('lash', 2), ('taipei', 1), ('surg', 3), ('tarp', 1), ('outfield', 1), ('infield', 1), ('jengriffinfnc', 1), ('japton', 1), ('poss', 1), ('phiddlefac', 1), ('prob', 1), ('error', 4), ('nank', 1), ('wsj', 1), ('wpo', 1), ('eve', 1), ('jon', 3), ('stewart', 2), ('kjforday', 1), ('agoni', 1), ('tunein', 2), ('fco', 1), ('tobia', 1), ('ellwood', 1), ('waseembadami', 1), ('karachi', 4), ('gv', 1), ('heir', 1), ('gorpuazikinak', 1), ('puddl', 1), ('pantofel', 1), ('pnpizodi', 1), ('indigo', 1), ('baggag', 1), ('thr', 1), ('thrarchiv', 1), ('mgm', 1), ('uhc', 1), ('creeper', 1), ('salti', 2), ('incap', 1), ('nothing', 1), ('blais', 1), ('pascal', 1), ('repli', 1), ('gut', 1), ('deutsch', 1), ('rotten', 2), ('monarchi', 1), ('squibbi', 1), ('booksbyrog', 1), ('bengston', 1), ('smem', 1), ('bakeofffriend', 2), ('volfan', 1), ('tneazzi', 1), ('mizzou', 1), ('muschamp', 1), ('bama', 1), ('zimmerman', 1), ('rzimmermanjr', 1), ('renewsit', 1), ('sock', 1), ('acc', 2), ('klondik', 1), ('lulu', 1), ('mypillowstudio', 1), ('seal', 1), ('roman', 1), ('sirtitan', 1), ('waldo', 1), ('cooperstown', 1), ('joestrong', 1), ('gokitgo', 1), ('totoooooo', 1), ('totoooooooooo', 1), ('historicalmag', 1), ('stratford', 1), ('april', 1), ('deb', 1), ('principl', 2), ('fulfil', 1), ('dialys', 1), ('lanjut', 1), ('dirumah', 1), ('yagitudeh', 1), ('rumah', 1), ('cipinang', 1), ('crowtherjohn', 1), ('effiedean', 1), ('lbr', 1), ('couldnt', 1), ('situ', 1), ('icymi', 1), ('annouc', 1), ('cs', 3), ('lolgop', 1), ('fraud', 1), ('vra', 1), ('junk', 2), ('neat', 1), ('rioter', 2), ('admin', 1), ('byuwnbeki', 1), ('tacit', 1), ('colin', 1), ('bigperm', 1), ('draft', 1), ('overal', 1), ('utahgrizz', 1), ('atchisonsean', 1), ('annoy', 3), ('hung', 1), ('audaciousspunk', 1), ('gerryconnolli', 1), ('repdonbey', 1), ('debacl', 1), ('mgr', 1), ('theellenshow', 1), ('signatur', 1), ('elianaraquel', 1), ('gg', 2), ('wilden', 1), ('idc', 4), ('pov', 4), ('amsterdam', 4), ('schiphol', 2), ('gfrost', 1), ('jeffpalm', 1), ('toddyrockstar', 1), ('abandonedp', 1), ('delet', 2), ('abbandon', 1), ('darsena', 1), ('castello', 1), ('scaligero', 1), ('sirmion', 1), ('asa', 1), ('exhibitor', 1), ('assnchat', 1), ('dwight', 1), ('eisenhow', 1), ('indepth', 1), ('cope', 3), ('snazzychipz', 1), ('sutherland', 1), ('pine', 1), ('theleadernew', 1), ('carajdeievingnc', 1), ('ratio', 1), ('js', 1), ('audacityjamesta', 1), ('lan', 1), ('temp', 2), ('scottwalk', 1), ('typic', 2), ('roos', 1), ('iaffloc', 1), ('skyhawkmm', 1), ('traplord', 1), ('fredosantana', 1), ('lilrees', 1), ('mosh', 1), ('afrikaan', 1), ('preorder', 1), ('thebargain', 1), ('strip', 2), ('unknown', 1), ('boi', 1), ('lame', 1), ('exam', 1), ('frighten', 1), ('marcoar', 1), ('gateau', 1), ('moir', 1), ('cjban', 1), ('argsuppos', 1), ('attain', 2), ('individl', 1), ('courtof', 1), ('chrissi', 1), ('finn', 1), ('ayhhhhhdjjfjrjjrdjjek', 1), ('cheetosarabia', 1), ('he', 3), ('cheeto', 1), ('strongli', 1), ('cowardli', 1), ('simpli', 1), ('businessman', 1), ('condo', 2), ('foil', 1), ('troup', 1), ('racial', 1), ('breakdanc', 1), ('vinni', 1), ('northumbria', 1), ('linerless', 1), ('bottl', 3), ('fenc', 2), ('peek', 1), ('mud', 1), ('immun', 1), ('deafen', 1), ('zicac', 1), ('briefcas', 1), ('snoop', 1), ('colli', 1), ('buddz', 1), ('calgarian', 1), ('ooc', 1), ('unwarr', 1), ('surf', 2), ('spa', 1), ('boomerangtim', 1), ('rskarim', 1), ('sopam', 1), ('wattashit', 1), ('ridah', 1), ('hick', 1), ('pfft', 1), ('unhing', 1), ('machismo', 1), ('bullshit', 1), ('mockingpanem', 1), ('cuddlesforjen', 1), ('scarier', 1), ('coldmpress', 1), ('osborn', 1), ('extinguish', 1), ('sikh', 1), ('dviyer', 1), ('colorlin', 1), ('vaxshil', 1), ('measl', 2), ('complic', 2), ('scumper', 1), ('palermo', 1), ('jess', 1), ('linden', 1), ('lite', 1), ('lind', 1), ('fitba', 1), ('camila', 1), ('spree', 1), ('joshsternberg', 1), ('clap', 1), ('xhnew', 1), ('tweetinglew', 1), ('tersestuff', 1), ('notley', 2), ('harper', 4), ('heartland', 1), ('tfw', 1), ('slave', 2), ('albertan', 1), ('minecraft', 6), ('bob', 4), ('showcas', 3), ('apd', 1), ('southeast', 1), ('janeenorman', 1), ('soaker', 1), ('samihonkonen', 1), ('blueprint', 1), ('timestack', 1), ('mesmer', 1), ('liquid', 1), ('usar', 2), ('ruor', 1), ('renam', 1), ('goonda', 1), ('motley', 1), ('hooligan', 2), ('selfavow', 1), ('crook', 1), ('determin', 2), ('eazzi', 1), ('warrant', 1), ('emsc', 2), ('troy', 2), ('nikoniko', 1), ('hinton', 2), ('aisl', 1), ('serbian', 1), ('bardissimo', 1), ('gift', 3), ('pat', 1), ('spen', 1), ('dehydr', 1), ('resili', 1), ('factsheet', 1), ('archipelagowolv', 1), ('extinct', 1), ('standforwolv', 1), ('taf', 1), ('hendrixonfir', 1), ('blackcat', 1), ('noob', 1), ('conquest', 3), ('gettinglost', 1), ('jennellensbb', 1), ('muncl', 1), ('superfici', 1), ('spray', 2), ('jyheffect', 1), ('johnni', 2), ('marr', 1), ('primal', 1), ('mortal', 7), ('kombat', 7), ('sega', 1), ('whyor', 1), ('uabstephenlong', 1), ('courtlizcamp', 1), ('robertbenglund', 1), ('annealiz', 1), ('simon', 2), ('sivan', 1), ('basalt', 1), ('massag', 1), ('worldoil', 1), ('subscript', 1), ('purport', 1), ('divid', 2), ('realjaxclon', 1), ('preciou', 2), ('onesi', 1), ('oilandga', 1), ('motordom', 1), ('lobbi', 2), ('visionzero', 1), ('flow', 3), ('rar', 1), ('sworn', 1), ('proven', 1), ('impend', 2), ('biblic', 1), ('crusti', 2), ('rot', 1), ('potato', 1), ('simultan', 2), ('acut', 3), ('bigburgerboi', 1), ('spartan', 1), ('overtim', 2), ('kodak', 1), ('lisatoddsutton', 1), ('bcz', 1), ('murphi', 1), ('twilightfairi', 1), ('sacrific', 1), ('presum', 1), ('soggi', 1), ('moist', 1), ('argent', 1), ('punkblunt', 1), ('sincerelyevelnn', 1), ('enzasbargain', 1), ('handi', 1), ('wipe', 2), ('profittothepeopl', 1), ('ddnewsliv', 1), ('nitishkumar', 1), ('arvindkejriw', 1), ('narendramodi', 2), ('bago', 2), ('function', 2), ('inbetween', 1), ('woodland', 1), ('skippi', 1), ('sebe', 1), ('ipa', 1), ('squeez', 3), ('radler', 1), ('bolshevik', 1), ('monopol', 1), ('suppli', 2), ('seiz', 2), ('hunhri', 1), ('artifici', 2), ('remot', 1), ('higher', 2), ('ransomwar', 1), ('andrew', 2), ('wilson', 1), ('chaosmagician', 1), ('asap', 4), ('advis', 2), ('correl', 2), ('marketwatch', 1), ('refugeesmatt', 1), ('quadrillion', 1), ('danagould', 1), ('waynesteratl', 1), ('background', 1), ('travi', 2), ('sept', 2), ('quarrel', 2), ('banki', 1), ('jeff', 1), ('pirat', 2), ('blowltan', 1), ('threw', 1), ('nude', 3), ('scriptettesar', 1), ('katiecool', 1), ('wasp', 1), ('motogp', 1), ('indianapoli', 1), ('espargaro', 1), ('layout', 2), ('retro', 1), ('classic', 3), ('platform', 2), ('platinum', 1), ('youd', 1), ('bo', 2), ('justicemalala', 1), ('nkeajresq', 1), ('nkea', 1), ('gambia', 1), ('mercenari', 1), ('given', 2), ('salisburi', 1), ('cypress', 1), ('doe', 2), ('filter', 1), ('offsit', 1), ('deede', 1), ('casey', 1), ('goldrush', 1), ('misscharleywebb', 1), ('eminem', 1), ('nate', 1), ('dogg', 1), ('perceiv', 1), ('faintli', 1), ('sputter', 1), ('candl', 1), ('vast', 1), ('glacier', 1), ('etern', 1), ('gyrsi', 1), ('corleonedaboss', 1), ('wealilknowa', 1), ('cunt', 2), ('mayoroflondon', 1), ('compulsori', 1), ('notrocketsci', 1), ('postexist', 1), ('addit', 1), ('perquisit', 1), ('brzjc', 1), ('jsunnew', 1), ('out', 1), ('mumbailoc', 1), ('lessonforlif', 1), ('marinelin', 1), ('camera', 3), ('bolt', 1), ('outlet', 1), ('goz', 1), ('ru', 1), ('domain', 2), ('wk', 1), ('seward', 1), ('seattledot', 1), ('seattletim', 1), ('oblivi', 1), ('mouss', 1), ('meganbe', 1), ('kadiegrr', 1), ('blackburn', 1), ('pll', 1), ('southwest', 1), ('omaha', 1), ('util', 1), ('pole', 1), ('silverwood', 1), ('mink', 1), ('asymbina', 1), ('tithenai', 1), ('hamper', 1), ('ella', 1), ('vicker', 1), ('washabl', 1), ('frank', 2), ('plead', 1), ('hay', 1), ('masonit', 1), ('wahpeton', 1), ('aimlessli', 1), ('deters', 1), ('hlg', 1), ('papi', 1), ('juliekragt', 1), ('wildwestsixgun', 1), ('stabl', 1), ('cityofmemphi', 1), ('hindustan', 1), ('prablematicla', 1), ('adweek', 1), ('invinc', 1), ('treyarch', 1), ('taliban', 2), ('rig', 1), ('compound', 2), ('astro', 1), ('stunningli', 1), ('mia', 1), ('cali', 1), ('mizuta', 1), ('szmnextdoor', 1), ('geyser', 2), ('listeria', 1), ('thene', 1), ('ppsellsbabypart', 1), ('campanha', 1), ('damsel', 1), ('distress', 1), ('peer', 1), ('devil', 2), ('vergil', 1), ('agnu', 1), ('dmd', 1), ('leedstraif', 1), ('wc', 1), ('weebli', 1), ('sodamntru', 1), ('humbl', 3), ('assum', 2), ('edwelchmus', 1), ('unpack', 1), ('revitup', 1), ('pizzarev', 1), ('symptom', 1), ('lakeeffect', 1), ('twill', 1), ('denim', 1), ('tumblr', 2), ('christ', 3), ('overhead', 1), ('oakridg', 1), ('praiz', 1), ('bigrigradio', 1), ('suncorp', 1), ('net', 2), ('billion', 2), ('daewoni', 1), ('fowler', 2), ('stacedemon', 1), ('sevenfold', 1), ('urufusanragu', 1), ('concur', 1), ('mmk', 1), ('rochdal', 1), ('heywood', 1), ('pretend', 2), ('giorgio', 1), ('hiatt', 1), ('kall', 1), ('mattson', 1), ('recreat', 1), ('clever', 1), ('ration', 1), ('comcastcar', 1), ('hap', 1), ('davidolszak', 1), ('penn', 2), ('renov', 1), ('entrepreneur', 1), ('smallbiz', 1), ('gif', 2), ('africansinsf', 1), ('beyondgp', 1), ('fkn', 3), ('pleb', 1), ('eggali', 1), ('kierannicholson', 1), ('thomashcrown', 1), ('grandfath', 1), ('elwood', 1), ('blazingelwood', 1), ('doug', 1), ('dean', 1), ('ddnt', 1), ('reign', 1), ('coco', 1), ('ostentati', 1), ('belter', 1), ('kristyleemus', 1), ('simpson', 1), ('moli', 1), ('gotten', 4), ('mason', 1), ('violin', 1), ('ele', 1), ('kayle', 1), ('jannellix', 1), ('gamer', 1), ('troll', 1), ('backtoback', 1), ('chargedup', 1), ('limpar', 1), ('beckon', 1), ('void', 1), ('rp', 1), ('silo', 1), ('hartford', 1), ('oryx', 1), ('symbol', 1), ('peninsula', 1), ('volcan', 1), ('thirti', 1), ('channelstv', 1), ('intel', 1), ('exofficio', 1), ('ttw', 1), ('ptsd', 3), ('ptsdchat', 2), ('statist', 1), ('incas', 1), ('immens', 1), ('waterproof', 1), ('weiqin', 1), ('quartz', 2), ('lujo', 1), ('repay', 2), ('hurn', 1), ('tokteach', 1), ('skynet', 1), ('poignant', 1), ('everytim', 1), ('pokemoncard', 1), ('icequeenfrosla', 1), ('bobbyxfish', 1), ('wwi', 2), ('mido', 4), ('loudest', 1), ('higuain', 1), ('offsid', 1), ('tackettdc', 1), ('periferico', 1), ('orapinforma', 1), ('alloc', 1), ('veneto', 1), ('stoponesound', 1), ('airwav', 1), ('stickynyc', 1), ('goof', 1), ('guild', 1), ('saunder', 1), ('employe', 1), ('paperwork', 1), ('hronlinetweet', 1), ('simplifi', 1), ('staf', 1), ('trade', 1), ('sumn', 1), ('milwauke', 1), ('indyfest', 1), ('lumbar', 1), ('reus', 1), ('champaign', 1), ('fdbdp', 1), ('bloodbath', 1), ('favourit', 2), ('introduc', 1), ('mtvsummerstar', 1), ('videoveranomtv', 2), ('britney', 2), ('lana', 1), ('rey', 2), ('lwilliam', 1), ('format', 2), ('hilda', 1), ('mmchale', 1), ('mafia', 2), ('earbud', 2), ('jare', 1), ('largest', 3), ('newsmorn', 1), ('trollkratto', 1), ('juan', 1), ('rid', 2), ('tortur', 2), ('bryansing', 1), ('rupaul', 1), ('alexshipppp', 1), ('lighter', 1), ('preach', 1), ('dwilliam', 1), ('ieansquad', 1), ('tcgreno', 1), ('reset', 1), ('hubert', 1), ('humphrey', 1), ('dtn', 4), ('deeeznvtzzz', 1), ('superbug', 1), ('epidem', 1), ('biosurveil', 1), ('pornhub', 1), ('yancey', 1), ('justinejayyy', 1), ('ohgod', 1), ('optimist', 1), ('pivot', 2), ('captainn', 1), ('eddi', 1), ('toosoon', 1), ('usf', 1), ('acronym', 1), ('hhbu', 1), ('thisispublichealth', 1), ('teamhendrick', 2), ('ririnsid', 1), ('hendrick', 1), ('neanea', 1), ('electrostat', 1), ('fusion', 1), ('dismantl', 1), ('morocco', 1), ('strait', 1), ('gibraltar', 1), ('duststorm', 1), ('damidnight', 1), ('magist', 2), ('arent', 1), ('dwarv', 1), ('invokc', 1), ('rowysolouisvil', 1), ('awn', 1), ('lavenderpoetrycaf', 1), ('encod', 1), ('sensori', 1), ('cognit', 1), ('animallog', 1), ('lotg', 1), ('chalk', 1), ('mous', 1), ('subtl', 1), ('dallascowboy', 1), ('weyrey', 1), ('gidi', 1), ('maria', 3), ('northerncalifornia', 1), ('zippednew', 2), ('shanta', 2), ('wii', 1), ('shantaeforsmash', 1), ('shantaehalfgeniehero', 1), ('nintendo', 1), ('zaynmalik', 2), ('overwork', 2), ('conklin', 1), ('shuffl', 1), ('benson', 1), ('clegg', 1), ('regard', 4), ('esevu', 1), ('politifiact', 2), ('pant', 2), ('maxi', 1), ('sophieingl', 1), ('angharadjam', 1), ('banana', 1), ('malt', 1), ('loaf', 1), ('worm', 1), ('nicol', 1), ('fletcher', 1), ('phil', 2), ('gravel', 2), ('sob', 1), ('endlessli', 1), ('confus', 1), ('naayf', 1), ('chandane', 1), ('magu', 1), ('halfway', 1), ('conf', 1), ('climatechang', 1), ('ariana', 1), ('jackperu', 1), ('sweden', 3), ('venezuela', 3), ('darrellissa', 1), ('atljw', 1), ('cnnbrk', 1), ('ekiti', 2), ('ode', 1), ('gbonyin', 1), ('lga', 1), ('implic', 1), ('glove', 1), ('wexler', 1), ('sanford', 1), ('hardcov', 1), ('groupon', 1), ('telegraph', 1), ('honeybunzgem', 1), ('primalkitchen', 1), ('hahahah', 2), ('nxwestmidland', 1), ('affair', 1), ('kunstler', 1), ('residualincom', 1), ('mlm', 1), ('mutek', 1), ('montreal', 1), ('isea', 1), ('restart', 1), ('novemb', 2), ('spread', 2), ('macon', 1), ('warnerrobin', 1), ('milledgevil', 1), ('gawx', 2), ('meinlcymb', 2), ('endors', 2), ('wider', 1), ('militarydotcom', 1), ('fife', 1), ('coral', 2), ('offspr', 1), ('precondit', 1), ('kunalkapoor', 1), ('chaser', 1), ('pod', 1), ('chikislizeth', 1), ('lukebox', 1), ('broader', 1), ('conserv', 3), ('akgovbillwalk', 1), ('reinstat', 2), ('protectdenaliwolv', 2), ('conduct', 1), ('morethan', 1), ('kashmirconflict', 1), ('etisalat', 2), ('mb', 2), ('tecno', 1), ('ime', 1), ('tflbusalert', 2), ('ilford', 1), ('capoeira', 1), ('bearer', 1), ('breakingnewslh', 1), ('bree', 1), ('seventi', 1), ('piti', 2), ('oct', 2), ('iit', 1), ('tomato', 1), ('rottentomato', 1), ('balanc', 3), ('easton', 1), ('softbal', 1), ('fastpitch', 1), ('hockey', 2), ('thedailybeast', 1), ('desper', 2), ('disloc', 1), ('separ', 1), ('isol', 1), ('puls', 1), ('mclaughlin', 1), ('kitana', 1), ('slay', 1), ('kodi', 1), ('kombatfan', 1), ('coverag', 2), ('eo', 1), ('redland', 1), ('ibiza', 1), ('dannyjohnjul', 1), ('fearon', 1), ('christielinford', 1), ('bluebel', 1), ('infrastructur', 1), ('hazmat', 2), ('magazin', 1), ('warrior', 2), ('gander', 1), ('convect', 1), ('spit', 2), ('nlwx', 1), ('socal', 1), ('ybtheprophet', 1), ('realhiphop', 1), ('wxki', 1), ('shrimplevi', 1), ('du', 1), ('rap', 2), ('rtrrtcoach', 1), ('surfac', 4), ('elbow', 1), ('barbi', 1), ('anew', 1), ('skanndtyagi', 2), ('vacanc', 1), ('wwa', 1), ('volunt', 2), ('hvnewsnetwork', 1), ('voslooru', 1), ('gauteng', 1), ('toyota', 1), ('bkb', 1), ('until', 1), ('kabarmesir', 1), ('badr', 1), ('rabaa', 1), ('rememberrabaa', 1), ('youtu', 1), ('lzktjnox', 1), ('creep', 1), ('inflict', 2), ('derma', 1), ('bracket', 1), ('tim', 2), ('nana', 1), ('restless', 1), ('lickin', 1), ('donut', 1), ('gospel', 1), ('acoust', 1), ('slone', 1), ('rippl', 1), ('driverless', 1), ('healthinsur', 1), ('blockag', 1), ('woodward', 1), ('northbound', 1), ('davison', 1), ('shoalstraff', 1), ('lightumupbeast', 1), ('dick', 2), ('worthless', 1), ('preced', 1), ('often', 5), ('undetect', 1), ('hang', 2), ('modest', 1), ('sniff', 1), ('sniiiiiiff', 1), ('kushwush', 1), ('flashback', 2), ('hog', 1), ('autismawar', 1), ('hometownglori', 1), ('geek', 1), ('hess', 1), ('etcpb', 1), ('maid', 1), ('dh', 2), ('sponsor', 2), ('zach', 1), ('galifianaki', 1), ('farc', 1), ('officialmqm', 1), ('dant', 2), ('jeannathoma', 1), ('vic', 1), ('freeman', 1), ('langata', 1), ('tweetlikeitsseptemb', 2), ('kasich', 1), ('kanger', 1), ('coil', 2), ('poem', 2), ('chann', 1), ('cano', 2), ('fastest', 1), ('millcityio', 1), ('theramin', 1), ('newser', 1), ('ibaraki', 1), ('prefectur', 1), ('of', 1), ('pea', 1), ('legacyofthesith', 1), ('sagacioussab', 1), ('lordofbetray', 1), ('crescent', 1), ('netkicorp', 1), ('guest', 3), ('appropri', 1), ('jamaican', 1), ('canadian', 1), ('theme', 2), ('icrc', 1), ('huffpostrelig', 1), ('dotish', 1), ('perri', 1), ('crazyindapeg', 1), ('madisonpa', 1), ('lucypalladino', 1), ('briton', 2), ('ghe', 1), ('cautiou', 1), ('barcelona', 1), ('alba', 1), ('unharm', 1), ('deai', 1), ('vuln', 1), ('raabchar', 1), ('drphil', 1), ('morganlawgrp', 1), ('dimens', 1), ('undon', 1), ('advers', 1), ('gotriangl', 1), ('sensand', 1), ('gd', 1), ('wrked', 1), ('reed', 1), ('cya', 1), ('highland', 1), ('chillimik', 1), ('hushleg', 1), ('compar', 1), ('brilliant', 1), ('ars', 1), ('leed', 1), ('embra', 1), ('tier', 1), ('dee', 1), ('dum', 1), ('inroic', 1), ('venic', 2), ('eagl', 1), ('jordan', 3), ('hotnewscak', 1), ('newsintweet', 2), ('losangelestim', 1), ('bolasi', 1), ('wce', 2), ('nyka', 1), ('sg', 1), ('knockout', 1), ('vienna', 1), ('butcher', 1), ('themain', 1), ('charlesdagnal', 1), ('rub', 2), ('aberdeenfc', 1), ('aberdeenfanpag', 1), ('coeffici', 1), ('plz', 1), ('fittscott', 1), ('popularmmo', 2), ('policyhold', 1), ('clico', 1), ('duststormfilm', 1), ('despair', 2), ('fuckboy', 1), ('pseudojuuzo', 1), ('hrip', 1), ('corps', 1), ('jitter', 1), ('joonma', 1), ('dealbreak', 2), ('mate', 2), ('bbcmtd', 1), ('sleeper', 1), ('villicanaalicia', 1), ('sfa', 1), ('eytay', 1), ('neur', 1), ('duck', 1), ('hillaryclinton', 1), ('osama', 1), ('mhmmm', 1), ('ogt', 1), ('colomr', 1), ('burford', 1), ('council', 1), ('romeo', 1), ('juliet', 1), ('warmbodi', 1), ('benjamin', 1), ('franci', 1), ('leftwich', 1), ('travelelixir', 1), ('helo', 1), ('lucio', 1), ('overwatch', 1), ('kisii', 3), ('countynew', 1), ('camilla', 1), ('craykain', 1), ('shatter', 1), ('delus', 2), ('gunsens', 2), ('everton', 1), ('bid', 4), ('wonderkid', 1), ('libertygeek', 1), ('curb', 3), ('outcom', 1), ('metastat', 1), ('colorect', 1), ('surgeri', 1), ('hometown', 1), ('ibeyioffici', 1), ('wctv', 1), ('worldwatchesferguson', 1), ('govjaynixon', 1), ('clairecmc', 1), ('ghostwrit', 1), ('rihanna', 2), ('ireport', 1), ('cart', 2), ('zonewolf', 1), ('older', 2), ('urin', 1), ('preserv', 3), ('ajw', 1), ('jishin', 1), ('minamisoma', 1), ('usagi', 1), ('airhead', 1), ('misstep', 1), ('omar', 2), ('molina', 1), ('milioooo', 1), ('emilio', 1), ('firm', 1), ('cybersecur', 1), ('eu', 3), ('bldrcosheriff', 1), ('younger', 2), ('era', 2), ('cbsdenver', 1), ('slsp', 1), ('ultimatum', 1), ('dailytimesngr', 1), ('pierc', 3), ('veil', 1), ('bracelet', 1), ('wristband', 1), ('ogtomd', 1), ('catech', 1), ('confidenti', 1), ('yessum', 1), ('algeria', 1), ('itsmegss', 1), ('bark', 2), ('blond', 1), ('courtney', 1), ('laudner', 1), ('panti', 1), ('gameofkitten', 1), ('explodingkitten', 1), ('davidjordan', 1), ('stephanenni', 1), ('particular', 1), ('gargron', 1), ('freshli', 1), ('coif', 1), ('slew', 1), ('unfml', 1), ('mygc', 1), ('suspend', 1), ('randi', 1), ('irwin', 1), ('samel', 2), ('thug', 1), ('kelbi', 1), ('tomlinson', 1), ('mild', 1), ('manner', 1), ('baseman', 1), ('metropolitan', 1), ('rbi', 1), ('sfgiant', 1), ('wb', 1), ('compens', 1), ('palinfoen', 1), ('benignovito', 1), ('libertybel', 1), ('hillarymass', 1), ('stavernis', 1), ('hirochii', 1), ('vulcan', 1), ('pieceofm', 1), ('peanut', 4), ('cooki', 1), ('dough', 1), ('jasalhad', 1), ('brianboru', 1), ('jimskiv', 1), ('hijink', 1), ('martynwait', 1), ('valentin', 1), ('oompah', 1), ('vist', 1), ('georgina', 1), ('mithitenni', 1), ('crackedgem', 1), ('await', 2), ('pedal', 1), ('harrybecar', 1), ('arobotlegion', 1), ('caitsrobert', 1), ('barra', 1), ('silverman', 1), ('sarahksilverman', 1), ('soundtrack', 1), ('tracey', 1), ('ullman', 1), ('ing', 1), ('gishwh', 1), ('tampon', 1), ('mishacollin', 2), ('greatbritishbakeoff', 1), ('brit', 2), ('idaho', 1), ('idwx', 1), ('mlk', 1), ('thorium', 1), ('cufi', 1), ('jew', 1), ('omega', 1), ('religion', 1), ('rayner', 1), ('newsarama', 1), ('mrw', 1), ('ifunni', 1), ('outbid', 1), ('catlow', 1), ('swivel', 1), ('shar', 1), ('nake', 2), ('radneck', 1), ('connecto', 3), ('motorcraft', 2), ('wpt', 2), ('fem', 1), ('marek', 2), ('zar', 1), ('cring', 1), ('toss', 1), ('winnipeg', 1), ('arlington', 1), ('connorfranta', 1), ('askconnor', 1), ('dannyraynard', 1), ('aguero', 1), ('berahino', 1), ('programm', 1), ('teamatowinn', 1), ('mino', 1), ('awkward', 2), ('foxdebatequest', 1), ('sharia', 1), ('kynespeac', 1), ('livin', 1), ('zoom', 1), ('firebal', 1), ('creationmin', 1), ('rwrabbit', 1), ('gooneratheist', 1), ('atheist', 1), ('lolatjesu', 1), ('lender', 1), ('linkedin', 1), ('mercado', 1), ('harder', 1), ('gloriou', 2), ('craig', 1), ('bric', 1), ('sunray', 1), ('hairi', 1), ('spiderweb', 1), ('prosper', 1), ('notifi', 1), ('flavafraz', 1), ('whatcanthedo', 1), ('jeesss', 1), ('ether', 2), ('lag', 1), ('radychildren', 1), ('wonderousallur', 1), ('screamqueen', 1), ('katherin', 1), ('coquitlam', 1), ('akito', 1), ('frothi', 1), ('gyp', 1), ('weddinghour', 1), ('jetengin', 1), ('turbojet', 1), ('moan', 1), ('demeanor', 1), ('staid', 1), ('candylit', 1), ('sarumi', 1), ('arian', 1), ('yeat', 1), ('enterpris', 1), ('needl', 3), ('inject', 1), ('vein', 1), ('ballew', 1), ('gigawatt', 1), ('gwatt', 1), ('vinustrip', 1), ('meteoearth', 2), ('tucson', 1), ('steep', 1), ('terrain', 1), ('ksbynew', 1), ('lilitan', 1), ('hubri', 1), ('req', 1), ('rigour', 1), ('raheel', 1), ('sharif', 1), ('chitral', 1), ('laud', 1), ('fwo', 1), ('aviat', 2), ('opera', 1), ('booti', 1), ('xv', 2), ('telnet', 1), ('streamyx', 1), ('bushman', 1), ('safari', 1), ('palmer', 1), ('cecil', 1), ('neg', 3), ('atcha', 1), ('boston', 3), ('golfbal', 1), ('parkchat', 1), ('proper', 2), ('treatmen', 1), ('followm', 1), ('paulista', 1), ('eeenic', 1), ('dysfunct', 1), ('mcconnel', 1), ('judici', 1), ('apocalpyt', 1), ('shud', 1), ('oth', 2), ('contri', 1), ('stark', 2), ('lifeguard', 1), ('flunki', 1), ('grizzli', 1), ('peak', 1), ('dystopian', 2), ('gloucest', 2), ('capeann', 1), ('seagul', 2), ('triciaoneil', 1), ('triciaoneillphoto', 1), ('elimin', 1), ('homeimprov', 1), ('shestooyoung', 1), ('legionnairesdiseas', 1), ('pneumonia', 1), ('americanlegion', 1), ('convent', 1), ('delani', 1), ('dhalgren', 1), ('beastli', 1), ('down', 1), ('tremont', 1), ('hall', 2), ('appal', 1), ('businessmen', 1), ('eaten', 2), ('saveti', 1), ('virtual', 1), ('dorri', 1), ('caruana', 1), ('jhaustin', 2), ('ame', 2), ('rick', 1), ('chachi', 1), ('raheelsharif', 1), ('helm', 1), ('stormi', 1), ('antonio', 1), ('harlan', 1), ('playthursday', 1), ('everybodi', 1), ('yosemit', 1), ('sam', 1), ('drumpf', 1), ('rabbit', 1), ('stretch', 2), ('victorian', 1), ('sofa', 1), ('choppa', 1), ('recruit', 2), ('lizzi', 1), ('cstsmith', 1), ('thnk', 1), ('impair', 1), ('sandun', 1), ('gentl', 1), ('lap', 1), ('gull', 1), ('sizewel', 1), ('cardboard', 1), ('heartwarm', 1), ('element', 1), ('mirag', 1), ('whoa', 1), ('beyondthebomb', 1), ('ferrochrom', 1), ('verg', 1), ('msmigot', 1), ('convinc', 1), ('compel', 1), ('soooo', 2), ('southridgelif', 1), ('emmychappi', 1), ('clock', 1), ('wolf', 2), ('directori', 1), ('spacex', 1), ('musk', 1), ('ipod', 2), ('akxbskdn', 1), ('mk', 1), ('uud', 1), ('lk', 1), ('sanit', 1), ('taught', 1), ('piraci', 1), ('slaveri', 1), ('pure', 1), ('newyorkc', 1), ('medicin', 2), ('lennox', 1), ('drjustinmazur', 1), ('davidvitt', 1), ('repeat', 3), ('peterjuk', 2), ('systemat', 1), ('grahamwp', 1), ('rayquazaerk', 1), ('bigsim', 1), ('toxic', 2), ('tammi', 1), ('elijahmallari', 1), ('ijourn', 1), ('ohhmyjoshh', 1), ('stevenrul', 1), ('amdollela', 1), ('kulli', 1), ('aal', 1), ('length', 1), ('tasmania', 2), ('jozerphin', 1), ('everythign', 1), ('feder', 1), ('mcpherson', 1), ('jetstar', 1), ('bali', 1), ('flurri', 1), ('prioriti', 2), ('elat', 1), ('will', 1), ('watersafeti', 1), ('foto', 1), ('soar', 1), ('mcr', 1), ('snort', 1), ('flavorchargedtea', 1), ('colnharun', 1), ('arcad', 1), ('shooter', 2), ('cte', 1), ('overpr', 1), ('steam', 3), ('feelin', 1), ('command', 1), ('dye', 2), ('fouseytub', 2), ('jetixrestor', 1), ('teamo', 1), ('supremo', 1), ('pogo', 1), ('museawayf', 1), ('beenghost', 1), ('xylodemon', 1), ('insomnia', 2), ('dravet', 1), ('slingnew', 1), ('deadpool', 1), ('foxnewsvideo', 1), ('aiiamericangiri', 1), ('anhqdc', 1), ('looter', 1), ('deldryden', 1), ('twitch', 1), ('greer', 1), ('oyster', 1), ('carnegi', 1), ('freemurphi', 1), ('hitchhik', 1), ('odai', 1), ('bucharest', 1), ('romania', 1), ('empow', 1), ('milita', 1), ('frautrapani', 1), ('swiftycommissh', 1), ('taoistinsight', 1), ('immortaltech', 1), ('tht', 1), ('killin', 1), ('alabamaquak', 1), ('shakeolog', 1), ('protein', 1), ('chim', 1), ('susanj', 1), ('allinwithchri', 1), ('annmarieronan', 1), ('niamhosullivanx', 1), ('tat', 1), ('weloveyouloui', 1), ('mylittlepwni', 1), ('anathemazhiv', 1), ('tonysando', 1), ('lebanon', 1), ('sweat', 3), ('habbo', 1), ('tic', 1), ('tac', 1), ('matchwood', 1), ('overr', 1), ('mic', 3), ('rosenth', 1), ('orchardalley', 1), ('le', 1), ('repress', 1), ('abcnorio', 1), ('halifax', 3), ('shaolin', 1), ('shen', 1), ('chan', 1), ('chiang', 1), ('venom', 1), ('kung', 1), ('fu', 1), ('favori', 1), ('pharrel', 1), ('tornadogiveaway', 1), ('thebookclub', 1), ('builder', 1), ('blackmail', 1), ('ayshun', 1), ('mccauleysdesign', 1), ('abysmaljoin', 1), ('dyamiplotk', 1), ('purpos', 1), ('hermancranston', 2), ('atk', 2), ('letsfootbal', 2), ('redempt', 1), ('platt', 1), ('sandwich', 1), ('vanish', 2), ('slimebeast', 1), ('kelworldpeac', 1), ('taxston', 1), ('yoga', 1), ('conveni', 1), ('rever', 1), ('honour', 1), ('tradcatknight', 1), ('okanowa', 1), ('mainlin', 1), ('kessili', 1), ('allthekidneybeansandsorbet', 1), ('misha', 1), ('rueb', 2), ('gaabyx', 1), ('activist', 1), ('hannahkauthor', 1), ('freeamirnow', 1), ('freeallfour', 1), ('plastic', 1), ('adelaid', 1), ('pcaldicott', 1), ('newsadl', 1), ('likeavillasboa', 1), ('chandler', 1), ('stephaniemarija', 1), ('incess', 1), ('snapchatselfi', 1), ('wrongperson', 1), ('glue', 1), ('inbound', 1), ('nat', 1), ('nl', 1), ('noel', 1), ('heyitsepark', 1), ('unsign', 1), ('burger', 1), ('newscomauhq', 1), ('reebok', 1), ('fdni', 2), ('nycbuild', 1), ('windi', 2), ('shopp', 1), ('harperanetflixshow', 1), ('elxn', 1), ('stopharp', 1), ('hart', 1), ('blowin', 1), ('cu', 2), ('iartg', 1), ('rwa', 1), ('tw', 1), ('rw', 1), ('rrbc', 1), ('buffett', 1), ('sector', 1), ('manutd', 1), ('emilymcfcheslop', 1), ('pillori', 1), ('wth', 1), ('funkflex', 1), ('flex', 1), ('jakegint', 1), ('traditionalist', 1), ('grid', 1), ('grown', 2), ('seemeth', 1), ('thereof', 1), ('ib', 1), ('sauldal', 1), ('naturalexampl', 1), ('defendbutera', 1), ('robertcalifornia', 1), ('thereisonlysex', 1), ('mute', 1), ('whatsapp', 2), ('kristindavi', 1), ('longaberg', 1), ('floral', 1), ('fabric', 2), ('strap', 1), ('kiranahmedd', 1), ('takeoff', 1), ('atc', 1), ('namekian', 1), ('auntiedot', 1), ('rioslad', 1), ('wiggin', 1), ('akarb', 1), ('sl', 1), ('rsa', 1), ('bd', 1), ('topstori', 2), ('timesofindia', 1), ('starbuck', 1), ('antiochhickoryhollow', 1), ('sod', 1), ('amman', 1), ('gurion', 1), ('remembr', 1), ('mariasherwood', 1), ('johnjcampbel', 1), ('unfold', 1), ('egan', 1), ('peterhowenecn', 1), ('necn', 1), ('todayi', 1), ('scam', 1), ('sarcast', 1), ('therealrittz', 1), ('touchdown', 1), ('missjadebrown', 1), ('preseasonworkout', 1), ('landsli', 1), ('zxatheti', 1), ('badli', 1), ('niggr', 1), ('christopherszen', 1), ('hunterlov', 1), ('tblack', 1), ('taki', 1), ('scichat', 1), ('pvri', 1), ('laura', 1), ('miln', 1), ('thejonesesvoic', 1), ('liguist', 1), ('vanessa', 2), ('gentlemen', 1), ('apologis', 1), ('grudg', 1), ('unfollow', 1), ('pattyd', 1), ('gwfraze', 1), ('joshuaassaraf', 1), ('ykelquiban', 1), ('cari', 1), ('vickybrush', 1), ('topic', 1), ('calwildfir', 1), ('aftermath', 1), ('alarmingli', 1), ('sonyprousa', 1), ('lumixusa', 1), ('djiglob', 1), ('profbriancox', 1), ('becca', 1), ('caitlyn', 1), ('jocelyn', 1), ('tin', 2), ('tesco', 1), ('torrenti', 1), ('dorett', 1), ('oddbal', 1), ('buscemi', 1), ('firefightr', 1), ('fame', 1), ('workd', 1), ('diggin', 1), ('wtc', 1), ('lookg', 1), ('mariankey', 1), ('stockton', 2), ('toddstarn', 1), ('hehe', 1), ('cessna', 1), ('ocampo', 1), ('coahuila', 2), ('bst', 1), ('hanov', 1), ('karlsruh', 1), ('gotthard', 1), ('rbcinsur', 1), ('kaotix', 1), ('crave', 1), ('retain', 1), ('mug', 1), ('exquisit', 1), ('asian', 2), ('porno', 1), ('grandad', 1), ('wolv', 2), ('denali', 2), ('savedenaliwolv', 1), ('tweetstorm', 1), ('shitton', 1), ('exclus', 3), ('playthrough', 1), ('lyme', 1), ('kerrykatona', 1), ('wud', 1), ('kindli', 1), ('bak', 1), ('ogun', 1), ('smuggler', 1), ('shootout', 1), ('allegedli', 1), ('thisdayinhistori', 1), ('confeder', 1), ('martyr', 1), ('avert', 5), ('heartach', 1), ('miseri', 2), ('ctaztroph', 1), ('helmet', 1), ('silveri', 1), ('karnal', 1), ('pbcanpcx', 1), ('oi', 1), ('ironi', 2), ('calai', 1), ('aphiabeta', 1), ('amesocialact', 1), ('frat', 1), ('bioterrorismi', 1), ('tolew', 1), ('adorableapppl', 1), ('mmda', 1), ('dodg', 1), ('libbi', 1), ('ori', 2), ('gymflow', 1), ('gymtim', 1), ('assassin', 1), ('luca', 1), ('duda', 1), ('nic', 1), ('badass', 1), ('bizzlemahomi', 1), ('seclus', 1), ('complianc', 1), ('morevoic', 1), ('bobbyofhomewood', 1), ('joxroundt', 1), ('slightest', 1), ('shouout', 1), ('kasad', 1), ('lla', 1), ('she', 1), ('oneheartonemindonecss', 1), ('omfg', 3), ('didnt', 3), ('pandora', 1), ('cowork', 2), ('freesikhpoliticalprisnor', 1), ('bapusuratsingh', 1), ('latino', 2), ('grupdat', 1), ('sinkingshipindi', 1), ('scarlet', 1), ('lenor', 1), ('saison', 1), ('stonebrewingco', 1), ('greenspac', 1), ('tyleroakley', 1), ('welovela', 1), ('nhlduck', 1), ('sportsroadhous', 1), ('constel', 1), ('gaia', 1), ('iclown', 2), ('drumstep', 1), ('uchicago', 1), ('faculti', 1), ('doylech', 1), ('persecut', 1), ('macdaddi', 1), ('caption', 1), ('joshcorman', 1), ('infosec', 1), ('crazyweath', 1), ('rodarm', 1), ('dolla', 1), ('aliveaft', 1), ('ought', 1), ('cwheat', 1), ('mccainenl', 1), ('spectacular', 2), ('stonewal', 1), ('skinless', 1), ('predat', 2), ('rhett', 1), ('zachzaidman', 1), ('thescor', 1), ('wld', 1), ('boycottbear', 1), ('emaaalay', 1), ('harwich', 2), ('nother', 1), ('exum', 1), ('spider', 3), ('stolen', 2), ('guard', 3), ('albani', 2), ('fiya', 1), ('dubbo', 1), ('dailyliber', 1), ('tanehisico', 1), ('greek', 1), ('lace', 1), ('monologu', 1), ('charliz', 1), ('coulda', 1), ('galvnew', 1), ('success', 2), ('pave', 1), ('penni', 2), ('insect', 1), ('worsen', 1), ('emsn', 1), ('anarch', 1), ('teapot', 1), ('boironusa', 1), ('zeno', 1), ('glononium', 1), ('nitroglycerin', 1), ('fuddi', 1), ('authent', 2), ('sole', 1), ('vietnames', 1), ('presser', 1), ('truediagnosi', 1), ('per', 2), ('gecko', 1), ('chillin', 1), ('scottdpierc', 1), ('billharri', 1), ('harrisgl', 1), ('beezersun', 1), ('forfeit', 1), ('stockholm', 1), ('copperfield', 1), ('condens', 1), ('villa', 1), ('mcv', 1), ('pledg', 1), ('drama', 1), ('trustymclusti', 1), ('fcked', 1), ('liam', 1), ('payn', 1), ('addtexastonext', 1), ('dtour', 1), ('cartervil', 1), ('anonchimp', 1), ('sabcnewsroom', 1), ('sabotag', 1), ('andygild', 1), ('infomerci', 1), ('crept', 1), ('fp', 1), ('runjewel', 1), ('loveislov', 1), ('jenniferarri', 1), ('comeeee', 1), ('rubybot', 1), ('khq', 1), ('newberg', 2), ('jacqu', 2), ('betz', 2), ('consum', 1), ('blower', 1), ('tuffer', 1), ('bbctm', 1), ('engvau', 1), ('trynna', 1), ('tile', 1), ('zacb', 1), ('dell', 1), ('gazan', 1), ('presstv', 1), ('misdirect', 1), ('phantom', 2), ('kurokobot', 1), ('wifi', 1), ('hotspot', 1), ('stern', 1), ('fyi', 5), ('cad', 2), ('wpd', 1), ('thenissonian', 1), ('rejectdcartoon', 1), ('nissan', 1), ('purifi', 1), ('darkest', 1), ('pale', 1), ('moonlight', 1), ('pol', 1), ('josephjett', 1), ('khadidon', 1), ('soulja', 1), ('intragener', 1), ('sandra', 1), ('bland', 1), ('queenwendi', 1), ('throne', 2), ('ameenshaikh', 2), ('sanjaynirupam', 1), ('sureshprabhu', 1), ('scalpium', 1), ('maxsi', 1), ('upa', 1), ('nda', 2), ('salvat', 3), ('reconnect', 1), ('diego', 2), ('costa', 1), ('askin', 1), ('romford', 1), ('londonfir', 2), ('stevi', 1), ('daisycuttertz', 1), ('grogparti', 1), ('burk', 1), ('imam', 1), ('emt', 1), ('minimum', 1), ('wage', 1), ('hif', 1), ('silverhuski', 1), ('shtap', 1), ('ugliest', 1), ('tight', 1), ('holtz', 1), ('kemal', 1), ('atlay', 1), ('jasminehuerta', 1), ('brinco', 1), ('beacon', 1), ('territori', 1), ('girlthatsrio', 1), ('torro', 1), ('loco', 1), ('daorcey', 1), ('nsit', 1), ('graywarden', 1), ('firepow', 1), ('autom', 2), ('infecti', 2), ('ender', 1), ('mg', 1), ('pagexxi', 1), ('smallforestelf', 1), ('umm', 1), ('decreas', 2), ('princeoffenc', 1), ('frickin', 1), ('intensifi', 1), ('vai', 1), ('vir', 1), ('pra', 1), ('vibez', 2), ('listenl', 2), ('bekah', 1), ('piprhi', 1), ('chapouti', 1), ('croze', 1), ('hermitag', 1), ('violet', 1), ('yum', 1), ('wine', 1), ('bjpsamvad', 1), ('durant', 2), ('nba', 2), ('adida', 1), ('swingman', 1), ('skirt', 1), ('dave', 2), ('spec', 1), ('lore', 1), ('nottingham', 1), ('launch', 1), ('blizzhero', 1), ('westmarch', 1), ('arreat', 1), ('splatoon', 1), ('default', 1), ('splattershot', 1), ('stm', 1), ('quem', 1), ('lembra', 1), ('oneborn', 1), ('devis', 1), ('infantri', 1), ('lume', 1), ('dial', 1), ('analog', 1), ('wrist', 1), ('summon', 1), ('directli', 1), ('nout', 1), ('rubbin', 1), ('llegast', 1), ('tu', 1), ('cubstalk', 1), ('garbanzobean', 1), ('cutest', 1), ('indot', 1), ('bia', 1), ('upload', 2), ('smoochi', 1), ('awaken', 1), ('bicentenni', 1), ('darkndtat', 1), ('holm', 1), ('hsu', 1), ('hao', 1), ('mzmandilynn', 1), ('montetjwitt', 1), ('nolesfan', 1), ('nutsandboltssp', 1), ('nghlth', 1), ('hh', 1), ('xdescri', 1), ('trusti', 2), ('chojo', 1), ('pumpkin', 1), ('creation', 1), ('ai', 1), ('workforc', 1), ('inequ', 1), ('eversaf', 1), ('rush', 1), ('jumper', 1), ('disciplinari', 1), ('testicl', 1), ('billionair', 1), ('blakeschmidt', 1), ('recap', 1), ('ml', 3), ('magnitud', 1), ('sputnikint', 1), ('dent', 1), ('deduct', 1), ('wcvb', 1), ('biggangvh', 1), ('dmassa', 1), ('aphl', 1), ('lennonparham', 1), ('jessica', 1), ('stclair', 1), ('gilmoreguysshow', 1), ('podcast', 1), ('ihav', 1), ('episodesofgg', 1), ('nojok', 1), ('frp', 1), ('tuna', 1), ('kijangbank', 1), ('negara', 1), ('swayoung', 1), ('recognis', 1), ('fionagilbert', 1), ('applic', 1), ('hobbi', 1), ('ama', 1), ('buren', 1), ('jamieny', 1), ('defenc', 1), ('curs', 2), ('nazi', 2), ('treblinka', 1), ('rebel', 1), ('iwk', 1), ('solano', 1), ('skagg', 1), ('itsdani', 1), ('noooo', 1), ('dayton', 1), ('cyber', 1), ('therein', 1), ('illusoria', 1), ('icaru', 1), ('redeemeth', 1), ('servant', 1), ('dunk', 1), ('fond', 1), ('kyrikoni', 1), ('expressandstar', 1), ('veg', 1), ('boxset', 1), ('lindsay', 1), ('burok', 1), ('chpsre', 1), ('rezaphotographi', 1), ('guardrail', 1), ('masterpiec', 1), ('colombia', 1), ('beard', 3), ('mechan', 2), ('pharaoh', 1), ('absenc', 1), ('interact', 1), ('rgj', 1), ('autism', 1), ('specialne', 1), ('legna', 1), ('tnwx', 1), ('crowdtapp', 1), ('joinvroom', 1), ('elsa', 1), ('ohhhh', 1), ('tangletalk', 1), ('limeston', 1), ('ln', 1), ('yellowston', 1), ('fieldston', 1), ('practition', 1), ('healthcar', 2), ('wasilla', 1), ('ak', 2), ('microchip', 1), ('tbh', 1), ('brucewilli', 1), ('monkey', 3), ('wildhors', 2), ('mattcohen', 1), ('gamma', 1), ('januari', 1), ('tremblayeh', 1), ('sirmixalot', 1), ('nypd', 1), ('pple', 1), ('taiji', 1), ('dolphin', 1), ('worship', 1), ('superstit', 2), ('abha', 1), ('ali', 1), ('booradleyvancullen', 1), ('mikecroninwmur', 1), ('horowitz', 1), ('vaccin', 1), ('shovel', 1), ('expirehc', 1), ('papicongress', 1), ('journo', 1), ('pragnik', 1), ('ganseyman', 1), ('aelinrhe', 1), ('mascara', 1), ('smear', 1), ('hearitfrompatti', 1), ('pugwash', 1), ('lincoln', 1), ('kevinbacon', 1), ('soz', 1), ('remors', 2), ('chromsuck', 1), ('devon', 1), ('breneman', 1), ('souda', 1), ('sonia', 1), ('kneelbot', 1), ('philipduncan', 1), ('breakfaston', 1), ('philip', 1), ('bromleyth', 1), ('obispo', 1), ('proc', 1), ('changepilipina', 1), ('gemini', 1), ('harmoni', 1), ('rotari', 1), ('uvopwz', 1), ('bomairing', 1), ('elutranscend', 1), ('mandatori', 2), ('carfest', 1), ('bind', 1), ('evahanderek', 1), ('marleyknysh', 1), ('papiichampoo', 1), ('prez', 2), ('patron', 1), ('thesensualey', 1), ('apr', 1), ('boob', 1), ('iamrrsb', 1), ('skywar', 1), ('flechada', 1), ('sinistra', 1), ('kelli', 1), ('osbourn', 1), ('alipap', 1), ('keepingtheviginaclean', 1), ('galleria', 1), ('throughout', 1), ('portaloo', 1), ('sentient', 1), ('omgggg', 1), ('ish', 1), ('qualit', 1), ('kevinedwardsjr', 1), ('sweater', 2), ('fleek', 1), ('uknew', 1), ('chose', 1), ('bod', 1), ('portgassdk', 1), ('adndotcom', 1), ('envyseven', 1), ('aquariu', 1), ('queenmi', 1), ('pretens', 1), ('overtur', 1), ('songfor', 1), ('web', 1), ('homefolk', 1), ('opinion', 1), ('propos', 1), ('modern', 2), ('omw', 1), ('sioux', 1), ('siouxland', 1), ('siouxlan', 1), ('maud', 1), ('jagexsupport', 1), ('disneyirh', 1), ('eudrylantiqua', 2), ('holli', 1), ('akcsl', 1), ('ventur', 1), ('suitabl', 1), ('aleisstok', 1), ('intelligencebar', 1), ('hank', 1), ('subcontractor', 1), ('survey', 1), ('cgg', 1), ('fvck', 1), ('kurt', 1), ('explicitpretti', 1), ('offshoot', 1), ('reliefweb', 1), ('caaaaaall', 1), ('pulwama', 2), ('orcot', 1), ('orpol', 1), ('sprite', 1), ('lifestyl', 1), ('ohh', 1), ('fukurodani', 1), ('bokuto', 1), ('ppor', 1), ('gmail', 1), ('tte', 2), ('helplin', 2), ('anxiou', 2), ('ind', 1), ('dungeon', 1), ('tangl', 1), ('mumbaitim', 1), ('neglig', 1), ('hyperbol', 1), ('saintsfc', 1), ('qld', 1), ('queensland', 1), ('darkread', 1), ('smb', 1), ('relay', 1), ('credenti', 1), ('aannnnd', 1), ('foxa', 1), ('cmcsa', 1), ('sni', 1), ('amcx', 1), ('viab', 1), ('twx', 1), ('alexeivolkov', 1), ('mcfaul', 1), ('roskomnadzor', 1), ('politic', 1), ('kellkan', 1), ('narrowli', 1), ('harvest', 1), ('kodiak', 1), ('defensenew', 1), ('comu', 1), ('subsd', 1), ('immigr', 2), ('goooooooo', 1), ('shadowflam', 1), ('wraith', 1), ('iiii', 1), ('riveeeeeer', 1), ('bloomberg', 2), ('bmx', 1), ('areal', 1), ('advantag', 1), ('apropo', 1), ('mississauga', 1), ('pwhvgwax', 1), ('jwalkerlyl', 1), ('nickcannon', 2), ('realmandyrain', 2), ('itunesmus', 2), ('blowmandyup', 2), ('swb', 1), ('prolli', 1), ('procedur', 1), ('influenti', 1), ('liberti', 1), ('nativehuman', 1), ('myreligion', 1), ('stl', 1), ('ace', 1), ('speedtech', 1), ('amber', 1), ('sword', 1), ('greyjoy', 1), ('kany', 1), ('evac', 1), ('spokan', 1), ('juliechen', 1), ('lobo', 1), ('paranoico', 1), ('zodiac', 1), ('trey', 1), ('dupre', 1), ('sparkz', 1), ('beatz', 1), ('chuck', 1), ('malabamiandson', 1), ('wsjthinktank', 1), ('colleenmnelson', 1), ('raidersreport', 1), ('galaxi', 1), ('dickhead', 1), ('wpri', 2), ('rhode', 1), ('sophist', 1), ('zrnf', 1), ('thatpersianguy', 1), ('youngsaf', 1), ('harden', 1), ('flop', 1), ('ident', 1), ('notori', 1), ('laboratori', 1), ('dealer', 1), ('peta', 1), ('legisl', 1), ('butterlondon', 1), ('crayon', 1), ('bblogger', 1), ('biller', 1), ('tanstaafl', 1), ('impli', 1), ('causat', 1), ('quak', 2), ('ndtv', 1), ('missambear', 1), ('scourgu', 1), ('hideou', 1), ('uglypeopl', 1), ('isnt', 1), ('ianokavo', 1), ('afterward', 1), ('savour', 1), ('prolong', 1), ('sigu', 1), ('tact', 1), ('ableg', 1), ('cdnpoli', 1), ('sarahmcp', 1), ('justjon', 1), ('gail', 1), ('russel', 1), ('dalroy', 1), ('khalidkkazi', 1), ('leejasp', 1), ('interestrateris', 1), ('boyd', 1), ('detroitnew', 1), ('jasmin', 1), ('ge', 1), ('yeda', 1), ('yakub', 1), ('theeconomist', 1), ('portrait', 1), ('yuan', 1), ('smarttek', 1), ('mper', 1), ('starb', 1), ('billneelynbc', 1), ('superpow', 1), ('buchana', 1), ('squabbl', 1), ('lili', 1), ('xo', 1), ('cowgirl', 1), ('humboldt', 1), ('cti', 1), ('lassic', 1), ('wut', 1), ('ditch', 1), ('hungrier', 1), ('kinggerudo', 1), ('moblin', 1), ('az', 1), ('tantonationalforest', 1), ('rollingston', 1), ('dancer', 1), ('caribbean', 1), ('margarita', 1), ('engl', 1), ('henri', 2), ('holt', 1), ('byr', 1), ('sidelinesavag', 1), ('acd', 1), ('banthebomb', 1), ('eulog', 1), ('torment', 1), ('matia', 1), ('superman', 1), ('slowpok', 1), ('poc', 1), ('vike', 1), ('infact', 1), ('zimmer', 1), ('furtrix', 1), ('cougar', 1), ('mufc', 2), ('newsdc', 1), ('gmtti', 1), ('offramp', 1), ('pxnatosil', 1), ('renunciedilma', 1), ('noahshack', 1), ('explicitli', 1), ('legio', 2), ('muhamadjab', 1), ('mixxtail', 1), ('watermelon', 1), ('loko', 1), ('brittsand', 1), ('stationcdrkelli', 1), ('sy', 1), ('clergyforc', 1), ('grossli', 1), ('disfigur', 1), ('fkhanag', 1), ('shad', 1), ('forsyth', 1), ('nomissski', 1), ('faint', 1), ('lu', 1), ('richardson', 1), ('robertoneil', 1), ('hardli', 2), ('implor', 1), ('motorist', 1), ('legionna', 1), ('phdsquar', 1), ('epl', 1), ('appleofficl', 1), ('migrat', 1), ('iphoto', 1), ('hrsto', 1), ('foothil', 1), ('strict', 2), ('liabil', 2), ('thailand', 1), ('hassanrouhani', 1), ('doom', 1), ('kallemattson', 1), ('deniseromano', 1), ('pardon', 1), ('mindless', 1), ('annajhm', 1), ('jcomans', 1), ('staub', 1), ('rslm', 1), ('blanktgt', 1), ('fartanxieti', 1), ('whose', 1), ('drako', 1), ('zarharzar', 1), ('anywher', 1), ('ana', 1), ('holist', 1), ('dispensari', 1), ('smartnew', 1), ('muttatek', 1), ('kwwwkwwwk', 1), ('jiahahahha', 1), ('yeyeulala', 1), ('charlieputh', 1), ('temecafreeman', 1), ('panik', 1), ('kelbytomlinson', 1), ('kasiakosek', 1), ('gpm', 2), ('bullsey', 2), ('warp', 1), ('attila', 1), ('suresh', 1), ('harda', 1), ('regr', 1), ('buyout', 1), ('worldpay', 1), ('ipo', 1), ('genuin', 2), ('ipad', 1), ('jp', 2), ('classycolkett', 1), ('thorgan', 1), ('gladbach', 1), ('lifelong', 1), ('establish', 1), ('donzilla', 1), ('trinna', 1), ('gargoyl', 1), ('hoof', 1), ('kg', 1), ('vaal', 1), ('lmaov', 1), ('babalmao', 1), ('nyozi', 1), ('kwaaaaa', 1), ('flamethrow', 1), ('thebriankraus', 1), ('metaphor', 1), ('piperwearsthep', 1), ('charm', 1), ('crptotech', 1), ('bitco', 1), ('blockchain', 1), ('emile', 1), ('hua', 1), ('hairdryer', 1), ('leonardvil', 1), ('sami', 1), ('muscl', 2), ('sprain', 1), ('szuter', 1), ('requa', 1), ('mumbl', 1), ('cackl', 1), ('comma', 1), ('ezralev', 1), ('vice', 2), ('safyuan', 1), ('citat', 1), ('posses', 1), ('decrimin', 1), ('substanc', 1), ('sj', 1), ('gist', 1), ('farm', 3), ('streetjamzdotnet', 1), ('demco', 1), ('hitch', 1), ('ultra', 1), ('swami', 1), ('agnivesh', 1), ('jusreign', 1), ('blubber', 1), ('hlportal', 1), ('indiepopmom', 1), ('ng', 1), ('bait', 2), ('camper', 1), ('foxsportscom', 1), ('eau', 1), ('clair', 1), ('sentenc', 1), ('chippewa', 1), ('noahcrothman', 1), ('minutia', 1), ('champagn', 1), ('idm', 1), ('gotham', 1), ('punjab', 2), ('wcw', 1), ('catsandsyrup', 1), ('harbhajan', 1), ('singh', 1), ('stuartbroad', 1), ('yuvi', 1), ('ajabrown', 1), ('hector', 1), ('bellerin', 1), ('etoff', 1), ('charmeus', 1), ('clothesless', 1), ('precisionist', 1), ('vestment', 1), ('psfda', 1), ('johndcgow', 1), ('atlarnxx', 1), ('skarletan', 1), ('anthxvi', 1), ('ronwyden', 1), ('lyndon', 1), ('parksboardfact', 1), ('zippolin', 1), ('moveit', 1), ('mav', 1), ('paraguay', 1), ('startid', 1), ('hotter', 1), ('soultech', 1), ('hyider', 1), ('robbiewilliam', 1), ('asswip', 1), ('heyimbeeyt', 1), ('mystic', 1), ('hilversum', 1), ('foo', 1), ('skateboard', 1), ('mortifi', 1), ('dilawri', 1), ('nicolekidman', 1), ('oprah', 1), ('grub', 1), ('kike', 1), ('cluei', 1), ('telekinesi', 1), ('vzwsupport', 1), ('warriorcord', 1), ('paracord', 1), ('mil', 1), ('implicit', 1), ('lethbridg', 1), ('mdt', 1), ('vassalboro', 1), ('gazebo', 1), ('petel', 1), ('mcguir', 1), ('doofu', 1), ('jokin', 1), ('auz', 1), ('cst', 1), ('radioriffrock', 1), ('hump', 1), ('albeit', 1), ('unsuccess', 1), ('mackinnon', 1), ('mullah', 2), ('onlinemh', 1), ('onlinea', 1), ('twit', 1), ('asphalt', 1), ('jul', 1), ('johnsontionn', 1), ('tailor', 1), ('kay', 1), ('prysmian', 1), ('maratha', 1), ('scorch', 1), ('bengali', 1), ('satisfi', 1), ('okgabbi', 1), ('carpool', 1), ('gari', 1), ('busey', 1), ('dixi', 1), ('fiddl', 1), ('sequenc', 1), ('reagan', 2), ('arrang', 1), ('guatemalan', 1), ('ctd', 2), ('vital', 1), ('orangi', 1), ('sindh', 1), ('breeder', 1), ('bred', 1), ('dragonval', 1), ('baffl', 1), ('abran', 1), ('caballero', 1), ('brighton', 2), ('landown', 1), ('rockbottomradfm', 1), ('scroll', 1), ('exact', 1), ('victoriagittin', 1), ('cle', 1), ('cuyahoga', 1), ('sholt', 1), ('mtgrotto', 1), ('eco', 1), ('carlsbadbugkil', 1), ('wealthi', 2), ('writebothfist', 1), ('mdash', 1), ('bronvil', 1), ('reviv', 1), ('cbccalgari', 1), ('underpass', 1), ('chrisroth', 1), ('chaselabsport', 1), ('sow', 1), ('fiction', 1), ('actavi', 1), ('tomislav', 1), ('salopek', 1), ('kainyusanagi', 1), ('grummz', 1), ('pixelcanuck', 1), ('raynor', 2), ('bald', 1), ('emo', 1), ('aiginsur', 1), ('divestitur', 1), ('anytim', 1), ('nathanfillion', 1), ('rightli', 1), ('despic', 1), ('ocalan', 1), ('marxism', 1), ('brokenscnec', 1), ('kamayani', 1), ('janata', 1), ('gratia', 1), ('midfield', 1), ('soner', 1), ('sonison', 1), ('cultsierr', 1), ('secondhand', 1), ('legitim', 1), ('heidia', 1), ('goodluck', 1), ('pb', 2), ('extent', 1), ('privileg', 1), ('unfair', 1), ('mapleridg', 1), ('loughe', 1), ('dewdney', 1), ('eto', 1), ('edison', 1), ('lightbulb', 1), ('wank', 1), ('groceri', 1), ('ach', 1), ('monwabisi', 1), ('hlongwan', 1), ('ryt', 1), ('ashestoash', 1), ('massgrav', 1), ('stormbeard', 1), ('juda', 1), ('astonish', 1), ('kaylak', 1), ('merycormi', 1), ('cosima', 1), ('shay', 1), ('cdcwhistleblow', 1), ('blah', 3), ('dump', 1), ('columbia', 1), ('saddl', 1), ('brass', 1), ('tawfmcaw', 1), ('undergroundbestsel', 1), ('reddakushgodd', 1), ('smfh', 1), ('battleroyalemod', 1), ('teleport', 1), ('somewher', 1), ('burundi', 1), ('allianc', 1), ('assad', 1), ('catwoman', 1), ('crazier', 1), ('sureshpprabhu', 1), ('lakh', 1), ('nffc', 1), ('wesley', 1), ('verhoek', 1), ('tpanic', 1), ('bulak', 1), ('jaclynsonn', 1), ('oliviaann', 1), ('dangdaddi', 1), ('smirk', 1), ('remorseless', 1), ('boast', 1), ('archetyp', 1), ('fpoj', 1), ('literarycak', 1), ('reriellechan', 1), ('lich', 1), ('saltriverwildhors', 1), ('jackass', 1), ('stuffin', 1), ('hav', 1), ('sht', 1), ('losangel', 1), ('circular', 1), ('pharma', 1), ('myvintagesoul', 1), ('manserv', 1), ('pamper', 1), ('revers', 1), ('durrellb', 1), ('deadlydemi', 1), ('barrier', 1), ('olympia', 1), ('joshacagan', 1), ('stack', 1), ('sosfamupdat', 1), ('tonymcguin', 1), ('creamfield', 1), ('mainstag', 1), ('ocd', 1), ('redeem', 1), ('romanticsuspens', 1), ('nar', 1), ('phuket', 1), ('whimsi', 1), ('lzk', 1), ('lomasvisto', 1), ('devour', 1), ('intersectio', 1), ('cadenadeseguidor', 1), ('ciaramckendri', 1), ('doco', 1), ('setanta', 1), ('freeview', 1), ('gape', 1), ('alisonannyoung', 1), ('minsuwoong', 1), ('receipt', 1), ('kiev', 2), ('guidofawk', 1), ('mediaguido', 1), ('songhey', 1), ('skyrim', 1), ('unrealtouch', 1), ('humanityi', 1), ('nuclearweapon', 1), ('stepkan', 1), ('ninja', 1), ('commenc', 2), ('teenag', 2), ('vald', 1), ('forgiv', 1), ('testi', 1), ('insight', 1), ('whitehous', 1), ('es', 2), ('wise', 1), ('indoor', 1), ('arfur', 1), ('georgecol', 1), ('baaaack', 1), ('petersen', 1), ('bowhunt', 1), ('lattic', 1), ('stud', 1), ('lawx', 1), ('ghetto', 1), ('reunit', 1), ('schoolboy', 1), ('highli', 1), ('mash', 1), ('micallef', 1), ('yanke', 2), ('troubleonmymind', 1), ('macia', 2), ('testifi', 1), ('eastwood', 1), ('knobhead', 1), ('janenelson', 1), ('stephenscifi', 1), ('adapt', 1), ('sciencefict', 1), ('arovolturi', 1), ('alexalltimelow', 1), ('cuti', 1), ('wfaaweath', 1), ('frisco', 1), ('okla', 1), ('jamaicaplain', 1), ('teamsurvivor', 1), ('zombiefunrun', 1), ('partial', 1), ('bask', 1), ('warmth', 1), ('bliss', 1), ('chibi', 1), ('necro', 1), ('pixeljanosz', 1), ('angelheartnight', 1), ('murlo', 1), ('android', 1), ('tribez', 1), ('androidgam', 1), ('gameinsight', 1), ('disown', 2), ('kasab', 1), ('acousticmaloley', 1), ('akilah', 1), ('imperi', 1), ('militar', 1), ('imposit', 1), ('subcommitte', 1), ('oversight', 1), ('htt', 1), ('char', 1), ('kirkmin', 1), ('barthubbuch', 1), ('weei', 1), ('hater', 1), ('sethalphaeu', 1), ('paramor', 1), ('muse', 1), ('goulburn', 2), ('bilsen', 1), ('isil', 1), ('amtalia', 1), ('sgc', 1), ('opportun', 1), ('uphil', 1), ('fremont', 1), ('bluehand', 1), ('oven', 1), ('hellotybeeren', 1), ('breach', 1), ('novic', 1), ('renison', 2), ('tem', 1), ('coreyash', 1), ('nbcpolit', 1), ('barrack', 1), ('bv', 1), ('publish', 1), ('blogger', 1), ('ineedexposur', 1), ('exot', 1), ('understood', 1), ('nne', 1), ('alexjacobsonpf', 1), ('andr', 1), ('gore', 1), ('spilt', 1), ('mayonnais', 1), ('henshaw', 1), ('cspan', 1), ('maker', 1), ('josebasedgod', 1), ('realm', 1), ('trillac', 1), ('dren', 1), ('pasti', 1), ('ckosova', 1), ('pusssssssssi', 1), ('shoook', 1), ('dinosaurdracula', 1), ('outfit', 1), ('soil', 1), ('entershikari', 1), ('foodborn', 1), ('frackfreelanc', 1), ('deccgovuk', 1), ('frackfre', 1), ('tarleton', 1), ('dawson', 1), ('maaaaan', 1), ('enew', 1), ('eonlinechat', 1), ('photogen', 1), ('gosh', 1), ('everydaynaija', 1), ('tianta', 1), ('trad', 1), ('masochisticmag', 1), ('grandmoth', 1), ('dull', 1), ('monoton', 1), ('baskgod', 1), ('pelosi', 1), ('yumiko', 1), ('woah', 1), ('lenkaiswaifu', 1), ('redcoatjackpot', 1), ('hopeinchrist', 1), ('lifelettercaf', 1), ('homasttopa', 1), ('nowwwwww', 1), ('gassymexican', 1), ('glitch', 1), ('calfreedommom', 1), ('steph', 1), ('contributor', 1), ('wsvr', 1), ('hull', 1), ('runabout', 1), ('damp', 1), ('qnh', 1), ('lolo', 1), ('buc', 1), ('euroquak', 1), ('appreciativeinquiri', 1), ('iso', 1), ('psp', 1), ('freegeezi', 1), ('booktubeathon', 1), ('thetshirtkid', 1), ('florid', 1), ('bailout', 1), ('etp', 1), ('bengal', 1), ('mamata', 1), ('banerje', 1), ('dvc', 1), ('gestur', 1), ('guam', 1), ('molav', 1), ('retiredfilth', 1), ('unreal', 1), ('pastor', 1), ('rover', 2), ('heheh', 1), ('alphen', 1), ('aan', 1), ('den', 1), ('rijn', 1), ('complain', 1), ('emblem', 1), ('gigant', 1), ('cascad', 1), ('childress', 1), ('patrol', 1), ('sila', 1), ('slice', 1), ('headlinelik', 1), ('chop', 1), ('cabbag', 1), ('gh', 1), ('appercept', 1), ('bridgework', 1), ('xxhjesc', 1), ('bel', 1), ('jimmozel', 1), ('puck', 1), ('mulberri', 1), ('antoni', 1), ('awadgolf', 1), ('capitalist', 1), ('pittsburgh', 1), ('barcouski', 1), ('daborsch', 1), ('lure', 1), ('fanbas', 1), ('hardcor', 1), ('jasonpop', 1), ('johnfugelsang', 1), ('blackpool', 1), ('kow', 1), ('beclearoncanc', 1), ('internetradio', 1), ('collegeradi', 1), ('kasabw', 1), ('biryani', 1), ('amen', 1), ('tripoli', 1), ('goofbal', 1), ('pd', 1), ('gravitychat', 1), ('blevin', 1), ('captor', 1), ('reclus', 1), ('womem', 1), ('mommyisbomb', 1), ('paddytomlinson', 1), ('forrestmankin', 1), ('malistkiss', 1), ('righteou', 1), ('shia', 1), ('ideal', 1), ('rong', 1), ('sask', 1), ('outright', 1), ('lavapixcom', 1), ('memor', 1), ('ronald', 1), ('romp', 1), ('lisowski', 1), ('whitewash', 1), ('qual', 1), ('snooker', 1), ('swollen', 1), ('auburn', 1), ('lizbon', 1), ('kidicalmassdc', 1), ('breakdown', 1), ('playingnow', 1), ('bloodbound', 1), ('relaxinpr', 1), ('miprv', 1), ('sapphirescallop', 1), ('oppa', 1), ('haaaaaa', 1), ('kakajambori', 1), ('yor', 1), ('sweetiebirk', 1), ('mirrorladi', 1), ('slatukip', 1), ('asid', 1), ('hm', 1), ('ebolatrend', 1), ('dm', 1), ('kaiseiw', 1), ('oomf', 1), ('anellatulip', 1), ('taint', 1), ('christycroley', 1), ('vela', 1), ('theblackshag', 1), ('dannyoneil', 1), ('noxiou', 1), ('pyrbliss', 1), ('roblox', 1), ('motion', 1), ('pir', 1), ('auc', 1), ('lalaloopsi', 1), ('doll', 1), ('sunburst', 1), ('seashor', 1), ('spice', 1), ('brbr', 1), ('fousey', 1), ('cyhi', 1), ('kessler', 1), ('exponenti', 1), ('prolifer', 1), ('gravitymovi', 1), ('misl', 1), ('missionhil', 1), ('cbsbigbroth', 1), ('ouch', 1), ('clelli', 1), ('bcpoli', 1), ('canpoli', 1), ('vanpoli', 1), ('homeworldgym', 1), ('thisisperidot', 1), ('jose', 1), ('woken', 1), ('yahoonew', 1), ('revis', 1), ('scenario', 1), ('veldfest', 1), ('marley', 1), ('brinx', 1), ('stripteas', 1), ('proport', 1), ('doningtondash', 1), ('donington', 1), ('annonym', 1)])\n"
          ],
          "name": "stdout"
        }
      ]
    },
    {
      "cell_type": "markdown",
      "metadata": {
        "id": "aorvPYJ7iujy"
      },
      "source": [
        "### **Word Embeddings-Glove Embedding Matrix**"
      ]
    },
    {
      "cell_type": "markdown",
      "metadata": {
        "id": "tK4m8giUjIC2"
      },
      "source": [
        "###For the getting Glove Embedding matrix, I'm going to use GloVe’s 50d word vector pre-trained on 2 billion tweets. The GLoVe link: https://nlp.stanford.edu/projects/glove/"
      ]
    },
    {
      "cell_type": "code",
      "metadata": {
        "colab": {
          "base_uri": "https://localhost:8080/"
        },
        "id": "GXfnev5X6G3e",
        "outputId": "9e3ff6f1-9584-429b-e5f7-e6ed8bc864d3"
      },
      "source": [
        "from google.colab import drive\n",
        "drive.mount('/content/drive/')"
      ],
      "execution_count": 33,
      "outputs": [
        {
          "output_type": "stream",
          "text": [
            "Drive already mounted at /content/drive/; to attempt to forcibly remount, call drive.mount(\"/content/drive/\", force_remount=True).\n"
          ],
          "name": "stdout"
        }
      ]
    },
    {
      "cell_type": "code",
      "metadata": {
        "id": "4Octjn7m3kY3"
      },
      "source": [
        "embeddings_index = {}\n",
        "GLOVE_EMB='/content/drive/MyDrive/Google_colab_project/glove.twitter.27B.50d.txt'\n",
        "f = open(GLOVE_EMB)\n",
        "for line in f:\n",
        "  \n",
        "  values = line.split()\n",
        "  word = value = values[0]\n",
        "  coefs = np.asarray(values[1:], dtype='float32')\n",
        "  embeddings_index[word] = coefs\n",
        "f.close()"
      ],
      "execution_count": 34,
      "outputs": []
    },
    {
      "cell_type": "code",
      "metadata": {
        "colab": {
          "base_uri": "https://localhost:8080/"
        },
        "id": "8ytvd9-x4n-0",
        "outputId": "56c1fe5d-054b-4874-c204-2bdd35d949b1"
      },
      "source": [
        "print('Found %s word vectors.' %len(embeddings_index))"
      ],
      "execution_count": 35,
      "outputs": [
        {
          "output_type": "stream",
          "text": [
            "Found 1193514 word vectors.\n"
          ],
          "name": "stdout"
        }
      ]
    },
    {
      "cell_type": "markdown",
      "metadata": {
        "id": "Lw4ssx9975Aj"
      },
      "source": [
        "### Create a weight matrix\n",
        "\n"
      ]
    },
    {
      "cell_type": "code",
      "metadata": {
        "id": "tI85wyodi3Zu"
      },
      "source": [
        "\n",
        "max_words = len(word_index) + 1\n",
        "embedding_dims = 100\n",
        "\n",
        "embedding_matrix = np.zeros((max_words, embedding_dims))\n",
        "for word, i in word_index.items():\n",
        "\n",
        "  if i > max_words:\n",
        "    continue   \n",
        "    emb_vec = embedding_dict.get(word)    \n",
        "    if emb_vec is not None:\n",
        "      embedding_matrix[i] = emb_vec   "
      ],
      "execution_count": 36,
      "outputs": []
    },
    {
      "cell_type": "code",
      "metadata": {
        "id": "WPf6SnHKKX1c",
        "colab": {
          "base_uri": "https://localhost:8080/"
        },
        "outputId": "a177f9a4-a6a7-41bd-82e1-a9103d1eb78c"
      },
      "source": [
        " word_index"
      ],
      "execution_count": 37,
      "outputs": [
        {
          "output_type": "execute_result",
          "data": {
            "text/plain": [
              "{'like': 1,\n",
              " 'fire': 2,\n",
              " 'amp': 3,\n",
              " 'get': 4,\n",
              " 'bomb': 5,\n",
              " 'new': 6,\n",
              " 'via': 7,\n",
              " 'news': 8,\n",
              " 'one': 9,\n",
              " 'go': 10,\n",
              " 'peopl': 11,\n",
              " 'year': 12,\n",
              " 'kill': 13,\n",
              " 'time': 14,\n",
              " 'flood': 15,\n",
              " 'disast': 16,\n",
              " 'burn': 17,\n",
              " 'day': 18,\n",
              " 'video': 19,\n",
              " 'attack': 20,\n",
              " 'crash': 21,\n",
              " 'bodi': 22,\n",
              " 'love': 23,\n",
              " 'emerg': 24,\n",
              " 'build': 25,\n",
              " 'polic': 26,\n",
              " 'look': 27,\n",
              " 'still': 28,\n",
              " 'home': 29,\n",
              " 'fatal': 30,\n",
              " 'say': 31,\n",
              " 'evacu': 32,\n",
              " 'storm': 33,\n",
              " 'us': 34,\n",
              " 'u': 35,\n",
              " 'famili': 36,\n",
              " 'come': 37,\n",
              " 'know': 38,\n",
              " 'want': 39,\n",
              " 'world': 40,\n",
              " 'make': 41,\n",
              " 'train': 42,\n",
              " 'see': 43,\n",
              " 'suicid': 44,\n",
              " 'watch': 45,\n",
              " 'back': 46,\n",
              " 'california': 47,\n",
              " 'would': 48,\n",
              " 'man': 49,\n",
              " 'bag': 50,\n",
              " 'scream': 51,\n",
              " 'death': 52,\n",
              " 'rt': 53,\n",
              " 'collaps': 54,\n",
              " 'live': 55,\n",
              " 'first': 56,\n",
              " 'car': 57,\n",
              " 'take': 58,\n",
              " 'pm': 59,\n",
              " 'wreck': 60,\n",
              " 'war': 61,\n",
              " 'derail': 62,\n",
              " 'dead': 63,\n",
              " 'today': 64,\n",
              " 'accid': 65,\n",
              " 'think': 66,\n",
              " 'caus': 67,\n",
              " 'two': 68,\n",
              " 'got': 69,\n",
              " 'nuclear': 70,\n",
              " 'hiroshima': 71,\n",
              " 'work': 72,\n",
              " 'let': 73,\n",
              " 'plan': 74,\n",
              " 'good': 75,\n",
              " 'old': 76,\n",
              " 'hijack': 77,\n",
              " 'w': 78,\n",
              " 'drown': 79,\n",
              " 'need': 80,\n",
              " 'destroy': 81,\n",
              " 'youtub': 82,\n",
              " 'deton': 83,\n",
              " 'obliter': 84,\n",
              " 'fuck': 85,\n",
              " 'surviv': 86,\n",
              " 'help': 87,\n",
              " 'weapon': 88,\n",
              " 'feel': 89,\n",
              " 'gt': 90,\n",
              " 'injuri': 91,\n",
              " 'fear': 92,\n",
              " 'even': 93,\n",
              " 'way': 94,\n",
              " 'mani': 95,\n",
              " 'life': 96,\n",
              " 'wildfir': 97,\n",
              " 'murder': 98,\n",
              " 'rescu': 99,\n",
              " 'full': 100,\n",
              " 'die': 101,\n",
              " 'wound': 102,\n",
              " 'hazard': 103,\n",
              " 'last': 104,\n",
              " 'devast': 105,\n",
              " 'could': 106,\n",
              " 'report': 107,\n",
              " 'quarantin': 108,\n",
              " 'crush': 109,\n",
              " 'may': 110,\n",
              " 'armi': 111,\n",
              " 'wave': 112,\n",
              " 'best': 113,\n",
              " 'call': 114,\n",
              " 'use': 115,\n",
              " 'servic': 116,\n",
              " 'fall': 117,\n",
              " 'catastroph': 118,\n",
              " 'riot': 119,\n",
              " 'right': 120,\n",
              " 'run': 121,\n",
              " 'thank': 122,\n",
              " 'hostag': 123,\n",
              " 'collid': 124,\n",
              " 'explod': 125,\n",
              " 'pleas': 126,\n",
              " 'black': 127,\n",
              " 'damag': 128,\n",
              " 'anoth': 129,\n",
              " 'read': 130,\n",
              " 'mass': 131,\n",
              " 'mh': 132,\n",
              " 'citi': 133,\n",
              " 'hot': 134,\n",
              " 'save': 135,\n",
              " 'school': 136,\n",
              " 'warn': 137,\n",
              " 'thing': 138,\n",
              " 'reddit': 139,\n",
              " 'lol': 140,\n",
              " 'hous': 141,\n",
              " 'water': 142,\n",
              " 'state': 143,\n",
              " 'casualti': 144,\n",
              " 'never': 145,\n",
              " 'tri': 146,\n",
              " 'realli': 147,\n",
              " 'obama': 148,\n",
              " 'god': 149,\n",
              " 'stop': 150,\n",
              " 'cross': 151,\n",
              " 'photo': 152,\n",
              " 'set': 153,\n",
              " 'northern': 154,\n",
              " 'miss': 155,\n",
              " 'rain': 156,\n",
              " 'legionnair': 157,\n",
              " 'much': 158,\n",
              " 'latest': 159,\n",
              " 'electrocut': 160,\n",
              " 'play': 161,\n",
              " 'great': 162,\n",
              " 'hope': 163,\n",
              " 'everi': 164,\n",
              " 'atom': 165,\n",
              " 'issu': 166,\n",
              " 'siren': 167,\n",
              " 'hit': 168,\n",
              " 'typhoon': 169,\n",
              " 'forest': 170,\n",
              " 'desol': 171,\n",
              " 'bomber': 172,\n",
              " 'break': 173,\n",
              " 'investig': 174,\n",
              " 'injur': 175,\n",
              " 'delug': 176,\n",
              " 'confirm': 177,\n",
              " 'updat': 178,\n",
              " 'earthquak': 179,\n",
              " 'chang': 180,\n",
              " 'content': 181,\n",
              " 'follow': 182,\n",
              " 'game': 183,\n",
              " 'girl': 184,\n",
              " 'boy': 185,\n",
              " 'releas': 186,\n",
              " 'im': 187,\n",
              " 'charg': 188,\n",
              " 'show': 189,\n",
              " 'end': 190,\n",
              " 'happen': 191,\n",
              " 'flame': 192,\n",
              " 'near': 193,\n",
              " 'shit': 194,\n",
              " 'found': 195,\n",
              " 'natur': 196,\n",
              " 'bioterror': 197,\n",
              " 'women': 198,\n",
              " 'offici': 199,\n",
              " 'terror': 200,\n",
              " 'thunderstorm': 201,\n",
              " 'sinc': 202,\n",
              " 'said': 203,\n",
              " 'demolish': 204,\n",
              " 'night': 205,\n",
              " 'everyon': 206,\n",
              " 'blaze': 207,\n",
              " 'start': 208,\n",
              " 'sign': 209,\n",
              " 'pick': 210,\n",
              " 'truck': 211,\n",
              " 'annihil': 212,\n",
              " 'wind': 213,\n",
              " 'japan': 214,\n",
              " 'offic': 215,\n",
              " 'respond': 216,\n",
              " 'land': 217,\n",
              " 'suspect': 218,\n",
              " 'movi': 219,\n",
              " 'ass': 220,\n",
              " 'x': 221,\n",
              " 'top': 222,\n",
              " 'without': 223,\n",
              " 'explos': 224,\n",
              " 'ever': 225,\n",
              " 'fan': 226,\n",
              " 'head': 227,\n",
              " 'malaysia': 228,\n",
              " 'keep': 229,\n",
              " 'th': 230,\n",
              " 'terrorist': 231,\n",
              " 'week': 232,\n",
              " 'alway': 233,\n",
              " 'high': 234,\n",
              " 'face': 235,\n",
              " 'weather': 236,\n",
              " 'sever': 237,\n",
              " 'check': 238,\n",
              " 'move': 239,\n",
              " 'area': 240,\n",
              " 'debri': 241,\n",
              " 'structur': 242,\n",
              " 'heat': 243,\n",
              " 'road': 244,\n",
              " 'danger': 245,\n",
              " 'well': 246,\n",
              " 'smoke': 247,\n",
              " 'next': 248,\n",
              " 'st': 249,\n",
              " 'oil': 250,\n",
              " 'militari': 251,\n",
              " 'declar': 252,\n",
              " 'b': 253,\n",
              " 'stori': 254,\n",
              " 'trap': 255,\n",
              " 'thunder': 256,\n",
              " 'p': 257,\n",
              " 'sound': 258,\n",
              " 'lightn': 259,\n",
              " 'blood': 260,\n",
              " 'made': 261,\n",
              " 'inund': 262,\n",
              " 'r': 263,\n",
              " 'free': 264,\n",
              " 'market': 265,\n",
              " 'post': 266,\n",
              " 'minut': 267,\n",
              " 'collis': 268,\n",
              " 'hour': 269,\n",
              " 'china': 270,\n",
              " 'outbreak': 271,\n",
              " 'food': 272,\n",
              " 'littl': 273,\n",
              " 'heart': 274,\n",
              " 'air': 275,\n",
              " 'red': 276,\n",
              " 'dust': 277,\n",
              " 'guy': 278,\n",
              " 'light': 279,\n",
              " 'long': 280,\n",
              " 'migrant': 281,\n",
              " 'nation': 282,\n",
              " 'wild': 283,\n",
              " 'panic': 284,\n",
              " 'saudi': 285,\n",
              " 'hurrican': 286,\n",
              " 'yr': 287,\n",
              " 'summer': 288,\n",
              " 'destruct': 289,\n",
              " 'sink': 290,\n",
              " 'c': 291,\n",
              " 'drive': 292,\n",
              " 'care': 293,\n",
              " 'put': 294,\n",
              " 'islam': 295,\n",
              " 'armageddon': 296,\n",
              " 'n': 297,\n",
              " 'order': 298,\n",
              " 'bad': 299,\n",
              " 'gonna': 300,\n",
              " 'loud': 301,\n",
              " 'windstorm': 302,\n",
              " 'big': 303,\n",
              " 'lot': 304,\n",
              " 'person': 305,\n",
              " 'bu': 306,\n",
              " 'bloodi': 307,\n",
              " 'close': 308,\n",
              " 'around': 309,\n",
              " 'hail': 310,\n",
              " 'cliff': 311,\n",
              " 'affect': 312,\n",
              " 'zone': 313,\n",
              " 'effect': 314,\n",
              " 'battl': 315,\n",
              " 'kid': 316,\n",
              " 'bridg': 317,\n",
              " 'open': 318,\n",
              " 'island': 319,\n",
              " 'tonight': 320,\n",
              " 'failur': 321,\n",
              " 'apocalyps': 322,\n",
              " 'leav': 323,\n",
              " 'whole': 324,\n",
              " 'raze': 325,\n",
              " 'ok': 326,\n",
              " 'someon': 327,\n",
              " 'busi': 328,\n",
              " 'august': 329,\n",
              " 'spill': 330,\n",
              " 'wreckag': 331,\n",
              " 'counti': 332,\n",
              " 'ambul': 333,\n",
              " 'shot': 334,\n",
              " 'real': 335,\n",
              " 'pic': 336,\n",
              " 'send': 337,\n",
              " 'wait': 338,\n",
              " 'iran': 339,\n",
              " 'part': 340,\n",
              " 'sandstorm': 341,\n",
              " 'harm': 342,\n",
              " 'fight': 343,\n",
              " 'sunk': 344,\n",
              " 'airplan': 345,\n",
              " 'govern': 346,\n",
              " 'eye': 347,\n",
              " 'rememb': 348,\n",
              " 'away': 349,\n",
              " 'turn': 350,\n",
              " 'tornado': 351,\n",
              " 'friend': 352,\n",
              " 'survivor': 353,\n",
              " 'chemic': 354,\n",
              " 'twister': 355,\n",
              " 'drought': 356,\n",
              " 'stock': 357,\n",
              " 'left': 358,\n",
              " 'power': 359,\n",
              " 'sinkhol': 360,\n",
              " 'also': 361,\n",
              " 'refuge': 362,\n",
              " 'half': 363,\n",
              " 'violent': 364,\n",
              " 'total': 365,\n",
              " 'ruin': 366,\n",
              " 'troubl': 367,\n",
              " 'stay': 368,\n",
              " 'rescuer': 369,\n",
              " 'job': 370,\n",
              " 'babi': 371,\n",
              " 'word': 372,\n",
              " 'blown': 373,\n",
              " 'curfew': 374,\n",
              " 'white': 375,\n",
              " 'least': 376,\n",
              " 'possibl': 377,\n",
              " 'search': 378,\n",
              " 'swallow': 379,\n",
              " 'e': 380,\n",
              " 'displac': 381,\n",
              " 'engulf': 382,\n",
              " 'oh': 383,\n",
              " 'place': 384,\n",
              " 'tsunami': 385,\n",
              " 'plane': 386,\n",
              " 'ship': 387,\n",
              " 'hundr': 388,\n",
              " 'thought': 389,\n",
              " 'saw': 390,\n",
              " 'better': 391,\n",
              " 'horribl': 392,\n",
              " 'ban': 393,\n",
              " 'lava': 394,\n",
              " 'pandemonium': 395,\n",
              " 'unit': 396,\n",
              " 'ladi': 397,\n",
              " 'woman': 398,\n",
              " 'phone': 399,\n",
              " 'tragedi': 400,\n",
              " 'trauma': 401,\n",
              " 'self': 402,\n",
              " 'rd': 403,\n",
              " 'music': 404,\n",
              " 'actual': 405,\n",
              " 'abc': 406,\n",
              " 'landslid': 407,\n",
              " 'famin': 408,\n",
              " 'reunion': 409,\n",
              " 'tell': 410,\n",
              " 'flatten': 411,\n",
              " 'mean': 412,\n",
              " 'meltdown': 413,\n",
              " 'mosqu': 414,\n",
              " 'countri': 415,\n",
              " 'massacr': 416,\n",
              " 'bang': 417,\n",
              " 'blast': 418,\n",
              " 'traffic': 419,\n",
              " 'believ': 420,\n",
              " 'peac': 421,\n",
              " 'bleed': 422,\n",
              " 'wanna': 423,\n",
              " 'someth': 424,\n",
              " 'came': 425,\n",
              " 'tomorrow': 426,\n",
              " 'men': 427,\n",
              " 'rainstorm': 428,\n",
              " 'prebreak': 429,\n",
              " 'fedex': 430,\n",
              " 'twitter': 431,\n",
              " 'heard': 432,\n",
              " 'media': 433,\n",
              " 'whirlwind': 434,\n",
              " 'deal': 435,\n",
              " 'airport': 436,\n",
              " 'soon': 437,\n",
              " 'cyclon': 438,\n",
              " 'fun': 439,\n",
              " 'find': 440,\n",
              " 'shoot': 441,\n",
              " 'gun': 442,\n",
              " 'calgari': 443,\n",
              " 'volcano': 444,\n",
              " 'anniversari': 445,\n",
              " 'final': 446,\n",
              " 'secur': 447,\n",
              " 'intern': 448,\n",
              " 'america': 449,\n",
              " 'boat': 450,\n",
              " 'cool': 451,\n",
              " 'give': 452,\n",
              " 'memori': 453,\n",
              " 'stand': 454,\n",
              " 'book': 455,\n",
              " 'longer': 456,\n",
              " 'offens': 457,\n",
              " 'mudslid': 458,\n",
              " 'ur': 459,\n",
              " 'beauti': 460,\n",
              " 'group': 461,\n",
              " 'second': 462,\n",
              " 'isra': 463,\n",
              " 'support': 464,\n",
              " 'hellfir': 465,\n",
              " 'project': 466,\n",
              " 'street': 467,\n",
              " 'past': 468,\n",
              " 'american': 469,\n",
              " 'forc': 470,\n",
              " 'eyewit': 471,\n",
              " 'ebay': 472,\n",
              " 'song': 473,\n",
              " 'alreadi': 474,\n",
              " 'km': 475,\n",
              " 'talk': 476,\n",
              " 'expect': 477,\n",
              " 'polici': 478,\n",
              " 'goe': 479,\n",
              " 'wonder': 480,\n",
              " 'nigga': 481,\n",
              " 'pkk': 482,\n",
              " 'went': 483,\n",
              " 'shoulder': 484,\n",
              " 'north': 485,\n",
              " 'rise': 486,\n",
              " 'walk': 487,\n",
              " 'insur': 488,\n",
              " 'hold': 489,\n",
              " 'link': 490,\n",
              " 'due': 491,\n",
              " 'control': 492,\n",
              " 'panick': 493,\n",
              " 'tweet': 494,\n",
              " 'star': 495,\n",
              " 'hear': 496,\n",
              " 'listen': 497,\n",
              " 'sure': 498,\n",
              " 'reason': 499,\n",
              " 'isi': 500,\n",
              " 'ask': 501,\n",
              " 'tv': 502,\n",
              " 'rubbl': 503,\n",
              " 'wake': 504,\n",
              " 'lab': 505,\n",
              " 'blew': 506,\n",
              " 'level': 507,\n",
              " 'reactor': 508,\n",
              " 'south': 509,\n",
              " 'traumatis': 510,\n",
              " 'india': 511,\n",
              " 'name': 512,\n",
              " 'must': 513,\n",
              " 'share': 514,\n",
              " 'christian': 515,\n",
              " 'la': 516,\n",
              " 'month': 517,\n",
              " 'arson': 518,\n",
              " 'mp': 519,\n",
              " 'noth': 520,\n",
              " 'snowstorm': 521,\n",
              " 'hate': 522,\n",
              " 'line': 523,\n",
              " 'action': 524,\n",
              " 'insid': 525,\n",
              " 'sue': 526,\n",
              " 'bush': 527,\n",
              " 'turkey': 528,\n",
              " 'dog': 529,\n",
              " 'rock': 530,\n",
              " 'pakistan': 531,\n",
              " 'act': 532,\n",
              " 'victim': 533,\n",
              " 'imag': 534,\n",
              " 'flag': 535,\n",
              " 'ye': 536,\n",
              " 'far': 537,\n",
              " 'manslaught': 538,\n",
              " 'win': 539,\n",
              " 'case': 540,\n",
              " 'team': 541,\n",
              " 'bring': 542,\n",
              " 'happi': 543,\n",
              " 'done': 544,\n",
              " 'seismic': 545,\n",
              " 'lie': 546,\n",
              " 'nearbi': 547,\n",
              " 'human': 548,\n",
              " 'helicopt': 549,\n",
              " 'special': 550,\n",
              " 'gener': 551,\n",
              " 'brown': 552,\n",
              " 'activ': 553,\n",
              " 'blizzard': 554,\n",
              " 'site': 555,\n",
              " 'block': 556,\n",
              " 'muslim': 557,\n",
              " 'health': 558,\n",
              " 'mark': 559,\n",
              " 'hand': 560,\n",
              " 'crew': 561,\n",
              " 'yet': 562,\n",
              " 'aug': 563,\n",
              " 'soudelor': 564,\n",
              " 'ablaz': 565,\n",
              " 'almost': 566,\n",
              " 'side': 567,\n",
              " 'horror': 568,\n",
              " 'river': 569,\n",
              " 'aircraft': 570,\n",
              " 'lt': 571,\n",
              " 'fast': 572,\n",
              " 'bar': 573,\n",
              " 'avalanch': 574,\n",
              " 'cover': 575,\n",
              " 'center': 576,\n",
              " 'demolit': 577,\n",
              " 'claim': 578,\n",
              " 'comput': 579,\n",
              " 'hat': 580,\n",
              " 'transport': 581,\n",
              " 'child': 582,\n",
              " 'public': 583,\n",
              " 'moment': 584,\n",
              " 'co': 585,\n",
              " 'lead': 586,\n",
              " 'saipan': 587,\n",
              " 'ago': 588,\n",
              " 'nowplay': 589,\n",
              " 'k': 590,\n",
              " 'yeah': 591,\n",
              " 'ad': 592,\n",
              " 'expert': 593,\n",
              " 'becom': 594,\n",
              " 'complet': 595,\n",
              " 'stretcher': 596,\n",
              " 'respons': 597,\n",
              " 'problem': 598,\n",
              " 'data': 599,\n",
              " 'miner': 600,\n",
              " 'wrong': 601,\n",
              " 'learn': 602,\n",
              " 'sit': 603,\n",
              " 'film': 604,\n",
              " 'blue': 605,\n",
              " 'vehicl': 606,\n",
              " 'low': 607,\n",
              " 'prepar': 608,\n",
              " 'morn': 609,\n",
              " 'outsid': 610,\n",
              " 'conclus': 611,\n",
              " 'hell': 612,\n",
              " 'heavi': 613,\n",
              " 'histori': 614,\n",
              " 'utc': 615,\n",
              " 'bestnaijamad': 616,\n",
              " 'point': 617,\n",
              " 'mom': 618,\n",
              " 'interest': 619,\n",
              " 'damn': 620,\n",
              " 'pay': 621,\n",
              " 'fukushima': 622,\n",
              " 'radio': 623,\n",
              " 'handbag': 624,\n",
              " 'arsonist': 625,\n",
              " 'firefight': 626,\n",
              " 'uk': 627,\n",
              " 'begin': 628,\n",
              " 'mount': 629,\n",
              " 'okay': 630,\n",
              " 'number': 631,\n",
              " 'mountain': 632,\n",
              " 'probabl': 633,\n",
              " 'major': 634,\n",
              " 'million': 635,\n",
              " 'art': 636,\n",
              " 'space': 637,\n",
              " 'emot': 638,\n",
              " 'result': 639,\n",
              " 'nearli': 640,\n",
              " 'three': 641,\n",
              " 'giant': 642,\n",
              " 'tree': 643,\n",
              " 'class': 644,\n",
              " 'hollywood': 645,\n",
              " 'liter': 646,\n",
              " 'lost': 647,\n",
              " 'rule': 648,\n",
              " 'children': 649,\n",
              " 'texa': 650,\n",
              " 'spot': 651,\n",
              " 'blight': 652,\n",
              " 'camp': 653,\n",
              " 'daili': 654,\n",
              " 'anyth': 655,\n",
              " 'secret': 656,\n",
              " 'trench': 657,\n",
              " 'park': 658,\n",
              " 'track': 659,\n",
              " 'bbc': 660,\n",
              " 'test': 661,\n",
              " 'flash': 662,\n",
              " 'crazi': 663,\n",
              " 'mayb': 664,\n",
              " 'templ': 665,\n",
              " 'taken': 666,\n",
              " 'cnn': 667,\n",
              " 'bigger': 668,\n",
              " 'seen': 669,\n",
              " 'anim': 670,\n",
              " 'might': 671,\n",
              " 'town': 672,\n",
              " 'cours': 673,\n",
              " 'compani': 674,\n",
              " 'alarm': 675,\n",
              " 'thousand': 676,\n",
              " 'huge': 677,\n",
              " 'ball': 678,\n",
              " 'cop': 679,\n",
              " 'entir': 680,\n",
              " 'caught': 681,\n",
              " 'upheav': 682,\n",
              " 'alon': 683,\n",
              " 'v': 684,\n",
              " 'comment': 685,\n",
              " 'trust': 686,\n",
              " 'gem': 687,\n",
              " 'though': 688,\n",
              " 'strike': 689,\n",
              " 'villag': 690,\n",
              " 'review': 691,\n",
              " 'money': 692,\n",
              " 'emmerdal': 693,\n",
              " 'diseas': 694,\n",
              " 'milit': 695,\n",
              " 'usa': 696,\n",
              " 'drink': 697,\n",
              " 'anyon': 698,\n",
              " 'dr': 699,\n",
              " 'date': 700,\n",
              " 'g': 701,\n",
              " 'avoid': 702,\n",
              " 'wow': 703,\n",
              " 'chicago': 704,\n",
              " 'properti': 705,\n",
              " 'allow': 706,\n",
              " 'join': 707,\n",
              " 'centr': 708,\n",
              " 'thursday': 709,\n",
              " 'aftershock': 710,\n",
              " 'coach': 711,\n",
              " 'onlin': 712,\n",
              " 'cri': 713,\n",
              " 'bc': 714,\n",
              " 'hey': 715,\n",
              " 'drake': 716,\n",
              " 'everyth': 717,\n",
              " 'seek': 718,\n",
              " 'amid': 719,\n",
              " 'favorit': 720,\n",
              " 'pretti': 721,\n",
              " 'sea': 722,\n",
              " 'pilot': 723,\n",
              " 'flight': 724,\n",
              " 'polit': 725,\n",
              " 'across': 726,\n",
              " 'record': 727,\n",
              " 'anthrax': 728,\n",
              " 'mishap': 729,\n",
              " 'appear': 730,\n",
              " 'leather': 731,\n",
              " 'member': 732,\n",
              " 'worst': 733,\n",
              " 'enjoy': 734,\n",
              " 'meet': 735,\n",
              " 'scare': 736,\n",
              " 'poor': 737,\n",
              " 'truth': 738,\n",
              " 'pamela': 739,\n",
              " 'lord': 740,\n",
              " 'refugio': 741,\n",
              " 'costlier': 742,\n",
              " 'mention': 743,\n",
              " 'dont': 744,\n",
              " 'worri': 745,\n",
              " 'scene': 746,\n",
              " 'toddler': 747,\n",
              " 'drop': 748,\n",
              " 'hors': 749,\n",
              " 'buy': 750,\n",
              " 'beach': 751,\n",
              " 'extrem': 752,\n",
              " 'occur': 753,\n",
              " 'sorri': 754,\n",
              " 'em': 755,\n",
              " 'career': 756,\n",
              " 'bayelsa': 757,\n",
              " 'patienc': 758,\n",
              " 'franc': 759,\n",
              " 'nagasaki': 760,\n",
              " 'russia': 761,\n",
              " 'hailstorm': 762,\n",
              " 'meek': 763,\n",
              " 'global': 764,\n",
              " 'arriv': 765,\n",
              " 'sky': 766,\n",
              " 'creat': 767,\n",
              " 'captur': 768,\n",
              " 'readi': 769,\n",
              " 'hero': 770,\n",
              " 'disea': 771,\n",
              " 'nd': 772,\n",
              " 'subreddit': 773,\n",
              " 'front': 774,\n",
              " 'cake': 775,\n",
              " 'pray': 776,\n",
              " 'east': 777,\n",
              " 'indian': 778,\n",
              " 'shift': 779,\n",
              " 'continu': 780,\n",
              " 'event': 781,\n",
              " 'quiz': 782,\n",
              " 'york': 783,\n",
              " 'travel': 784,\n",
              " 'soul': 785,\n",
              " 'virgin': 786,\n",
              " 'pass': 787,\n",
              " 'deliv': 788,\n",
              " 'geller': 789,\n",
              " 'direct': 790,\n",
              " 'view': 791,\n",
              " 'civilian': 792,\n",
              " 'question': 793,\n",
              " 'chanc': 794,\n",
              " 'l': 795,\n",
              " 'owner': 796,\n",
              " 'beat': 797,\n",
              " 'mayhem': 798,\n",
              " 'ca': 799,\n",
              " 'australia': 800,\n",
              " 'info': 801,\n",
              " 'rate': 802,\n",
              " 'manag': 803,\n",
              " 'escap': 804,\n",
              " 'grow': 805,\n",
              " 'green': 806,\n",
              " 'risk': 807,\n",
              " 'coupl': 808,\n",
              " 'differ': 809,\n",
              " 'passeng': 810,\n",
              " 'theater': 811,\n",
              " 'awesom': 812,\n",
              " 'reuter': 813,\n",
              " 'west': 814,\n",
              " 'sport': 815,\n",
              " 'downtown': 816,\n",
              " 'gbbo': 817,\n",
              " 'user': 818,\n",
              " 'guid': 819,\n",
              " 'funtenna': 820,\n",
              " 'germ': 821,\n",
              " 'bed': 822,\n",
              " 'arrest': 823,\n",
              " 'cut': 824,\n",
              " 'board': 825,\n",
              " 'russian': 826,\n",
              " 'danc': 827,\n",
              " 'british': 828,\n",
              " 'threat': 829,\n",
              " 'london': 830,\n",
              " 'galact': 831,\n",
              " 'mind': 832,\n",
              " 'singl': 833,\n",
              " 'cdt': 834,\n",
              " 'download': 835,\n",
              " 'pile': 836,\n",
              " 'vs': 837,\n",
              " 'till': 838,\n",
              " 'hard': 839,\n",
              " 'pain': 840,\n",
              " 'spring': 841,\n",
              " 'disney': 842,\n",
              " 'seri': 843,\n",
              " 'wednesday': 844,\n",
              " 'list': 845,\n",
              " 'sex': 846,\n",
              " 'youth': 847,\n",
              " 'omg': 848,\n",
              " 'base': 849,\n",
              " 'els': 850,\n",
              " 'fashion': 851,\n",
              " 'involv': 852,\n",
              " 'hire': 853,\n",
              " 'ancient': 854,\n",
              " 'colorado': 855,\n",
              " 'cost': 856,\n",
              " 'f': 857,\n",
              " 'former': 858,\n",
              " 'young': 859,\n",
              " 'fact': 860,\n",
              " 'israel': 861,\n",
              " 'carri': 862,\n",
              " 'mad': 863,\n",
              " 'understand': 864,\n",
              " 'chile': 865,\n",
              " 'ignit': 866,\n",
              " 'knock': 867,\n",
              " 'mph': 868,\n",
              " 'larg': 869,\n",
              " 'cat': 870,\n",
              " 'sick': 871,\n",
              " 'pack': 872,\n",
              " 'mine': 873,\n",
              " 'govt': 874,\n",
              " 'nw': 875,\n",
              " 'ground': 876,\n",
              " 'other': 877,\n",
              " 'parti': 878,\n",
              " 'instead': 879,\n",
              " 'exchang': 880,\n",
              " 'depart': 881,\n",
              " 'wed': 882,\n",
              " 'earth': 883,\n",
              " 'idea': 884,\n",
              " 'stage': 885,\n",
              " 'dude': 886,\n",
              " 'remov': 887,\n",
              " 'angri': 888,\n",
              " 'crisi': 889,\n",
              " 'libya': 890,\n",
              " 'local': 891,\n",
              " 'sun': 892,\n",
              " 'piec': 893,\n",
              " 'oper': 894,\n",
              " 'ahead': 895,\n",
              " 'guess': 896,\n",
              " 'ga': 897,\n",
              " 'short': 898,\n",
              " 'wors': 899,\n",
              " 'press': 900,\n",
              " 'upon': 901,\n",
              " 'target': 902,\n",
              " 'told': 903,\n",
              " 'pull': 904,\n",
              " 'album': 905,\n",
              " 'dad': 906,\n",
              " 'glad': 907,\n",
              " 'washington': 908,\n",
              " 'commun': 909,\n",
              " 'sunday': 910,\n",
              " 'gave': 911,\n",
              " 'ice': 912,\n",
              " 'agre': 913,\n",
              " 'africa': 914,\n",
              " 'rip': 915,\n",
              " 'rli': 916,\n",
              " 'alabama': 917,\n",
              " 'jonathan': 918,\n",
              " 'inform': 919,\n",
              " 'oklahoma': 920,\n",
              " 'sensor': 921,\n",
              " 'kick': 922,\n",
              " 'map': 923,\n",
              " 'driver': 924,\n",
              " 'mode': 925,\n",
              " 'super': 926,\n",
              " 'led': 927,\n",
              " 'middl': 928,\n",
              " 'biggest': 929,\n",
              " 'account': 930,\n",
              " 'vote': 931,\n",
              " 'answer': 932,\n",
              " 'student': 933,\n",
              " 'return': 934,\n",
              " 'king': 935,\n",
              " 'ap': 936,\n",
              " 'standard': 937,\n",
              " 'killer': 938,\n",
              " 'absolut': 939,\n",
              " 'small': 940,\n",
              " 'unconfirm': 941,\n",
              " 'neighbour': 942,\n",
              " 'david': 943,\n",
              " 'season': 944,\n",
              " 'funni': 945,\n",
              " 'nigerian': 946,\n",
              " 'tote': 947,\n",
              " 'author': 948,\n",
              " 'michael': 949,\n",
              " 'so': 950,\n",
              " 'climat': 951,\n",
              " 'includ': 952,\n",
              " 'ppl': 953,\n",
              " 'research': 954,\n",
              " 'behind': 955,\n",
              " 'quot': 956,\n",
              " 'parent': 957,\n",
              " 'gop': 958,\n",
              " 'court': 959,\n",
              " 'examin': 960,\n",
              " 'cabl': 961,\n",
              " 'silver': 962,\n",
              " 'teen': 963,\n",
              " 'roll': 964,\n",
              " 'angel': 965,\n",
              " 'dark': 966,\n",
              " 'petit': 967,\n",
              " 'apollo': 968,\n",
              " 'playlist': 969,\n",
              " 'dream': 970,\n",
              " 'door': 971,\n",
              " 'parol': 972,\n",
              " 'crime': 973,\n",
              " 'aba': 974,\n",
              " 'apc': 975,\n",
              " 'reach': 976,\n",
              " 'togeth': 977,\n",
              " 'h': 978,\n",
              " 'coast': 979,\n",
              " 'bitch': 980,\n",
              " 'pre': 981,\n",
              " 'felt': 982,\n",
              " 'sleep': 983,\n",
              " 'struggl': 984,\n",
              " 'pakistani': 985,\n",
              " 'weekend': 986,\n",
              " 'lamp': 987,\n",
              " 'popul': 988,\n",
              " 'gay': 989,\n",
              " 'earli': 990,\n",
              " 'room': 991,\n",
              " 'true': 992,\n",
              " 'tear': 993,\n",
              " 'financi': 994,\n",
              " 'friday': 995,\n",
              " 'charact': 996,\n",
              " 'richmond': 997,\n",
              " 'mod': 998,\n",
              " 'amazon': 999,\n",
              " 'salt': 1000,\n",
              " ...}"
            ]
          },
          "metadata": {
            "tags": []
          },
          "execution_count": 37
        }
      ]
    },
    {
      "cell_type": "code",
      "metadata": {
        "colab": {
          "base_uri": "https://localhost:8080/"
        },
        "id": "vIy4p8IW_ocv",
        "outputId": "2e17a570-e2a3-47be-bb84-1a388cbfc090"
      },
      "source": [
        "embedding_matrix"
      ],
      "execution_count": 38,
      "outputs": [
        {
          "output_type": "execute_result",
          "data": {
            "text/plain": [
              "array([[0., 0., 0., ..., 0., 0., 0.],\n",
              "       [0., 0., 0., ..., 0., 0., 0.],\n",
              "       [0., 0., 0., ..., 0., 0., 0.],\n",
              "       ...,\n",
              "       [0., 0., 0., ..., 0., 0., 0.],\n",
              "       [0., 0., 0., ..., 0., 0., 0.],\n",
              "       [0., 0., 0., ..., 0., 0., 0.]])"
            ]
          },
          "metadata": {
            "tags": []
          },
          "execution_count": 38
        }
      ]
    },
    {
      "cell_type": "markdown",
      "metadata": {
        "id": "pzUo7XJXKKtB"
      },
      "source": [
        "### Embedding Layer"
      ]
    },
    {
      "cell_type": "code",
      "metadata": {
        "id": "r5-lxOTFKI2n"
      },
      "source": [
        "import tensorflow as tf\n",
        "\n",
        "embedding_layer = tf.keras.layers.Embedding(vocab_size,\n",
        "                                          embedding_dims,\n",
        "                                          weights=[embedding_matrix],\n",
        "                                          input_length=max_len,\n",
        "                                          trainable=False)"
      ],
      "execution_count": 39,
      "outputs": []
    },
    {
      "cell_type": "markdown",
      "metadata": {
        "id": "QRvcu6HP9CgT"
      },
      "source": [
        "### LSTM-Modeling"
      ]
    },
    {
      "cell_type": "markdown",
      "metadata": {
        "id": "GH7MtiSPLxdy"
      },
      "source": [
        "We are clear to build our Deep Learning model. While developing a DL model, we should keep in mind of key things like Model Architecture, Hyperparmeter Tuning and Performance of the model.\n",
        "\n",
        "As you can see in the word cloud, the some words are predominantly feature in both Positive and Negative tweets. This could be a problem if we are using a Machine Learning model like Naive Bayes, SVD, etc.. That's why we use Sequence Models."
      ]
    },
    {
      "cell_type": "markdown",
      "metadata": {
        "id": "i3EUR3GZL6fn"
      },
      "source": [
        "Reccurent Neural Networks can handle a seqence of data and learn a pattern of input seqence to give either sequence or scalar value as output. In our case, the Neural Network outputs a scalar value prediction.\n",
        "\n",
        "For model architecture, we use\n",
        "\n",
        "1) **Embedding Layer** - Generates Embedding Vector for each input sequence.\n",
        "\n",
        "2) **Conv1D Laye**r - Its using to convolve data into smaller feature vectors.\n",
        "\n",
        "3) **LSTM** - Long Short Term Memory, its a variant of RNN which has memory state cell to learn the context of words which are at further along the text to carry contextual meaning rather than just neighbouring words as in case of RNN.\n",
        "\n",
        "4) **Dense** - Fully Connected Layers for classification"
      ]
    },
    {
      "cell_type": "code",
      "metadata": {
        "id": "C-35urg3i3kQ"
      },
      "source": [
        "from tensorflow.keras.layers import Conv1D, Bidirectional, LSTM, Dense, Input, Dropout\n",
        "from tensorflow.keras.layers import SpatialDropout1D\n",
        "from tensorflow.keras.callbacks import ModelCheckpoint"
      ],
      "execution_count": 40,
      "outputs": []
    },
    {
      "cell_type": "code",
      "metadata": {
        "colab": {
          "base_uri": "https://localhost:8080/"
        },
        "id": "f17JhAx164dR",
        "outputId": "d4b4785a-0f8c-4aea-ab02-34bb7a0d4101"
      },
      "source": [
        "sequence_input = Input(shape=(max_len,), dtype='int32')\n",
        "embedding_sequences = embedding_layer(sequence_input)\n",
        "x = SpatialDropout1D(0.2)(embedding_sequences)\n",
        "x = Conv1D(64, 5, activation='relu')(x)\n",
        "x = Bidirectional(LSTM(64, dropout=0.2, recurrent_dropout=0.2))(x)\n",
        "x = Dense(512, activation='relu')(x)\n",
        "x = Dropout(0.5)(x)\n",
        "x = Dense(512, activation='relu')(x)\n",
        "outputs = Dense(1, activation='sigmoid')(x)\n",
        "model = tf.keras.Model(sequence_input, outputs)"
      ],
      "execution_count": 41,
      "outputs": [
        {
          "output_type": "stream",
          "text": [
            "WARNING:tensorflow:Layer lstm will not use cuDNN kernel since it doesn't meet the cuDNN kernel criteria. It will use generic GPU kernel as fallback when running on GPU\n",
            "WARNING:tensorflow:Layer lstm will not use cuDNN kernel since it doesn't meet the cuDNN kernel criteria. It will use generic GPU kernel as fallback when running on GPU\n",
            "WARNING:tensorflow:Layer lstm will not use cuDNN kernel since it doesn't meet the cuDNN kernel criteria. It will use generic GPU kernel as fallback when running on GPU\n"
          ],
          "name": "stdout"
        }
      ]
    },
    {
      "cell_type": "markdown",
      "metadata": {
        "id": "GsyHuPXYNWWP"
      },
      "source": [
        "### Compile the Model"
      ]
    },
    {
      "cell_type": "code",
      "metadata": {
        "colab": {
          "base_uri": "https://localhost:8080/"
        },
        "id": "AZ-yIkDeQxuc",
        "outputId": "664a0865-3f1e-4827-e3ba-419f709d770b"
      },
      "source": [
        "model.summary()"
      ],
      "execution_count": 42,
      "outputs": [
        {
          "output_type": "stream",
          "text": [
            "Model: \"model\"\n",
            "_________________________________________________________________\n",
            "Layer (type)                 Output Shape              Param #   \n",
            "=================================================================\n",
            "input_1 (InputLayer)         [(None, 30)]              0         \n",
            "_________________________________________________________________\n",
            "embedding (Embedding)        (None, 30, 100)           1143300   \n",
            "_________________________________________________________________\n",
            "spatial_dropout1d (SpatialDr (None, 30, 100)           0         \n",
            "_________________________________________________________________\n",
            "conv1d (Conv1D)              (None, 26, 64)            32064     \n",
            "_________________________________________________________________\n",
            "bidirectional (Bidirectional (None, 128)               66048     \n",
            "_________________________________________________________________\n",
            "dense (Dense)                (None, 512)               66048     \n",
            "_________________________________________________________________\n",
            "dropout (Dropout)            (None, 512)               0         \n",
            "_________________________________________________________________\n",
            "dense_1 (Dense)              (None, 512)               262656    \n",
            "_________________________________________________________________\n",
            "dense_2 (Dense)              (None, 1)                 513       \n",
            "=================================================================\n",
            "Total params: 1,570,629\n",
            "Trainable params: 427,329\n",
            "Non-trainable params: 1,143,300\n",
            "_________________________________________________________________\n"
          ],
          "name": "stdout"
        }
      ]
    },
    {
      "cell_type": "code",
      "metadata": {
        "id": "L9eCknWpQxwx"
      },
      "source": [
        "from tensorflow.keras.optimizers import Adam\n",
        "from tensorflow.keras.callbacks import ReduceLROnPlateau\n",
        "LR = 1e-5\n",
        "\n",
        "\n",
        "model.compile(optimizer=Adam(learning_rate=LR), loss='binary_crossentropy',\n",
        "              metrics=['accuracy'])\n",
        "ReduceLROnPlateau = ReduceLROnPlateau(factor=0.01,\n",
        "                                     min_lr = 0.001,\n",
        "                                     monitor = 'val_loss',\n",
        "                                     verbose = 1)"
      ],
      "execution_count": 43,
      "outputs": []
    },
    {
      "cell_type": "code",
      "metadata": {
        "id": "xkvNuWNrR5oT"
      },
      "source": [
        "y_train = y_train.values.reshape(-1,1)\n",
        "y_test = y_test.values.reshape(-1,1)"
      ],
      "execution_count": 44,
      "outputs": []
    },
    {
      "cell_type": "code",
      "metadata": {
        "id": "sFyY7zhcazXn",
        "outputId": "e891eb19-1fbf-40b8-9329-24a87dfb4fba",
        "colab": {
          "base_uri": "https://localhost:8080/"
        }
      },
      "source": [
        "print(y_train.shape)"
      ],
      "execution_count": 45,
      "outputs": [
        {
          "output_type": "stream",
          "text": [
            "(6090, 1)\n"
          ],
          "name": "stdout"
        }
      ]
    },
    {
      "cell_type": "code",
      "metadata": {
        "colab": {
          "base_uri": "https://localhost:8080/"
        },
        "id": "H0OucmszQx0w",
        "outputId": "06097f16-dd89-4529-e811-43022667b162"
      },
      "source": [
        "print(\"Training on GPU...\") if tf.test.is_gpu_available() else print(\"Training on CPU...\")"
      ],
      "execution_count": 46,
      "outputs": [
        {
          "output_type": "stream",
          "text": [
            "WARNING:tensorflow:From <ipython-input-46-d4a4e34b7f9f>:1: is_gpu_available (from tensorflow.python.framework.test_util) is deprecated and will be removed in a future version.\n",
            "Instructions for updating:\n",
            "Use `tf.config.list_physical_devices('GPU')` instead.\n",
            "Training on GPU...\n"
          ],
          "name": "stdout"
        }
      ]
    },
    {
      "cell_type": "code",
      "metadata": {
        "colab": {
          "base_uri": "https://localhost:8080/"
        },
        "id": "19zz5uNBQx2H",
        "outputId": "ce3e8f66-4d3b-4203-b7e5-ccaef718336e"
      },
      "source": [
        "BATCH_SIZE=512\n",
        "EPOCHS=10\n",
        "history = model.fit(train_pad, y_train, batch_size=BATCH_SIZE, epochs=EPOCHS,\n",
        "                    validation_data=(test_pad, y_test), callbacks=[ReduceLROnPlateau])"
      ],
      "execution_count": 47,
      "outputs": [
        {
          "output_type": "stream",
          "text": [
            "Epoch 1/10\n",
            "12/12 [==============================] - 10s 293ms/step - loss: 0.6931 - accuracy: 0.5702 - val_loss: 0.6931 - val_accuracy: 0.5706\n",
            "Epoch 2/10\n",
            "12/12 [==============================] - 3s 219ms/step - loss: 0.6931 - accuracy: 0.5643 - val_loss: 0.6931 - val_accuracy: 0.5706\n",
            "Epoch 3/10\n",
            "12/12 [==============================] - 3s 226ms/step - loss: 0.6931 - accuracy: 0.5688 - val_loss: 0.6931 - val_accuracy: 0.5706\n",
            "Epoch 4/10\n",
            "12/12 [==============================] - 3s 211ms/step - loss: 0.6931 - accuracy: 0.5759 - val_loss: 0.6931 - val_accuracy: 0.5706\n",
            "Epoch 5/10\n",
            "12/12 [==============================] - 3s 216ms/step - loss: 0.6931 - accuracy: 0.5654 - val_loss: 0.6931 - val_accuracy: 0.5706\n",
            "Epoch 6/10\n",
            "12/12 [==============================] - 3s 211ms/step - loss: 0.6931 - accuracy: 0.5666 - val_loss: 0.6931 - val_accuracy: 0.5706\n",
            "Epoch 7/10\n",
            "12/12 [==============================] - 2s 210ms/step - loss: 0.6931 - accuracy: 0.5667 - val_loss: 0.6931 - val_accuracy: 0.5706\n",
            "Epoch 8/10\n",
            "12/12 [==============================] - 3s 233ms/step - loss: 0.6931 - accuracy: 0.5651 - val_loss: 0.6931 - val_accuracy: 0.5706\n",
            "Epoch 9/10\n",
            "12/12 [==============================] - 3s 208ms/step - loss: 0.6931 - accuracy: 0.5678 - val_loss: 0.6931 - val_accuracy: 0.5706\n",
            "Epoch 10/10\n",
            "12/12 [==============================] - 2s 205ms/step - loss: 0.6931 - accuracy: 0.5807 - val_loss: 0.6931 - val_accuracy: 0.5706\n"
          ],
          "name": "stdout"
        }
      ]
    },
    {
      "cell_type": "code",
      "metadata": {
        "id": "pJKzbk6aQx5n"
      },
      "source": [
        ""
      ],
      "execution_count": 47,
      "outputs": []
    },
    {
      "cell_type": "code",
      "metadata": {
        "id": "OwBKIcLgQx7P"
      },
      "source": [
        ""
      ],
      "execution_count": 47,
      "outputs": []
    },
    {
      "cell_type": "code",
      "metadata": {
        "id": "KomeUwFUQx-1"
      },
      "source": [
        ""
      ],
      "execution_count": 47,
      "outputs": []
    }
  ]
}